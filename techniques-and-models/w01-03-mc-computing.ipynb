{
 "cells": [
  {
   "cell_type": "markdown",
   "metadata": {},
   "source": [
    "# Monte Carlo Estimation: Computing Examples\n",
    "\n",
    "Python versions of examples covered in this video in week 1, lesson 3.\n",
    "\n",
    "Note that these examples are illustrative, you don't really need to simulate these distributions since analytical solutions are readily available. However, there exists distributions for which analytical solutions are not available and where Monte Carlo techniques are needed."
   ]
  },
  {
   "cell_type": "code",
   "execution_count": 1,
   "metadata": {},
   "outputs": [],
   "source": [
    "import matplotlib.pyplot as plt\n",
    "import numpy as np\n",
    "import scipy.stats as stats\n",
    "%matplotlib inline"
   ]
  },
  {
   "cell_type": "markdown",
   "metadata": {},
   "source": [
    "## Initialize Random Number Generator\n",
    "\n",
    "So we can replicate the results across multiple runs."
   ]
  },
  {
   "cell_type": "code",
   "execution_count": 2,
   "metadata": {},
   "outputs": [],
   "source": [
    "np.random.seed(32)"
   ]
  },
  {
   "cell_type": "markdown",
   "metadata": {},
   "source": [
    "## Example 1\n",
    "\n",
    "Assume a random variable $\\theta$ that follows a Gamma distribution with parameters a=2 and b=1/3. This Gamma distribution could represent the posterior distribution for $\\theta$ if the data came from a Poisson distribution with mean $\\theta$ and if we had used the conjugate Gamma prior.\n",
    "\n",
    "### Generate samples from posterior"
   ]
  },
  {
   "cell_type": "code",
   "execution_count": 3,
   "metadata": {},
   "outputs": [],
   "source": [
    "m = 100\n",
    "a, b = 2, 1/3\n",
    "theta = stats.gamma.rvs(a, scale=(1/b), size=m)"
   ]
  },
  {
   "cell_type": "markdown",
   "metadata": {},
   "source": [
    "### Estimated vs True values"
   ]
  },
  {
   "cell_type": "code",
   "execution_count": 4,
   "metadata": {},
   "outputs": [
    {
     "data": {
      "image/png": "[encoded data removed]",
      "text/plain": [
       "<Figure size 432x288 with 1 Axes>"
      ]
     },
     "metadata": {
      "needs_background": "light"
     },
     "output_type": "display_data"
    }
   ],
   "source": [
    "plt.hist(theta, density=True, label=\"estimated\")\n",
    "xs = np.arange(np.min(theta), np.max(theta), 0.1)\n",
    "plt.plot(xs, stats.gamma.pdf(xs, a, scale=(1/b)), color=\"r\", label=\"true\")\n",
    "plt.legend(loc=\"best\")\n",
    "plt.show()"
   ]
  },
  {
   "cell_type": "code",
   "execution_count": 5,
   "metadata": {},
   "outputs": [
    {
     "name": "stdout",
     "output_type": "stream",
     "text": [
      "estimated mean: 6.97022, variance: 27.57980\n",
      "     true mean: 6.00000, variance: 18.00000\n"
     ]
    }
   ],
   "source": [
    "mean_est = np.mean(theta)\n",
    "mean_true = a / b\n",
    "var_est = np.var(theta)\n",
    "var_true = a / (b ** 2)\n",
    "print(\"estimated mean: {:.5f}, variance: {:.5f}\".format(mean_est, var_est))\n",
    "print(\"     true mean: {:.5f}, variance: {:.5f}\".format(mean_true, var_true))"
   ]
  },
  {
   "cell_type": "markdown",
   "metadata": {},
   "source": [
    "### Increase m for better estimate"
   ]
  },
  {
   "cell_type": "code",
   "execution_count": 6,
   "metadata": {},
   "outputs": [
    {
     "name": "stdout",
     "output_type": "stream",
     "text": [
      "estimated mean: 6.08270, variance: 18.59604\n",
      "     true mean: 6.00000, variance: 18.00000\n"
     ]
    }
   ],
   "source": [
    "m = 10000\n",
    "theta = stats.gamma.rvs(a, scale=(1/b), size=m)\n",
    "mean_est = np.mean(theta)\n",
    "mean_true = a / b\n",
    "var_est = np.var(theta)\n",
    "var_true = a / (b ** 2)\n",
    "print(\"estimated mean: {:.5f}, variance: {:.5f}\".format(mean_est, var_est))\n",
    "print(\"     true mean: {:.5f}, variance: {:.5f}\".format(mean_true, var_true))"
   ]
  },
  {
   "cell_type": "markdown",
   "metadata": {},
   "source": [
    "### Probability that $\\theta$ < 5"
   ]
  },
  {
   "cell_type": "code",
   "execution_count": 7,
   "metadata": {},
   "outputs": [
    {
     "name": "stdout",
     "output_type": "stream",
     "text": [
      "Pr(θ < 5) estimated: 0.489, true: 0.496\n"
     ]
    }
   ],
   "source": [
    "ind_theta = theta < 5\n",
    "p_lt_5_est = np.mean(ind_theta)\n",
    "p_lt_5_true = stats.gamma.cdf(5, a, scale=(1/b))\n",
    "print(\"Pr(\\u03b8 < 5) estimated: {:.3f}, true: {:.3f}\".format(p_lt_5_est, p_lt_5_true))"
   ]
  },
  {
   "cell_type": "markdown",
   "metadata": {},
   "source": [
    "### 90th Percentile (or 0.9 quantile)"
   ]
  },
  {
   "cell_type": "code",
   "execution_count": 8,
   "metadata": {},
   "outputs": [
    {
     "name": "stdout",
     "output_type": "stream",
     "text": [
      "90th percentile for θ: estimated: 11.87775, true: 11.66916\n"
     ]
    }
   ],
   "source": [
    "pct_90_est = np.percentile(theta, 90)\n",
    "# alternatively, can also use quantile function\n",
    "# pct_90_est = np.quantile(theta, 0.9)\n",
    "pct_90_true = stats.gamma.ppf(0.9, a, scale=(1/b))\n",
    "print(\"90th percentile for \\u03b8: estimated: {:.5f}, true: {:.5f}\".format(pct_90_est, pct_90_true))"
   ]
  },
  {
   "cell_type": "code",
   "execution_count": null,
   "metadata": {},
   "outputs": [],
   "source": []
  }
 ],
 "metadata": {
  "kernelspec": {
   "display_name": "Python (bayes)",
   "language": "python",
   "name": "bayes"
  },
  "language_info": {
   "codemirror_mode": {
    "name": "ipython",
    "version": 3
   },
   "file_extension": ".py",
   "mimetype": "text/x-python",
   "name": "python",
   "nbconvert_exporter": "python",
   "pygments_lexer": "ipython3",
   "version": "3.8.1"
  }
 },
 "nbformat": 4,
 "nbformat_minor": 2
}
