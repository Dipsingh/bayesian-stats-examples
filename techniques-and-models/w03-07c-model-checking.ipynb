{
 "cells": [
  {
   "cell_type": "markdown",
   "metadata": {},
   "source": [
    "# Model Checking\n",
    "\n",
    "This notebook checks the model we built in [the previous notebook](http://localhost:8888/notebooks/w03-07b-pymc3-model.ipynb) for convergence. We will rebuild the model below, for explanations, please see the previous notebook."
   ]
  },
  {
   "cell_type": "code",
   "execution_count": 1,
   "metadata": {},
   "outputs": [],
   "source": [
    "import matplotlib.pyplot as plt\n",
    "import numpy as np\n",
    "import pandas as pd\n",
    "import pymc3 as pm\n",
    "import statsmodels.api as sm\n",
    "%matplotlib inline"
   ]
  },
  {
   "cell_type": "code",
   "execution_count": 2,
   "metadata": {},
   "outputs": [],
   "source": [
    "import warnings\n",
    "warnings.filterwarnings(\"ignore\")"
   ]
  },
  {
   "cell_type": "markdown",
   "metadata": {},
   "source": [
    "## Load Data"
   ]
  },
  {
   "cell_type": "code",
   "execution_count": 3,
   "metadata": {},
   "outputs": [
    {
     "data": {
      "text/html": [
       "<div>\n",
       "<style scoped>\n",
       "    .dataframe tbody tr th:only-of-type {\n",
       "        vertical-align: middle;\n",
       "    }\n",
       "\n",
       "    .dataframe tbody tr th {\n",
       "        vertical-align: top;\n",
       "    }\n",
       "\n",
       "    .dataframe thead th {\n",
       "        text-align: right;\n",
       "    }\n",
       "</style>\n",
       "<table border=\"1\" class=\"dataframe\">\n",
       "  <thead>\n",
       "    <tr style=\"text-align: right;\">\n",
       "      <th></th>\n",
       "      <th>Unnamed: 0</th>\n",
       "      <th>Unnamed: 0.1</th>\n",
       "      <th>income</th>\n",
       "      <th>infant</th>\n",
       "      <th>region</th>\n",
       "      <th>oil</th>\n",
       "    </tr>\n",
       "  </thead>\n",
       "  <tbody>\n",
       "    <tr>\n",
       "      <th>0</th>\n",
       "      <td>0</td>\n",
       "      <td>Australia</td>\n",
       "      <td>3426</td>\n",
       "      <td>26.7</td>\n",
       "      <td>Asia</td>\n",
       "      <td>no</td>\n",
       "    </tr>\n",
       "    <tr>\n",
       "      <th>1</th>\n",
       "      <td>1</td>\n",
       "      <td>Austria</td>\n",
       "      <td>3350</td>\n",
       "      <td>23.7</td>\n",
       "      <td>Europe</td>\n",
       "      <td>no</td>\n",
       "    </tr>\n",
       "    <tr>\n",
       "      <th>2</th>\n",
       "      <td>2</td>\n",
       "      <td>Belgium</td>\n",
       "      <td>3346</td>\n",
       "      <td>17.0</td>\n",
       "      <td>Europe</td>\n",
       "      <td>no</td>\n",
       "    </tr>\n",
       "    <tr>\n",
       "      <th>3</th>\n",
       "      <td>3</td>\n",
       "      <td>Canada</td>\n",
       "      <td>4751</td>\n",
       "      <td>16.8</td>\n",
       "      <td>Americas</td>\n",
       "      <td>no</td>\n",
       "    </tr>\n",
       "    <tr>\n",
       "      <th>4</th>\n",
       "      <td>4</td>\n",
       "      <td>Denmark</td>\n",
       "      <td>5029</td>\n",
       "      <td>13.5</td>\n",
       "      <td>Europe</td>\n",
       "      <td>no</td>\n",
       "    </tr>\n",
       "  </tbody>\n",
       "</table>\n",
       "</div>"
      ],
      "text/plain": [
       "   Unnamed: 0 Unnamed: 0.1  income  infant    region oil\n",
       "0           0    Australia    3426    26.7      Asia  no\n",
       "1           1      Austria    3350    23.7    Europe  no\n",
       "2           2      Belgium    3346    17.0    Europe  no\n",
       "3           3       Canada    4751    16.8  Americas  no\n",
       "4           4      Denmark    5029    13.5    Europe  no"
      ]
     },
     "execution_count": 3,
     "metadata": {},
     "output_type": "execute_result"
    }
   ],
   "source": [
    "try:\n",
    "    leinhardt_df = pd.read_csv(\"Leinhardt.csv\")\n",
    "except:\n",
    "    leinhardt_df = pd.read_csv(\"https://vincentarelbundock.github.io/Rdatasets/csv/carData/Leinhardt.csv\")\n",
    "    leinhardt_df.to_csv(\"Leinhardt.csv\")\n",
    "    \n",
    "leinhardt_df.head()"
   ]
  },
  {
   "cell_type": "code",
   "execution_count": 4,
   "metadata": {},
   "outputs": [],
   "source": [
    "leinhardt_df[\"log_income\"] = np.log(leinhardt_df[\"income\"])\n",
    "leinhardt_df[\"log_infant\"] = np.log(leinhardt_df[\"infant\"])\n",
    "\n",
    "leinhardt_df.dropna(subset=[\"log_income\", \"log_infant\"], inplace=True)"
   ]
  },
  {
   "cell_type": "code",
   "execution_count": 5,
   "metadata": {},
   "outputs": [
    {
     "data": {
      "text/plain": [
       "((101,), (101,))"
      ]
     },
     "execution_count": 5,
     "metadata": {},
     "output_type": "execute_result"
    }
   ],
   "source": [
    "x = leinhardt_df[\"log_income\"].values\n",
    "y = leinhardt_df[\"log_infant\"].values\n",
    "x.shape, y.shape"
   ]
  },
  {
   "cell_type": "markdown",
   "metadata": {},
   "source": [
    "## Model #1"
   ]
  },
  {
   "cell_type": "code",
   "execution_count": 6,
   "metadata": {},
   "outputs": [
    {
     "name": "stderr",
     "output_type": "stream",
     "text": [
      "Auto-assigning NUTS sampler...\n",
      "Initializing NUTS using jitter+adapt_diag...\n",
      "Multiprocess sampling (3 chains in 4 jobs)\n",
      "NUTS: [sigma2, beta]\n",
      "Sampling 3 chains, 0 divergences: 100%|██████████| 18000/18000 [00:17<00:00, 1054.90draws/s]\n"
     ]
    }
   ],
   "source": [
    "init_params = {\n",
    "    \"mu_0\": 0,\n",
    "    \"sigma_0\": 1e6,\n",
    "    \"alpha_0\": 2.5,\n",
    "    \"beta_0\": 0.04\n",
    "}\n",
    "\n",
    "n_tune = 1000\n",
    "n_iter = 5000\n",
    "n_chains = 3\n",
    "\n",
    "with pm.Model() as linreg_model:\n",
    "    beta = pm.Normal(\"beta\", mu=init_params[\"mu_0\"], sigma=init_params[\"sigma_0\"], shape=2)\n",
    "    sigma2 = pm.InverseGamma(\"sigma2\", alpha=init_params[\"alpha_0\"], beta=init_params[\"beta_0\"])\n",
    "\n",
    "    sigma = np.sqrt(sigma2)\n",
    "    mu = beta[0] + beta[1] * x\n",
    "    \n",
    "    y_obs = pm.Normal(\"y_obs\", mu=mu, sigma=sigma, observed=y)\n",
    "    \n",
    "    trace = pm.sample(n_iter, tune=n_tune, chains=n_chains)"
   ]
  },
  {
   "cell_type": "markdown",
   "metadata": {},
   "source": [
    "## Check for Convergence\n",
    "\n",
    "### Traceplots\n",
    "\n",
    "* Traceplots don't show any long term trends -- indicates convergence."
   ]
  },
  {
   "cell_type": "code",
   "execution_count": 7,
   "metadata": {},
   "outputs": [
    {
     "data": {
      "image/png": "[encoded data removed]",
      "text/plain": [
       "<Figure size 864x288 with 4 Axes>"
      ]
     },
     "metadata": {
      "needs_background": "light"
     },
     "output_type": "display_data"
    }
   ],
   "source": [
    "_ = pm.traceplot(trace, combined=True)"
   ]
  },
  {
   "cell_type": "markdown",
   "metadata": {},
   "source": [
    "## Gelman-Rubin Diagnostic\n",
    "\n",
    "* Gelman-Rubin diagnostic reports potential scale reduction factors very close to 1 -- indicates convergence."
   ]
  },
  {
   "cell_type": "code",
   "execution_count": 8,
   "metadata": {},
   "outputs": [
    {
     "data": {
      "text/html": [
       "<pre>&lt;xarray.Dataset&gt;\n",
       "Dimensions:     (beta_dim_0: 2)\n",
       "Coordinates:\n",
       "  * beta_dim_0  (beta_dim_0) int64 0 1\n",
       "Data variables:\n",
       "    beta        (beta_dim_0) float64 1.001 1.001\n",
       "    sigma2      float64 1.001</pre>"
      ],
      "text/plain": [
       "<xarray.Dataset>\n",
       "Dimensions:     (beta_dim_0: 2)\n",
       "Coordinates:\n",
       "  * beta_dim_0  (beta_dim_0) int64 0 1\n",
       "Data variables:\n",
       "    beta        (beta_dim_0) float64 1.001 1.001\n",
       "    sigma2      float64 1.001"
      ]
     },
     "execution_count": 8,
     "metadata": {},
     "output_type": "execute_result"
    }
   ],
   "source": [
    "pm.gelman_rubin(trace)"
   ]
  },
  {
   "cell_type": "markdown",
   "metadata": {},
   "source": [
    "## Autocorrelation\n",
    "\n",
    "* Autocorrelation values are extremely small -- indicates convergence"
   ]
  },
  {
   "cell_type": "code",
   "execution_count": 9,
   "metadata": {},
   "outputs": [
    {
     "data": {
      "image/png": "[encoded data removed]",
      "text/plain": [
       "<Figure size 1490.4x331.2 with 3 Axes>"
      ]
     },
     "metadata": {
      "needs_background": "light"
     },
     "output_type": "display_data"
    }
   ],
   "source": [
    "_ = pm.autocorrplot(trace, combined=True)"
   ]
  },
  {
   "cell_type": "code",
   "execution_count": 10,
   "metadata": {},
   "outputs": [
    {
     "name": "stdout",
     "output_type": "stream",
     "text": [
      "(0.00977, 0.01144, 0.00659)\n"
     ]
    }
   ],
   "source": [
    "def autocorr(x, t=10):\n",
    "    return np.corrcoef(np.array([x[:-t], x[t:]]))[0,1]\n",
    "\n",
    "beta = trace.get_values(\"beta\")\n",
    "beta_0, beta_1 = beta[:, 0], beta[:, 1]\n",
    "sigma2 = trace.get_values(\"sigma2\")\n",
    "print(\"({:.5f}, {:.5f}, {:.5f})\".format(autocorr(beta_0), autocorr(beta_1), autocorr(sigma2)))"
   ]
  },
  {
   "cell_type": "markdown",
   "metadata": {},
   "source": [
    "## Effective Sample Size\n",
    "\n",
    "Effective sample size for $\\beta_0$, $\\beta_1$, and $\\sigma_2$ are 4,881, 4,869, 6,843 out of 15,000 (5,000 iterations in 3 chains) iterations. So this indicates that our variables did not mix that well, but this is still okay, because we are not trying to compute confidence intervals from these estimates. If we wanted to do that, we would need more effective samples, hence we would run the chains for larger number iterations."
   ]
  },
  {
   "cell_type": "code",
   "execution_count": 11,
   "metadata": {},
   "outputs": [
    {
     "data": {
      "text/html": [
       "<pre>&lt;xarray.Dataset&gt;\n",
       "Dimensions:     (beta_dim_0: 2)\n",
       "Coordinates:\n",
       "  * beta_dim_0  (beta_dim_0) int64 0 1\n",
       "Data variables:\n",
       "    beta        (beta_dim_0) float64 4.678e+03 4.665e+03\n",
       "    sigma2      float64 6.451e+03</pre>"
      ],
      "text/plain": [
       "<xarray.Dataset>\n",
       "Dimensions:     (beta_dim_0: 2)\n",
       "Coordinates:\n",
       "  * beta_dim_0  (beta_dim_0) int64 0 1\n",
       "Data variables:\n",
       "    beta        (beta_dim_0) float64 4.678e+03 4.665e+03\n",
       "    sigma2      float64 6.451e+03"
      ]
     },
     "execution_count": 11,
     "metadata": {},
     "output_type": "execute_result"
    }
   ],
   "source": [
    "pm.effective_n(trace)"
   ]
  },
  {
   "cell_type": "markdown",
   "metadata": {},
   "source": [
    "## Summary\n",
    "\n",
    "Results from sampling is close to the reference model (analytical solution) where we used a flat prior."
   ]
  },
  {
   "cell_type": "code",
   "execution_count": 12,
   "metadata": {},
   "outputs": [
    {
     "data": {
      "text/html": [
       "<div>\n",
       "<style scoped>\n",
       "    .dataframe tbody tr th:only-of-type {\n",
       "        vertical-align: middle;\n",
       "    }\n",
       "\n",
       "    .dataframe tbody tr th {\n",
       "        vertical-align: top;\n",
       "    }\n",
       "\n",
       "    .dataframe thead th {\n",
       "        text-align: right;\n",
       "    }\n",
       "</style>\n",
       "<table border=\"1\" class=\"dataframe\">\n",
       "  <thead>\n",
       "    <tr style=\"text-align: right;\">\n",
       "      <th></th>\n",
       "      <th>mean</th>\n",
       "      <th>sd</th>\n",
       "      <th>hpd_3%</th>\n",
       "      <th>hpd_97%</th>\n",
       "      <th>mcse_mean</th>\n",
       "      <th>mcse_sd</th>\n",
       "      <th>ess_mean</th>\n",
       "      <th>ess_sd</th>\n",
       "      <th>ess_bulk</th>\n",
       "      <th>ess_tail</th>\n",
       "      <th>r_hat</th>\n",
       "    </tr>\n",
       "  </thead>\n",
       "  <tbody>\n",
       "    <tr>\n",
       "      <th>beta[0]</th>\n",
       "      <td>7.147</td>\n",
       "      <td>0.320</td>\n",
       "      <td>6.527</td>\n",
       "      <td>7.721</td>\n",
       "      <td>0.005</td>\n",
       "      <td>0.003</td>\n",
       "      <td>4689.0</td>\n",
       "      <td>4689.0</td>\n",
       "      <td>4678.0</td>\n",
       "      <td>5519.0</td>\n",
       "      <td>1.0</td>\n",
       "    </tr>\n",
       "    <tr>\n",
       "      <th>beta[1]</th>\n",
       "      <td>-0.512</td>\n",
       "      <td>0.052</td>\n",
       "      <td>-0.608</td>\n",
       "      <td>-0.415</td>\n",
       "      <td>0.001</td>\n",
       "      <td>0.001</td>\n",
       "      <td>4673.0</td>\n",
       "      <td>4673.0</td>\n",
       "      <td>4665.0</td>\n",
       "      <td>5751.0</td>\n",
       "      <td>1.0</td>\n",
       "    </tr>\n",
       "    <tr>\n",
       "      <th>sigma2</th>\n",
       "      <td>0.459</td>\n",
       "      <td>0.066</td>\n",
       "      <td>0.342</td>\n",
       "      <td>0.585</td>\n",
       "      <td>0.001</td>\n",
       "      <td>0.001</td>\n",
       "      <td>6305.0</td>\n",
       "      <td>6118.0</td>\n",
       "      <td>6451.0</td>\n",
       "      <td>5990.0</td>\n",
       "      <td>1.0</td>\n",
       "    </tr>\n",
       "  </tbody>\n",
       "</table>\n",
       "</div>"
      ],
      "text/plain": [
       "          mean     sd  hpd_3%  hpd_97%  mcse_mean  mcse_sd  ess_mean  ess_sd  \\\n",
       "beta[0]  7.147  0.320   6.527    7.721      0.005    0.003    4689.0  4689.0   \n",
       "beta[1] -0.512  0.052  -0.608   -0.415      0.001    0.001    4673.0  4673.0   \n",
       "sigma2   0.459  0.066   0.342    0.585      0.001    0.001    6305.0  6118.0   \n",
       "\n",
       "         ess_bulk  ess_tail  r_hat  \n",
       "beta[0]    4678.0    5519.0    1.0  \n",
       "beta[1]    4665.0    5751.0    1.0  \n",
       "sigma2     6451.0    5990.0    1.0  "
      ]
     },
     "execution_count": 12,
     "metadata": {},
     "output_type": "execute_result"
    }
   ],
   "source": [
    "pm.summary(trace)"
   ]
  },
  {
   "cell_type": "markdown",
   "metadata": {},
   "source": [
    "## Residual Analysis\n",
    "\n",
    "Residuals are defined as the difference between the actual observation (label) and the model's prediction. With residuals, we are looking for any sign that the model is not linear, it is not normally distributed, or that the observations are not independent from each other, at least conditionally on the explanatory variables.\n",
    "\n",
    "For reference, we will plot a linear model using the reference variables (i.e., not on log scale).\n",
    "\n",
    "### Reference Model"
   ]
  },
  {
   "cell_type": "code",
   "execution_count": 13,
   "metadata": {},
   "outputs": [
    {
     "data": {
      "text/html": [
       "<table class=\"simpletable\">\n",
       "<caption>OLS Regression Results</caption>\n",
       "<tr>\n",
       "  <th>Dep. Variable:</th>            <td>y</td>        <th>  R-squared:         </th> <td>   0.109</td>\n",
       "</tr>\n",
       "<tr>\n",
       "  <th>Model:</th>                   <td>OLS</td>       <th>  Adj. R-squared:    </th> <td>   0.100</td>\n",
       "</tr>\n",
       "<tr>\n",
       "  <th>Method:</th>             <td>Least Squares</td>  <th>  F-statistic:       </th> <td>   12.14</td>\n",
       "</tr>\n",
       "<tr>\n",
       "  <th>Date:</th>             <td>Thu, 27 Feb 2020</td> <th>  Prob (F-statistic):</th> <td>0.000735</td>\n",
       "</tr>\n",
       "<tr>\n",
       "  <th>Time:</th>                 <td>19:11:34</td>     <th>  Log-Likelihood:    </th> <td> -592.34</td>\n",
       "</tr>\n",
       "<tr>\n",
       "  <th>No. Observations:</th>      <td>   101</td>      <th>  AIC:               </th> <td>   1189.</td>\n",
       "</tr>\n",
       "<tr>\n",
       "  <th>Df Residuals:</th>          <td>    99</td>      <th>  BIC:               </th> <td>   1194.</td>\n",
       "</tr>\n",
       "<tr>\n",
       "  <th>Df Model:</th>              <td>     1</td>      <th>                     </th>     <td> </td>   \n",
       "</tr>\n",
       "<tr>\n",
       "  <th>Covariance Type:</th>      <td>nonrobust</td>    <th>                     </th>     <td> </td>   \n",
       "</tr>\n",
       "</table>\n",
       "<table class=\"simpletable\">\n",
       "<tr>\n",
       "    <td></td>       <th>coef</th>     <th>std err</th>      <th>t</th>      <th>P>|t|</th>  <th>[0.025</th>    <th>0.975]</th>  \n",
       "</tr>\n",
       "<tr>\n",
       "  <th>x1</th>    <td>   -0.0209</td> <td>    0.006</td> <td>   -3.485</td> <td> 0.001</td> <td>   -0.033</td> <td>   -0.009</td>\n",
       "</tr>\n",
       "<tr>\n",
       "  <th>const</th> <td>  110.4211</td> <td>   10.539</td> <td>   10.478</td> <td> 0.000</td> <td>   89.510</td> <td>  131.332</td>\n",
       "</tr>\n",
       "</table>\n",
       "<table class=\"simpletable\">\n",
       "<tr>\n",
       "  <th>Omnibus:</th>       <td>111.162</td> <th>  Durbin-Watson:     </th> <td>   1.990</td>\n",
       "</tr>\n",
       "<tr>\n",
       "  <th>Prob(Omnibus):</th> <td> 0.000</td>  <th>  Jarque-Bera (JB):  </th> <td>1809.816</td>\n",
       "</tr>\n",
       "<tr>\n",
       "  <th>Skew:</th>          <td> 3.648</td>  <th>  Prob(JB):          </th> <td>    0.00</td>\n",
       "</tr>\n",
       "<tr>\n",
       "  <th>Kurtosis:</th>      <td>22.412</td>  <th>  Cond. No.          </th> <td>2.16e+03</td>\n",
       "</tr>\n",
       "</table><br/><br/>Warnings:<br/>[1] Standard Errors assume that the covariance matrix of the errors is correctly specified.<br/>[2] The condition number is large, 2.16e+03. This might indicate that there are<br/>strong multicollinearity or other numerical problems."
      ],
      "text/plain": [
       "<class 'statsmodels.iolib.summary.Summary'>\n",
       "\"\"\"\n",
       "                            OLS Regression Results                            \n",
       "==============================================================================\n",
       "Dep. Variable:                      y   R-squared:                       0.109\n",
       "Model:                            OLS   Adj. R-squared:                  0.100\n",
       "Method:                 Least Squares   F-statistic:                     12.14\n",
       "Date:                Thu, 27 Feb 2020   Prob (F-statistic):           0.000735\n",
       "Time:                        19:11:34   Log-Likelihood:                -592.34\n",
       "No. Observations:                 101   AIC:                             1189.\n",
       "Df Residuals:                      99   BIC:                             1194.\n",
       "Df Model:                           1                                         \n",
       "Covariance Type:            nonrobust                                         \n",
       "==============================================================================\n",
       "                 coef    std err          t      P>|t|      [0.025      0.975]\n",
       "------------------------------------------------------------------------------\n",
       "x1            -0.0209      0.006     -3.485      0.001      -0.033      -0.009\n",
       "const        110.4211     10.539     10.478      0.000      89.510     131.332\n",
       "==============================================================================\n",
       "Omnibus:                      111.162   Durbin-Watson:                   1.990\n",
       "Prob(Omnibus):                  0.000   Jarque-Bera (JB):             1809.816\n",
       "Skew:                           3.648   Prob(JB):                         0.00\n",
       "Kurtosis:                      22.412   Cond. No.                     2.16e+03\n",
       "==============================================================================\n",
       "\n",
       "Warnings:\n",
       "[1] Standard Errors assume that the covariance matrix of the errors is correctly specified.\n",
       "[2] The condition number is large, 2.16e+03. This might indicate that there are\n",
       "strong multicollinearity or other numerical problems.\n",
       "\"\"\""
      ]
     },
     "execution_count": 13,
     "metadata": {},
     "output_type": "execute_result"
    }
   ],
   "source": [
    "x_ref = leinhardt_df[\"income\"].values\n",
    "X_ref = np.vstack((x_ref, np.ones(len(x_ref)))).T\n",
    "\n",
    "y_ref = leinhardt_df[\"infant\"].values\n",
    "\n",
    "model_ref = sm.OLS(y_ref, X_ref).fit()\n",
    "model_ref.summary()"
   ]
  },
  {
   "cell_type": "markdown",
   "metadata": {},
   "source": [
    "### Residuals for Reference Model\n",
    "\n",
    "* __Residual plot__ -- there does not appear to be a pattern in the residual plot, so reasonable to assume that the data for `income` and data for `infant` mortality are independent.\n",
    "* __Residual vs Predictions plot__ -- we don't want to see a pattern, but there seems to be a pattern here. First we see a downward trend of the residual as the value of the predictions get higher, and our assumption that residual variance is same for all observations appears to be wildly incorrect.\n",
    "* __QQNorm plot__ -- check assumption of normality, plots the theoretical quantiles of a normal distribution on the X-axis and the actual residuals on the y-axis. Results should be approximately linear to satisfy normality. Actual result is curved, so the assumption of normality does not hold for the reference model."
   ]
  },
  {
   "cell_type": "code",
   "execution_count": 14,
   "metadata": {},
   "outputs": [
    {
     "data": {
      "image/png": "[encoded data removed]",
      "text/plain": [
       "<Figure size 432x288 with 1 Axes>"
      ]
     },
     "metadata": {
      "needs_background": "light"
     },
     "output_type": "display_data"
    }
   ],
   "source": [
    "preds_ref = model_ref.predict(X_ref)\n",
    "# residuals = y_ref - pred_ref\n",
    "resids_ref = model_ref.resid\n",
    "\n",
    "plt.xlabel(\"index\")\n",
    "plt.ylabel(\"residuals\")\n",
    "_ = plt.scatter(np.arange(len(preds_ref)), resids_ref)"
   ]
  },
  {
   "cell_type": "code",
   "execution_count": 15,
   "metadata": {},
   "outputs": [
    {
     "data": {
      "image/png": "[encoded data removed]",
      "text/plain": [
       "<Figure size 432x288 with 1 Axes>"
      ]
     },
     "metadata": {
      "needs_background": "light"
     },
     "output_type": "display_data"
    }
   ],
   "source": [
    "plt.xlabel(\"predictions\")\n",
    "plt.ylabel(\"residuals\")\n",
    "_ = plt.scatter(preds_ref, resids_ref)"
   ]
  },
  {
   "cell_type": "code",
   "execution_count": 16,
   "metadata": {},
   "outputs": [
    {
     "data": {
      "image/png": "[encoded data removed]",
      "text/plain": [
       "<Figure size 432x288 with 1 Axes>"
      ]
     },
     "metadata": {
      "needs_background": "light"
     },
     "output_type": "display_data"
    }
   ],
   "source": [
    "_ = sm.qqplot(resids_ref)"
   ]
  },
  {
   "cell_type": "markdown",
   "metadata": {},
   "source": [
    "### Residuals for Bayesian fitted model\n",
    "\n",
    "* __Residual plot__ -- no pattern, so `log_income` and `log_infant` are independent.\n",
    "* __Residual vs Predictions plot__ -- Again no pattern here, although variance in residual appears to increase as we go from small to large predicted values.\n",
    "* __QQNorm plot__ -- straight line, so assumption of normality met.\n",
    "\n",
    "All three plots show 2 outliers."
   ]
  },
  {
   "cell_type": "code",
   "execution_count": 17,
   "metadata": {},
   "outputs": [
    {
     "name": "stdout",
     "output_type": "stream",
     "text": [
      "(101, 2) (2,) (101,) (101,)\n",
      "betas: [ 7.14697723 -0.51204434]\n"
     ]
    }
   ],
   "source": [
    "betas = np.mean(trace.get_values(\"beta\", combine=True), axis=0)\n",
    "X = np.vstack((np.ones(x.shape[0]), x)).T\n",
    "\n",
    "preds = np.matmul(X, betas)\n",
    "resids = y - preds\n",
    "\n",
    "print(X.shape, betas.shape, preds.shape, resids.shape)\n",
    "print(\"betas:\", betas)"
   ]
  },
  {
   "cell_type": "code",
   "execution_count": 18,
   "metadata": {},
   "outputs": [
    {
     "data": {
      "image/png": "[encoded data removed]",
      "text/plain": [
       "<Figure size 432x288 with 1 Axes>"
      ]
     },
     "metadata": {
      "needs_background": "light"
     },
     "output_type": "display_data"
    }
   ],
   "source": [
    "plt.xlabel(\"index\")\n",
    "plt.ylabel(\"residuals\")\n",
    "_ = plt.scatter(np.arange(len(preds)), resids)"
   ]
  },
  {
   "cell_type": "code",
   "execution_count": 19,
   "metadata": {},
   "outputs": [
    {
     "data": {
      "image/png": "[encoded data removed]",
      "text/plain": [
       "<Figure size 432x288 with 1 Axes>"
      ]
     },
     "metadata": {
      "needs_background": "light"
     },
     "output_type": "display_data"
    }
   ],
   "source": [
    "plt.xlabel(\"predictions\")\n",
    "plt.ylabel(\"residuals\")\n",
    "_ = plt.scatter(preds, resids)"
   ]
  },
  {
   "cell_type": "code",
   "execution_count": 20,
   "metadata": {},
   "outputs": [
    {
     "data": {
      "image/png": "[encoded data removed]",
      "text/plain": [
       "<Figure size 432x288 with 1 Axes>"
      ]
     },
     "metadata": {
      "needs_background": "light"
     },
     "output_type": "display_data"
    }
   ],
   "source": [
    "_ = sm.qqplot(resids)"
   ]
  },
  {
   "cell_type": "markdown",
   "metadata": {},
   "source": [
    "## Outliers\n",
    "\n",
    "Compute the residuals and add a column into the dataframe.\n",
    "\n",
    "$$ prediction = \\beta_0 + \\beta_1 * log(income) $$\n",
    "$$ residual = log(infant) - prediction $$\n",
    "\n",
    "Then sort descending by `residual`. The outliers with high actual mortality compared to the predicted mortality based on income are Saudi Arabia and Libya.\n",
    "\n",
    "At times, it may be worth removing the outliers and rerunning the model."
   ]
  },
  {
   "cell_type": "code",
   "execution_count": 21,
   "metadata": {},
   "outputs": [
    {
     "data": {
      "text/html": [
       "<div>\n",
       "<style scoped>\n",
       "    .dataframe tbody tr th:only-of-type {\n",
       "        vertical-align: middle;\n",
       "    }\n",
       "\n",
       "    .dataframe tbody tr th {\n",
       "        vertical-align: top;\n",
       "    }\n",
       "\n",
       "    .dataframe thead th {\n",
       "        text-align: right;\n",
       "    }\n",
       "</style>\n",
       "<table border=\"1\" class=\"dataframe\">\n",
       "  <thead>\n",
       "    <tr style=\"text-align: right;\">\n",
       "      <th></th>\n",
       "      <th>Unnamed: 0</th>\n",
       "      <th>Unnamed: 0.1</th>\n",
       "      <th>income</th>\n",
       "      <th>infant</th>\n",
       "      <th>region</th>\n",
       "      <th>oil</th>\n",
       "      <th>log_income</th>\n",
       "      <th>log_infant</th>\n",
       "      <th>residuals</th>\n",
       "    </tr>\n",
       "  </thead>\n",
       "  <tbody>\n",
       "    <tr>\n",
       "      <th>27</th>\n",
       "      <td>27</td>\n",
       "      <td>Saudi.Arabia</td>\n",
       "      <td>1530</td>\n",
       "      <td>650.0</td>\n",
       "      <td>Asia</td>\n",
       "      <td>yes</td>\n",
       "      <td>7.333023</td>\n",
       "      <td>6.476972</td>\n",
       "      <td>3.084828</td>\n",
       "    </tr>\n",
       "    <tr>\n",
       "      <th>25</th>\n",
       "      <td>25</td>\n",
       "      <td>Libya</td>\n",
       "      <td>3010</td>\n",
       "      <td>300.0</td>\n",
       "      <td>Africa</td>\n",
       "      <td>yes</td>\n",
       "      <td>8.009695</td>\n",
       "      <td>5.703782</td>\n",
       "      <td>2.658124</td>\n",
       "    </tr>\n",
       "  </tbody>\n",
       "</table>\n",
       "</div>"
      ],
      "text/plain": [
       "    Unnamed: 0  Unnamed: 0.1  income  infant  region  oil  log_income  \\\n",
       "27          27  Saudi.Arabia    1530   650.0    Asia  yes    7.333023   \n",
       "25          25         Libya    3010   300.0  Africa  yes    8.009695   \n",
       "\n",
       "    log_infant  residuals  \n",
       "27    6.476972   3.084828  \n",
       "25    5.703782   2.658124  "
      ]
     },
     "execution_count": 21,
     "metadata": {},
     "output_type": "execute_result"
    }
   ],
   "source": [
    "leinhardt_df[\"residuals\"] = leinhardt_df[\"log_infant\"] - (betas[0] + betas[1] * leinhardt_df[\"log_income\"])\n",
    "\n",
    "sorted_leinhardt_df = leinhardt_df.sort_values(by=[\"residuals\"], ascending=False)\n",
    "sorted_leinhardt_df.reset_index()\n",
    "sorted_leinhardt_df.head(2)"
   ]
  },
  {
   "cell_type": "code",
   "execution_count": null,
   "metadata": {},
   "outputs": [],
   "source": []
  }
 ],
 "metadata": {
  "kernelspec": {
   "display_name": "Python (bayes)",
   "language": "python",
   "name": "bayes"
  },
  "language_info": {
   "codemirror_mode": {
    "name": "ipython",
    "version": 3
   },
   "file_extension": ".py",
   "mimetype": "text/x-python",
   "name": "python",
   "nbconvert_exporter": "python",
   "pygments_lexer": "ipython3",
   "version": "3.8.1"
  }
 },
 "nbformat": 4,
 "nbformat_minor": 2
}
