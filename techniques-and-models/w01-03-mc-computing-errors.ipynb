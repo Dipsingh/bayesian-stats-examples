{
 "cells": [
  {
   "cell_type": "markdown",
   "metadata": {},
   "source": [
    "# Monte Carlo Estimation: Computing Estimation Error\n",
    "\n",
    "We use the Central Limit Theorem (CLT) to compute how accurate our Monte Carlo estimates are."
   ]
  },
  {
   "cell_type": "code",
   "execution_count": 1,
   "metadata": {},
   "outputs": [],
   "source": [
    "import collections\n",
    "import matplotlib.pyplot as plt\n",
    "import numpy as np\n",
    "import scipy.stats as stats\n",
    "%matplotlib inline"
   ]
  },
  {
   "cell_type": "markdown",
   "metadata": {},
   "source": [
    "## Example 1\n",
    "\n",
    "We seek the expected value of $\\theta$, or the mean of the Gamma distribution defined below."
   ]
  },
  {
   "cell_type": "code",
   "execution_count": 2,
   "metadata": {},
   "outputs": [],
   "source": [
    "m = 10000\n",
    "a, b = 2, 1/3\n",
    "theta = stats.gamma.rvs(a, scale=(1/b), size=m)"
   ]
  },
  {
   "cell_type": "markdown",
   "metadata": {},
   "source": [
    "We seek the sample mean of theta, which approximately follows a Normal distribution, where the mean of this Normal distribution is the true expected value of $\\theta$, and the variance of the Normal distribution is the true variance of $\\theta$ divided by m. Thus as we increase m, variance gets smaller.\n",
    "\n",
    "\n",
    "### 90% confidence interval for $\\theta$\n",
    "\n",
    "Formula for standard error is the standard deviation of the Normal distribution divided by square root of m.\n",
    "\n",
    "The 90% confidence interval for a normal distribution is $\\mu$ $\\pm$ 2\\*standard_error. This is the interval where we are 90% confident that values from the distribution will occur."
   ]
  },
  {
   "cell_type": "code",
   "execution_count": 3,
   "metadata": {},
   "outputs": [
    {
     "name": "stdout",
     "output_type": "stream",
     "text": [
      "                   mean: 5.97243\n",
      "         standard error: 0.04309\n",
      "90% confidence interval: (5.88626, 6.05860)\n"
     ]
    }
   ],
   "source": [
    "mean = np.mean(theta)\n",
    "se = np.std(theta) / np.sqrt(m)\n",
    "print(\"                   mean: {:.5f}\".format(mean))\n",
    "print(\"         standard error: {:.5f}\".format(se))\n",
    "ci_90_lb, ci_90_ub = mean - (2 * se), mean + (2 * se)\n",
    "print(\"90% confidence interval: ({:.5f}, {:.5f})\".format(ci_90_lb, ci_90_ub))"
   ]
  },
  {
   "cell_type": "markdown",
   "metadata": {},
   "source": [
    "### 90% confidence interval for Pr($\\theta$ < 5)"
   ]
  },
  {
   "cell_type": "code",
   "execution_count": 4,
   "metadata": {},
   "outputs": [
    {
     "name": "stdout",
     "output_type": "stream",
     "text": [
      "                   mean: 0.50480\n",
      "         standard error: 0.00500\n",
      "90% confidence interval: (0.49480, 0.51480)\n"
     ]
    }
   ],
   "source": [
    "theta_ind = theta < 5\n",
    "mean = np.mean(theta_ind)\n",
    "se = np.std(theta_ind) / np.sqrt(m)\n",
    "print(\"                   mean: {:.5f}\".format(mean))\n",
    "print(\"         standard error: {:.5f}\".format(se))\n",
    "ci_90_lb, ci_90_ub = mean - (2 * se), mean + (2 * se)\n",
    "print(\"90% confidence interval: ({:.5f}, {:.5f})\".format(ci_90_lb, ci_90_ub))"
   ]
  },
  {
   "cell_type": "markdown",
   "metadata": {},
   "source": [
    "### Error Estimate for Hierarchical Model\n",
    "\n",
    "We define our hierarchical model as follow:\n",
    "\n",
    "$$y_i \\sim Binomial(10, \\phi_i)$$\n",
    "$$\\phi_i \\sim Beta(2, 2)$$\n",
    "\n",
    "The resulting sample of y can be treated as the marginal distribution. \n",
    "\n",
    "The distribution for (y|$\\phi$) is a binomial distribution, but marginal distribution for y is __not binomial__, it is beta-binomial."
   ]
  },
  {
   "cell_type": "code",
   "execution_count": 5,
   "metadata": {},
   "outputs": [],
   "source": [
    "m = int(1e5)\n",
    "phi = stats.beta.rvs(2, 2, size=m)\n",
    "y = stats.binom.rvs(10, phi, size=m)"
   ]
  },
  {
   "cell_type": "code",
   "execution_count": 6,
   "metadata": {},
   "outputs": [
    {
     "data": {
      "image/png": "[encoded data removed]",
      "text/plain": [
       "<Figure size 432x288 with 1 Axes>"
      ]
     },
     "metadata": {
      "needs_background": "light"
     },
     "output_type": "display_data"
    }
   ],
   "source": [
    "plt.hist(y, density=True)\n",
    "plt.show()"
   ]
  },
  {
   "cell_type": "markdown",
   "metadata": {},
   "source": [
    "### Probability of 3 successes, Pr(y=3)"
   ]
  },
  {
   "cell_type": "code",
   "execution_count": 7,
   "metadata": {},
   "outputs": [
    {
     "data": {
      "text/plain": [
       "0.11032"
      ]
     },
     "execution_count": 7,
     "metadata": {},
     "output_type": "execute_result"
    }
   ],
   "source": [
    "ind_y = (y == 3)\n",
    "np.mean(ind_y)"
   ]
  },
  {
   "cell_type": "markdown",
   "metadata": {},
   "source": [
    "### Marginal Expected Value of y"
   ]
  },
  {
   "cell_type": "code",
   "execution_count": 8,
   "metadata": {},
   "outputs": [
    {
     "data": {
      "text/plain": [
       "4.99803"
      ]
     },
     "execution_count": 8,
     "metadata": {},
     "output_type": "execute_result"
    }
   ],
   "source": [
    "np.mean(y)"
   ]
  },
  {
   "cell_type": "code",
   "execution_count": null,
   "metadata": {},
   "outputs": [],
   "source": []
  }
 ],
 "metadata": {
  "kernelspec": {
   "display_name": "Python (bayes)",
   "language": "python",
   "name": "bayes"
  },
  "language_info": {
   "codemirror_mode": {
    "name": "ipython",
    "version": 3
   },
   "file_extension": ".py",
   "mimetype": "text/x-python",
   "name": "python",
   "nbconvert_exporter": "python",
   "pygments_lexer": "ipython3",
   "version": "3.8.1"
  }
 },
 "nbformat": 4,
 "nbformat_minor": 2
}
