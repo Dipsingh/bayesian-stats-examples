{
 "cells": [
  {
   "cell_type": "markdown",
   "metadata": {},
   "source": [
    "# Linear Regression (single variable) demo\n",
    "\n",
    "The dataset used is the Leinhardt Infant Mortality dataset from the R CAR package. Here we get the same data from the [Rdatasets repository](https://vincentarelbundock.github.io/Rdatasets/).\n",
    "\n",
    "The [Documentation for Leinhardt dataset](https://vincentarelbundock.github.io/Rdatasets/doc/carData/Leinhardt.html) can also be found in this repository.\n",
    "\n",
    "## Problem Definition\n",
    "\n",
    "We want to predict the infant mortality response variable by using one or more explanatory variables available in the Leinhardt dataset."
   ]
  },
  {
   "cell_type": "code",
   "execution_count": 1,
   "metadata": {},
   "outputs": [],
   "source": [
    "import matplotlib.pyplot as plt\n",
    "import numpy as np\n",
    "import pandas as pd\n",
    "import statsmodels.api as sm\n",
    "%matplotlib inline"
   ]
  },
  {
   "cell_type": "code",
   "execution_count": 2,
   "metadata": {},
   "outputs": [],
   "source": [
    "import warnings\n",
    "warnings.filterwarnings(\"ignore\")"
   ]
  },
  {
   "cell_type": "markdown",
   "metadata": {},
   "source": [
    "## Load and explore data"
   ]
  },
  {
   "cell_type": "code",
   "execution_count": 3,
   "metadata": {},
   "outputs": [],
   "source": [
    "try:\n",
    "    leinhardt_df = pd.read_csv(\"Leinhardt.csv\")\n",
    "except:\n",
    "    leinhardt_df = pd.read_csv(\"https://vincentarelbundock.github.io/Rdatasets/csv/carData/Leinhardt.csv\")\n",
    "    leinhardt_df.to_csv(\"Leinhardt.csv\")"
   ]
  },
  {
   "cell_type": "code",
   "execution_count": 4,
   "metadata": {},
   "outputs": [
    {
     "data": {
      "text/html": [
       "<div>\n",
       "<style scoped>\n",
       "    .dataframe tbody tr th:only-of-type {\n",
       "        vertical-align: middle;\n",
       "    }\n",
       "\n",
       "    .dataframe tbody tr th {\n",
       "        vertical-align: top;\n",
       "    }\n",
       "\n",
       "    .dataframe thead th {\n",
       "        text-align: right;\n",
       "    }\n",
       "</style>\n",
       "<table border=\"1\" class=\"dataframe\">\n",
       "  <thead>\n",
       "    <tr style=\"text-align: right;\">\n",
       "      <th></th>\n",
       "      <th>Unnamed: 0</th>\n",
       "      <th>Unnamed: 0.1</th>\n",
       "      <th>income</th>\n",
       "      <th>infant</th>\n",
       "      <th>region</th>\n",
       "      <th>oil</th>\n",
       "    </tr>\n",
       "  </thead>\n",
       "  <tbody>\n",
       "    <tr>\n",
       "      <th>0</th>\n",
       "      <td>0</td>\n",
       "      <td>Australia</td>\n",
       "      <td>3426</td>\n",
       "      <td>26.7</td>\n",
       "      <td>Asia</td>\n",
       "      <td>no</td>\n",
       "    </tr>\n",
       "    <tr>\n",
       "      <th>1</th>\n",
       "      <td>1</td>\n",
       "      <td>Austria</td>\n",
       "      <td>3350</td>\n",
       "      <td>23.7</td>\n",
       "      <td>Europe</td>\n",
       "      <td>no</td>\n",
       "    </tr>\n",
       "    <tr>\n",
       "      <th>2</th>\n",
       "      <td>2</td>\n",
       "      <td>Belgium</td>\n",
       "      <td>3346</td>\n",
       "      <td>17.0</td>\n",
       "      <td>Europe</td>\n",
       "      <td>no</td>\n",
       "    </tr>\n",
       "    <tr>\n",
       "      <th>3</th>\n",
       "      <td>3</td>\n",
       "      <td>Canada</td>\n",
       "      <td>4751</td>\n",
       "      <td>16.8</td>\n",
       "      <td>Americas</td>\n",
       "      <td>no</td>\n",
       "    </tr>\n",
       "    <tr>\n",
       "      <th>4</th>\n",
       "      <td>4</td>\n",
       "      <td>Denmark</td>\n",
       "      <td>5029</td>\n",
       "      <td>13.5</td>\n",
       "      <td>Europe</td>\n",
       "      <td>no</td>\n",
       "    </tr>\n",
       "  </tbody>\n",
       "</table>\n",
       "</div>"
      ],
      "text/plain": [
       "   Unnamed: 0 Unnamed: 0.1  income  infant    region oil\n",
       "0           0    Australia    3426    26.7      Asia  no\n",
       "1           1      Austria    3350    23.7    Europe  no\n",
       "2           2      Belgium    3346    17.0    Europe  no\n",
       "3           3       Canada    4751    16.8  Americas  no\n",
       "4           4      Denmark    5029    13.5    Europe  no"
      ]
     },
     "execution_count": 4,
     "metadata": {},
     "output_type": "execute_result"
    }
   ],
   "source": [
    "leinhardt_df.head()"
   ]
  },
  {
   "cell_type": "markdown",
   "metadata": {},
   "source": [
    "## Investigate correlation between pairs of variables"
   ]
  },
  {
   "cell_type": "code",
   "execution_count": 5,
   "metadata": {},
   "outputs": [
    {
     "data": {
      "text/plain": [
       "array(['Asia', 'Europe', 'Americas', 'Africa'], dtype=object)"
      ]
     },
     "execution_count": 5,
     "metadata": {},
     "output_type": "execute_result"
    }
   ],
   "source": [
    "leinhardt_df[\"region\"].unique()"
   ]
  },
  {
   "cell_type": "code",
   "execution_count": 6,
   "metadata": {},
   "outputs": [
    {
     "data": {
      "text/plain": [
       "array(['no', 'yes'], dtype=object)"
      ]
     },
     "execution_count": 6,
     "metadata": {},
     "output_type": "execute_result"
    }
   ],
   "source": [
    "leinhardt_df[\"oil\"].unique()"
   ]
  },
  {
   "cell_type": "code",
   "execution_count": 7,
   "metadata": {},
   "outputs": [
    {
     "data": {
      "image/png": "[encoded data removed]",
      "text/plain": [
       "<Figure size 720x720 with 25 Axes>"
      ]
     },
     "metadata": {
      "needs_background": "light"
     },
     "output_type": "display_data"
    }
   ],
   "source": [
    "leinhardt_df.loc[leinhardt_df[\"region\"] == \"Asia\", \"region_i\"] = 0\n",
    "leinhardt_df.loc[leinhardt_df[\"region\"] == \"Europe\", \"region_i\"] = 1\n",
    "leinhardt_df.loc[leinhardt_df[\"region\"] == \"Americas\" \"region_i\"] = 2\n",
    "leinhardt_df.loc[leinhardt_df[\"region\"] == \"Africa\", \"region_i\"] = 3\n",
    "\n",
    "leinhardt_df.loc[leinhardt_df[\"oil\"] == 'no', 'oil_i'] = 0\n",
    "leinhardt_df.loc[leinhardt_df[\"oil\"] == 'yes', 'oil_i'] = 1\n",
    "\n",
    "_ = pd.plotting.scatter_matrix(leinhardt_df, diagonal=\"hist\", figsize=(10,10))"
   ]
  },
  {
   "cell_type": "markdown",
   "metadata": {},
   "source": [
    "## Investigate correlation between Infant Mortality and Income\n",
    "\n",
    "From the scatter plots, there is negative correlation, but correlation doesn't appear to be linear. Thus Linear Regression on these variables is not appropriate.\n",
    "\n",
    "However, both distributions are right skewed, which is a strong hint that they might become linearly related on a log scale. On adding these log scaled columns, we see a strong linear relationship."
   ]
  },
  {
   "cell_type": "code",
   "execution_count": 8,
   "metadata": {},
   "outputs": [
    {
     "data": {
      "image/png": "[encoded data removed]",
      "text/plain": [
       "<Figure size 432x288 with 1 Axes>"
      ]
     },
     "metadata": {
      "needs_background": "light"
     },
     "output_type": "display_data"
    }
   ],
   "source": [
    "plt.scatter(leinhardt_df[\"income\"], leinhardt_df[\"infant\"])\n",
    "plt.xlabel(\"income\")\n",
    "plt.ylabel(\"infant\")\n",
    "_ = plt.show()"
   ]
  },
  {
   "cell_type": "code",
   "execution_count": 9,
   "metadata": {},
   "outputs": [
    {
     "data": {
      "image/png": "[encoded data removed]",
      "text/plain": [
       "<Figure size 432x288 with 1 Axes>"
      ]
     },
     "metadata": {
      "needs_background": "light"
     },
     "output_type": "display_data"
    }
   ],
   "source": [
    "plt.hist(leinhardt_df[\"infant\"])\n",
    "plt.xlabel(\"infant\")\n",
    "plt.ylabel(\"counts\")\n",
    "_ = plt.show()"
   ]
  },
  {
   "cell_type": "code",
   "execution_count": 10,
   "metadata": {},
   "outputs": [
    {
     "data": {
      "image/png": "[encoded data removed]",
      "text/plain": [
       "<Figure size 432x288 with 1 Axes>"
      ]
     },
     "metadata": {
      "needs_background": "light"
     },
     "output_type": "display_data"
    }
   ],
   "source": [
    "plt.hist(leinhardt_df[\"income\"])\n",
    "plt.xlabel(\"income\")\n",
    "plt.ylabel(\"counts\")\n",
    "_ = plt.show()"
   ]
  },
  {
   "cell_type": "code",
   "execution_count": 11,
   "metadata": {},
   "outputs": [],
   "source": [
    "leinhardt_df[\"log_income\"] = np.log(leinhardt_df[\"income\"])\n",
    "leinhardt_df[\"log_infant\"] = np.log(leinhardt_df[\"infant\"])"
   ]
  },
  {
   "cell_type": "code",
   "execution_count": 12,
   "metadata": {},
   "outputs": [
    {
     "data": {
      "image/png": "[encoded data removed]",
      "text/plain": [
       "<Figure size 432x288 with 1 Axes>"
      ]
     },
     "metadata": {
      "needs_background": "light"
     },
     "output_type": "display_data"
    }
   ],
   "source": [
    "plt.scatter(leinhardt_df[\"log_income\"], leinhardt_df[\"log_infant\"])\n",
    "plt.xlabel(\"log_income\")\n",
    "plt.ylabel(\"log_infant\")\n",
    "_ = plt.show()"
   ]
  },
  {
   "cell_type": "markdown",
   "metadata": {},
   "source": [
    "## Linear Regression (single variable) on log scale\n",
    "\n",
    "Fitting a OLS model against the log scaled data results in NaN results for the coefficients. This is because of missing values in the input or caused during the log transformation. \n",
    "\n",
    "The R `lm` call is more forgiving and will automatically deal with this and report that there are 4 missing values and that the results might be incorrect."
   ]
  },
  {
   "cell_type": "code",
   "execution_count": 13,
   "metadata": {},
   "outputs": [
    {
     "data": {
      "text/html": [
       "<div>\n",
       "<style scoped>\n",
       "    .dataframe tbody tr th:only-of-type {\n",
       "        vertical-align: middle;\n",
       "    }\n",
       "\n",
       "    .dataframe tbody tr th {\n",
       "        vertical-align: top;\n",
       "    }\n",
       "\n",
       "    .dataframe thead th {\n",
       "        text-align: right;\n",
       "    }\n",
       "</style>\n",
       "<table border=\"1\" class=\"dataframe\">\n",
       "  <thead>\n",
       "    <tr style=\"text-align: right;\">\n",
       "      <th></th>\n",
       "      <th>Unnamed: 0</th>\n",
       "      <th>Unnamed: 0.1</th>\n",
       "      <th>income</th>\n",
       "      <th>infant</th>\n",
       "      <th>region</th>\n",
       "      <th>oil</th>\n",
       "      <th>region_i</th>\n",
       "      <th>oil_i</th>\n",
       "      <th>log_income</th>\n",
       "      <th>log_infant</th>\n",
       "    </tr>\n",
       "  </thead>\n",
       "  <tbody>\n",
       "    <tr>\n",
       "      <th>23</th>\n",
       "      <td>23</td>\n",
       "      <td>Iran</td>\n",
       "      <td>1280</td>\n",
       "      <td>NaN</td>\n",
       "      <td>Asia</td>\n",
       "      <td>yes</td>\n",
       "      <td>0.0</td>\n",
       "      <td>1.0</td>\n",
       "      <td>7.154615</td>\n",
       "      <td>NaN</td>\n",
       "    </tr>\n",
       "    <tr>\n",
       "      <th>82</th>\n",
       "      <td>82</td>\n",
       "      <td>Haiti</td>\n",
       "      <td>100</td>\n",
       "      <td>NaN</td>\n",
       "      <td>Americas</td>\n",
       "      <td>no</td>\n",
       "      <td>NaN</td>\n",
       "      <td>0.0</td>\n",
       "      <td>4.605170</td>\n",
       "      <td>NaN</td>\n",
       "    </tr>\n",
       "    <tr>\n",
       "      <th>85</th>\n",
       "      <td>85</td>\n",
       "      <td>Laos</td>\n",
       "      <td>71</td>\n",
       "      <td>NaN</td>\n",
       "      <td>Asia</td>\n",
       "      <td>no</td>\n",
       "      <td>0.0</td>\n",
       "      <td>0.0</td>\n",
       "      <td>4.262680</td>\n",
       "      <td>NaN</td>\n",
       "    </tr>\n",
       "    <tr>\n",
       "      <th>90</th>\n",
       "      <td>90</td>\n",
       "      <td>Nepal</td>\n",
       "      <td>90</td>\n",
       "      <td>NaN</td>\n",
       "      <td>Asia</td>\n",
       "      <td>no</td>\n",
       "      <td>0.0</td>\n",
       "      <td>0.0</td>\n",
       "      <td>4.499810</td>\n",
       "      <td>NaN</td>\n",
       "    </tr>\n",
       "  </tbody>\n",
       "</table>\n",
       "</div>"
      ],
      "text/plain": [
       "    Unnamed: 0 Unnamed: 0.1  income  infant    region  oil  region_i  oil_i  \\\n",
       "23          23         Iran    1280     NaN      Asia  yes       0.0    1.0   \n",
       "82          82        Haiti     100     NaN  Americas   no       NaN    0.0   \n",
       "85          85         Laos      71     NaN      Asia   no       0.0    0.0   \n",
       "90          90        Nepal      90     NaN      Asia   no       0.0    0.0   \n",
       "\n",
       "    log_income  log_infant  \n",
       "23    7.154615         NaN  \n",
       "82    4.605170         NaN  \n",
       "85    4.262680         NaN  \n",
       "90    4.499810         NaN  "
      ]
     },
     "execution_count": 13,
     "metadata": {},
     "output_type": "execute_result"
    }
   ],
   "source": [
    "leinhardt_df_na = leinhardt_df[(leinhardt_df[\"log_infant\"].isna()) | \n",
    "                               (leinhardt_df[\"log_income\"].isna())]\n",
    "leinhardt_df_na.head()"
   ]
  },
  {
   "cell_type": "code",
   "execution_count": 14,
   "metadata": {},
   "outputs": [],
   "source": [
    "leinhardt_df.dropna(subset=[\"log_income\", \"log_infant\"], inplace=True)"
   ]
  },
  {
   "cell_type": "markdown",
   "metadata": {},
   "source": [
    "## Linear Regression (single variable) on log scale after NaN removed\n",
    "\n",
    "Following information can be seen from the result of the linear regression:\n",
    "\n",
    "* intercept is 7.14 with standard error 0.317\n",
    "* coefficient of income is -0.5 with standard error 0.05\n",
    "* both values are large compared to their standard error (deviation) of the posterior, so they appear to be very statistically significant (P>|t|).\n",
    "* R-squared tells us how much of the variance is explained by the linear model."
   ]
  },
  {
   "cell_type": "code",
   "execution_count": 15,
   "metadata": {},
   "outputs": [
    {
     "data": {
      "text/html": [
       "<table class=\"simpletable\">\n",
       "<caption>OLS Regression Results</caption>\n",
       "<tr>\n",
       "  <th>Dep. Variable:</th>            <td>y</td>        <th>  R-squared:         </th> <td>   0.502</td>\n",
       "</tr>\n",
       "<tr>\n",
       "  <th>Model:</th>                   <td>OLS</td>       <th>  Adj. R-squared:    </th> <td>   0.497</td>\n",
       "</tr>\n",
       "<tr>\n",
       "  <th>Method:</th>             <td>Least Squares</td>  <th>  F-statistic:       </th> <td>   99.84</td>\n",
       "</tr>\n",
       "<tr>\n",
       "  <th>Date:</th>             <td>Sat, 22 Feb 2020</td> <th>  Prob (F-statistic):</th> <td>1.14e-16</td>\n",
       "</tr>\n",
       "<tr>\n",
       "  <th>Time:</th>                 <td>17:39:20</td>     <th>  Log-Likelihood:    </th> <td> -104.34</td>\n",
       "</tr>\n",
       "<tr>\n",
       "  <th>No. Observations:</th>      <td>   101</td>      <th>  AIC:               </th> <td>   212.7</td>\n",
       "</tr>\n",
       "<tr>\n",
       "  <th>Df Residuals:</th>          <td>    99</td>      <th>  BIC:               </th> <td>   217.9</td>\n",
       "</tr>\n",
       "<tr>\n",
       "  <th>Df Model:</th>              <td>     1</td>      <th>                     </th>     <td> </td>   \n",
       "</tr>\n",
       "<tr>\n",
       "  <th>Covariance Type:</th>      <td>nonrobust</td>    <th>                     </th>     <td> </td>   \n",
       "</tr>\n",
       "</table>\n",
       "<table class=\"simpletable\">\n",
       "<tr>\n",
       "    <td></td>       <th>coef</th>     <th>std err</th>      <th>t</th>      <th>P>|t|</th>  <th>[0.025</th>    <th>0.975]</th>  \n",
       "</tr>\n",
       "<tr>\n",
       "  <th>x1</th>    <td>   -0.5118</td> <td>    0.051</td> <td>   -9.992</td> <td> 0.000</td> <td>   -0.613</td> <td>   -0.410</td>\n",
       "</tr>\n",
       "<tr>\n",
       "  <th>const</th> <td>    7.1458</td> <td>    0.317</td> <td>   22.575</td> <td> 0.000</td> <td>    6.518</td> <td>    7.774</td>\n",
       "</tr>\n",
       "</table>\n",
       "<table class=\"simpletable\">\n",
       "<tr>\n",
       "  <th>Omnibus:</th>       <td>38.668</td> <th>  Durbin-Watson:     </th> <td>   1.898</td>\n",
       "</tr>\n",
       "<tr>\n",
       "  <th>Prob(Omnibus):</th> <td> 0.000</td> <th>  Jarque-Bera (JB):  </th> <td> 129.408</td>\n",
       "</tr>\n",
       "<tr>\n",
       "  <th>Skew:</th>          <td> 1.255</td> <th>  Prob(JB):          </th> <td>7.93e-29</td>\n",
       "</tr>\n",
       "<tr>\n",
       "  <th>Kurtosis:</th>      <td> 7.945</td> <th>  Cond. No.          </th> <td>    29.3</td>\n",
       "</tr>\n",
       "</table><br/><br/>Warnings:<br/>[1] Standard Errors assume that the covariance matrix of the errors is correctly specified."
      ],
      "text/plain": [
       "<class 'statsmodels.iolib.summary.Summary'>\n",
       "\"\"\"\n",
       "                            OLS Regression Results                            \n",
       "==============================================================================\n",
       "Dep. Variable:                      y   R-squared:                       0.502\n",
       "Model:                            OLS   Adj. R-squared:                  0.497\n",
       "Method:                 Least Squares   F-statistic:                     99.84\n",
       "Date:                Sat, 22 Feb 2020   Prob (F-statistic):           1.14e-16\n",
       "Time:                        17:39:20   Log-Likelihood:                -104.34\n",
       "No. Observations:                 101   AIC:                             212.7\n",
       "Df Residuals:                      99   BIC:                             217.9\n",
       "Df Model:                           1                                         \n",
       "Covariance Type:            nonrobust                                         \n",
       "==============================================================================\n",
       "                 coef    std err          t      P>|t|      [0.025      0.975]\n",
       "------------------------------------------------------------------------------\n",
       "x1            -0.5118      0.051     -9.992      0.000      -0.613      -0.410\n",
       "const          7.1458      0.317     22.575      0.000       6.518       7.774\n",
       "==============================================================================\n",
       "Omnibus:                       38.668   Durbin-Watson:                   1.898\n",
       "Prob(Omnibus):                  0.000   Jarque-Bera (JB):              129.408\n",
       "Skew:                           1.255   Prob(JB):                     7.93e-29\n",
       "Kurtosis:                       7.945   Cond. No.                         29.3\n",
       "==============================================================================\n",
       "\n",
       "Warnings:\n",
       "[1] Standard Errors assume that the covariance matrix of the errors is correctly specified.\n",
       "\"\"\""
      ]
     },
     "execution_count": 15,
     "metadata": {},
     "output_type": "execute_result"
    }
   ],
   "source": [
    "x = leinhardt_df[\"log_income\"].values\n",
    "X = np.vstack((x, np.ones(len(x)))).T\n",
    "\n",
    "y = leinhardt_df[\"log_infant\"].values\n",
    "\n",
    "results = sm.OLS(y, X).fit()\n",
    "results.summary()"
   ]
  },
  {
   "cell_type": "code",
   "execution_count": null,
   "metadata": {},
   "outputs": [],
   "source": []
  }
 ],
 "metadata": {
  "kernelspec": {
   "display_name": "Python (bayes)",
   "language": "python",
   "name": "bayes"
  },
  "language_info": {
   "codemirror_mode": {
    "name": "ipython",
    "version": 3
   },
   "file_extension": ".py",
   "mimetype": "text/x-python",
   "name": "python",
   "nbconvert_exporter": "python",
   "pygments_lexer": "ipython3",
   "version": "3.8.1"
  }
 },
 "nbformat": 4,
 "nbformat_minor": 2
}
