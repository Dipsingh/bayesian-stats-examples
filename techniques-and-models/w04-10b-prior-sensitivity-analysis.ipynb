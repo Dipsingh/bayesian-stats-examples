{
 "cells": [
  {
   "cell_type": "markdown",
   "metadata": {},
   "source": [
    "# Prior Sensitivity Analysis\n",
    "\n",
    "When we don't have strong beliefs about our prior, we should choose uninformative priors. In order to show that the priors don't matter, it is better to verify that the model returns similar results using a variety of priors, that way we know that the model is dependent on the data rather than the prior.\n",
    "\n",
    "Here we want to justify our assertion that people with bad health tend to make more doctor visits than people with good health."
   ]
  },
  {
   "cell_type": "code",
   "execution_count": 1,
   "metadata": {},
   "outputs": [],
   "source": [
    "import matplotlib.pyplot as plt\n",
    "import numpy as np\n",
    "import pandas as pd\n",
    "import pymc3 as pm\n",
    "import scipy.stats as stats\n",
    "import statsmodels.api as sm\n",
    "\n",
    "from scipy.special import expit\n",
    "\n",
    "%matplotlib inline"
   ]
  },
  {
   "cell_type": "code",
   "execution_count": 2,
   "metadata": {},
   "outputs": [],
   "source": [
    "import warnings\n",
    "warnings.filterwarnings(\"ignore\")"
   ]
  },
  {
   "cell_type": "markdown",
   "metadata": {},
   "source": [
    "## Load the data"
   ]
  },
  {
   "cell_type": "code",
   "execution_count": 3,
   "metadata": {},
   "outputs": [
    {
     "data": {
      "text/html": [
       "<div>\n",
       "<style scoped>\n",
       "    .dataframe tbody tr th:only-of-type {\n",
       "        vertical-align: middle;\n",
       "    }\n",
       "\n",
       "    .dataframe tbody tr th {\n",
       "        vertical-align: top;\n",
       "    }\n",
       "\n",
       "    .dataframe thead th {\n",
       "        text-align: right;\n",
       "    }\n",
       "</style>\n",
       "<table border=\"1\" class=\"dataframe\">\n",
       "  <thead>\n",
       "    <tr style=\"text-align: right;\">\n",
       "      <th></th>\n",
       "      <th>Unnamed: 0</th>\n",
       "      <th>numvisit</th>\n",
       "      <th>badh</th>\n",
       "      <th>age</th>\n",
       "    </tr>\n",
       "  </thead>\n",
       "  <tbody>\n",
       "    <tr>\n",
       "      <th>0</th>\n",
       "      <td>1</td>\n",
       "      <td>30</td>\n",
       "      <td>0</td>\n",
       "      <td>58</td>\n",
       "    </tr>\n",
       "    <tr>\n",
       "      <th>1</th>\n",
       "      <td>2</td>\n",
       "      <td>20</td>\n",
       "      <td>0</td>\n",
       "      <td>54</td>\n",
       "    </tr>\n",
       "    <tr>\n",
       "      <th>2</th>\n",
       "      <td>3</td>\n",
       "      <td>16</td>\n",
       "      <td>0</td>\n",
       "      <td>44</td>\n",
       "    </tr>\n",
       "    <tr>\n",
       "      <th>3</th>\n",
       "      <td>4</td>\n",
       "      <td>20</td>\n",
       "      <td>0</td>\n",
       "      <td>57</td>\n",
       "    </tr>\n",
       "    <tr>\n",
       "      <th>4</th>\n",
       "      <td>5</td>\n",
       "      <td>15</td>\n",
       "      <td>0</td>\n",
       "      <td>33</td>\n",
       "    </tr>\n",
       "  </tbody>\n",
       "</table>\n",
       "</div>"
      ],
      "text/plain": [
       "   Unnamed: 0  numvisit  badh  age\n",
       "0           1        30     0   58\n",
       "1           2        20     0   54\n",
       "2           3        16     0   44\n",
       "3           4        20     0   57\n",
       "4           5        15     0   33"
      ]
     },
     "execution_count": 3,
     "metadata": {},
     "output_type": "execute_result"
    }
   ],
   "source": [
    "try:\n",
    "    badhealth_df = pd.read_csv(\"badhealth.csv\", index=False)\n",
    "except:\n",
    "    badhealth_df = pd.read_csv(\"http://vincentarelbundock.github.io/Rdatasets/csv/COUNT/badhealth.csv\")\n",
    "    badhealth_df.to_csv(\"badhealth.csv\")\n",
    "    \n",
    "badhealth_df.head()"
   ]
  },
  {
   "cell_type": "markdown",
   "metadata": {},
   "source": [
    "## Model 1: Uninformative Prior"
   ]
  },
  {
   "cell_type": "code",
   "execution_count": 4,
   "metadata": {},
   "outputs": [],
   "source": [
    "x_badh = badhealth_df[\"badh\"].values\n",
    "x_age = badhealth_df[\"age\"].values\n",
    "x_intx = (badhealth_df[\"badh\"] * badhealth_df[\"age\"]).values\n",
    "y = badhealth_df[\"numvisit\"].values"
   ]
  },
  {
   "cell_type": "code",
   "execution_count": 5,
   "metadata": {},
   "outputs": [
    {
     "name": "stderr",
     "output_type": "stream",
     "text": [
      "Auto-assigning NUTS sampler...\n",
      "Initializing NUTS using jitter+adapt_diag...\n",
      "Multiprocess sampling (4 chains in 4 jobs)\n",
      "NUTS: [coeffs]\n",
      "Sampling 4 chains, 0 divergences: 100%|██████████| 24000/24000 [00:42<00:00, 558.38draws/s] \n"
     ]
    }
   ],
   "source": [
    "model_1 = pm.Model()\n",
    "with model_1:\n",
    "    coeffs = pm.Normal(\"coeffs\", mu=0, sigma=1e3, shape=4)\n",
    "\n",
    "    log_preds = (coeffs[0] + \n",
    "                 coeffs[1] * x_badh + \n",
    "                 coeffs[2] * x_age + \n",
    "                 coeffs[3] * x_intx)\n",
    "    y_obs = pm.NegativeBinomial(\"y_obs\", mu=pm.math.exp(log_preds), alpha=2.5, observed=y)\n",
    "    \n",
    "    trace_1 = pm.sample(5000, tune=1000)"
   ]
  },
  {
   "cell_type": "code",
   "execution_count": 6,
   "metadata": {},
   "outputs": [
    {
     "data": {
      "image/png": "[encoded data removed]",
      "text/plain": [
       "<Figure size 432x288 with 1 Axes>"
      ]
     },
     "metadata": {
      "needs_background": "light"
     },
     "output_type": "display_data"
    }
   ],
   "source": [
    "coeff_badh = trace_1.get_values(\"coeffs\")[:, 1]\n",
    "_ = pd.Series(coeff_badh).plot(kind=\"density\")"
   ]
  },
  {
   "cell_type": "markdown",
   "metadata": {},
   "source": [
    "Essentially all the probability mass > 0, indicating that the coefficient is positive. We have obtained this result using a relatively non-informative prior. \n",
    "\n",
    "## Model 2: Skeptical prior\n",
    "\n",
    "We will now use a prior that favors values of `badh` coefficient close to 0, Normal($\\mu$=0, $\\sigma$=0.2), so there is 99% prior probability that the coefficient < 0.6."
   ]
  },
  {
   "cell_type": "code",
   "execution_count": 7,
   "metadata": {},
   "outputs": [
    {
     "name": "stderr",
     "output_type": "stream",
     "text": [
      "Auto-assigning NUTS sampler...\n",
      "Initializing NUTS using jitter+adapt_diag...\n",
      "Multiprocess sampling (4 chains in 4 jobs)\n",
      "NUTS: [coeffs_2, coeffs]\n",
      "Sampling 4 chains, 0 divergences: 100%|██████████| 24000/24000 [00:44<00:00, 540.24draws/s] \n"
     ]
    }
   ],
   "source": [
    "model_2 = pm.Model()\n",
    "with model_2:\n",
    "    coeffs = pm.Normal(\"coeffs\", mu=0, sigma=1e3, shape=2)\n",
    "    coeffs_2 = pm.Normal(\"coeffs_2\", mu=0, sigma=0.2, shape=2)\n",
    "\n",
    "    log_preds = (coeffs[0] + \n",
    "                 coeffs_2[0] * x_badh + \n",
    "                 coeffs[1] * x_age + \n",
    "                 coeffs_2[1] * x_intx)\n",
    "    y_obs = pm.NegativeBinomial(\"y_obs\", mu=pm.math.exp(log_preds), alpha=2.5, observed=y)\n",
    "    \n",
    "    trace_2 = pm.sample(5000, tune=1000)"
   ]
  },
  {
   "cell_type": "code",
   "execution_count": 8,
   "metadata": {},
   "outputs": [
    {
     "data": {
      "image/png": "[encoded data removed]",
      "text/plain": [
       "<Figure size 432x288 with 1 Axes>"
      ]
     },
     "metadata": {
      "needs_background": "light"
     },
     "output_type": "display_data"
    }
   ],
   "source": [
    "coeff_badh = trace_2.get_values(\"coeffs_2\")[:, 0]\n",
    "_ = pd.Series(coeff_badh).plot(kind=\"density\")"
   ]
  },
  {
   "cell_type": "markdown",
   "metadata": {},
   "source": [
    "Under the skeptical prior, our coefficient value reduced, but it is still positive. Thus, even under the skeptical prior, bad health is associated with increased doctor visits."
   ]
  },
  {
   "cell_type": "markdown",
   "metadata": {},
   "source": [
    "## Interaction Term\n",
    "\n",
    "Under the baseline (uninformative prior) model, coefficient of `intx` was negative, but with the skeptical prior model, it is largely positive, so this result is sensitive to choice of prior. This is probably because the skeptical prior shrinks the effect of `badh`, the interaction term tries to restore it. Thus, despite the sensitivity to the prior, our conclusion that bad health is associated with higher number of doctor visits remains unchanged."
   ]
  },
  {
   "cell_type": "code",
   "execution_count": 9,
   "metadata": {},
   "outputs": [
    {
     "data": {
      "image/png": "[encoded data removed]",
      "text/plain": [
       "<Figure size 432x288 with 1 Axes>"
      ]
     },
     "metadata": {
      "needs_background": "light"
     },
     "output_type": "display_data"
    }
   ],
   "source": [
    "coeff_intx_1 = trace_1.get_values(\"coeffs\")[:, 3]\n",
    "coeff_intx_2 = trace_2.get_values(\"coeffs_2\")[:, 1]\n",
    "intx_df = pd.DataFrame({\"intx_1\": coeff_intx_1, \"intx_2\": coeff_intx_2})\n",
    "\n",
    "_ = intx_df.plot(kind=\"density\")"
   ]
  },
  {
   "cell_type": "code",
   "execution_count": 10,
   "metadata": {},
   "outputs": [
    {
     "data": {
      "text/plain": [
       "0.0731"
      ]
     },
     "execution_count": 10,
     "metadata": {},
     "output_type": "execute_result"
    }
   ],
   "source": [
    "np.mean(coeff_intx_1 > 0)"
   ]
  },
  {
   "cell_type": "code",
   "execution_count": 11,
   "metadata": {},
   "outputs": [
    {
     "data": {
      "text/plain": [
       "0.9997"
      ]
     },
     "execution_count": 11,
     "metadata": {},
     "output_type": "execute_result"
    }
   ],
   "source": [
    "np.mean(coeff_intx_2 > 0)"
   ]
  },
  {
   "cell_type": "code",
   "execution_count": null,
   "metadata": {},
   "outputs": [],
   "source": []
  }
 ],
 "metadata": {
  "kernelspec": {
   "display_name": "Python (bayes)",
   "language": "python",
   "name": "bayes"
  },
  "language_info": {
   "codemirror_mode": {
    "name": "ipython",
    "version": 3
   },
   "file_extension": ".py",
   "mimetype": "text/x-python",
   "name": "python",
   "nbconvert_exporter": "python",
   "pygments_lexer": "ipython3",
   "version": "3.8.1"
  }
 },
 "nbformat": 4,
 "nbformat_minor": 2
}
