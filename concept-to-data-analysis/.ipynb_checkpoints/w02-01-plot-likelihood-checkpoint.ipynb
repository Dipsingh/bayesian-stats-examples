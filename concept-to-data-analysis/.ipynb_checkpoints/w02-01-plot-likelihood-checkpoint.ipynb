{
 "cells": [
  {
   "cell_type": "code",
   "execution_count": 8,
   "metadata": {},
   "outputs": [
    {
     "ename": "ModuleNotFoundError",
     "evalue": "No module named 'pymc3'",
     "output_type": "error",
     "traceback": [
      "\u001b[0;31m---------------------------------------------------------------------------\u001b[0m",
      "\u001b[0;31mModuleNotFoundError\u001b[0m                       Traceback (most recent call last)",
      "\u001b[0;32m<ipython-input-8-7ba93d2e3f6d>\u001b[0m in \u001b[0;36m<module>\u001b[0;34m\u001b[0m\n\u001b[1;32m      1\u001b[0m \u001b[0;32mimport\u001b[0m \u001b[0mmatplotlib\u001b[0m\u001b[0;34m.\u001b[0m\u001b[0mpyplot\u001b[0m \u001b[0;32mas\u001b[0m \u001b[0mplt\u001b[0m\u001b[0;34m\u001b[0m\u001b[0;34m\u001b[0m\u001b[0m\n\u001b[1;32m      2\u001b[0m \u001b[0;32mimport\u001b[0m \u001b[0mnumpy\u001b[0m \u001b[0;32mas\u001b[0m \u001b[0mnp\u001b[0m\u001b[0;34m\u001b[0m\u001b[0;34m\u001b[0m\u001b[0m\n\u001b[0;32m----> 3\u001b[0;31m \u001b[0;32mimport\u001b[0m \u001b[0mpymc3\u001b[0m \u001b[0;32mas\u001b[0m \u001b[0mpm\u001b[0m\u001b[0;34m\u001b[0m\u001b[0;34m\u001b[0m\u001b[0m\n\u001b[0m\u001b[1;32m      4\u001b[0m \u001b[0mget_ipython\u001b[0m\u001b[0;34m(\u001b[0m\u001b[0;34m)\u001b[0m\u001b[0;34m.\u001b[0m\u001b[0mrun_line_magic\u001b[0m\u001b[0;34m(\u001b[0m\u001b[0;34m'matplotlib'\u001b[0m\u001b[0;34m,\u001b[0m \u001b[0;34m'inline'\u001b[0m\u001b[0;34m)\u001b[0m\u001b[0;34m\u001b[0m\u001b[0;34m\u001b[0m\u001b[0m\n",
      "\u001b[0;31mModuleNotFoundError\u001b[0m: No module named 'pymc3'"
     ]
    }
   ],
   "source": [
    "import matplotlib.pyplot as plt\n",
    "import numpy as np\n",
    "import pymc3 as pm\n",
    "%matplotlib inline"
   ]
  },
  {
   "cell_type": "code",
   "execution_count": 3,
   "metadata": {},
   "outputs": [
    {
     "data": {
      "text/plain": [
       "array([3.70121086e-146, 6.25622724e-126, 1.03242659e-114, 3.41415955e-107,\n",
       "       1.04516016e-101, 1.63239783e-097, 3.23196022e-094, 1.39600326e-091,\n",
       "       1.86654026e-089, 9.80715628e-088, 2.39991307e-086, 3.10003203e-085,\n",
       "       2.32400054e-084, 1.08820465e-083, 3.37270446e-083, 7.24844052e-083,\n",
       "       1.12185477e-082, 1.28992348e-082, 1.13069497e-082, 7.72103322e-083,\n",
       "       4.18287767e-083, 1.82583993e-083, 6.50671897e-084, 1.91455423e-084,\n",
       "       4.69650746e-085, 9.68467666e-086, 1.69078793e-086, 2.51441574e-087,\n",
       "       3.20180021e-088, 3.50660998e-089, 3.31545943e-090, 2.71469977e-091,\n",
       "       1.92991845e-092, 1.19369365e-093, 6.43398690e-095, 3.02560007e-096,\n",
       "       1.24229390e-097, 4.45546577e-099, 1.39584627e-100, 3.81882275e-102,\n",
       "       9.11795622e-104, 1.89815117e-105, 3.44097456e-107, 5.42332418e-109,\n",
       "       7.41759549e-111, 8.78450113e-113, 8.98526728e-115, 7.91527127e-117,\n",
       "       5.98598359e-119, 3.87259191e-121, 2.13484785e-123, 9.98542608e-126,\n",
       "       3.94420986e-128, 1.30893927e-130, 3.62926067e-133, 8.35633480e-136,\n",
       "       1.58724160e-138, 2.46935078e-141, 3.12212180e-144, 3.18102574e-147,\n",
       "       2.58785075e-150, 1.66426061e-153, 8.36922136e-157, 3.25220848e-160,\n",
       "       9.64007084e-164, 2.14905806e-167, 3.54779138e-171, 4.26417092e-175,\n",
       "       3.66243656e-179, 2.20206650e-183, 9.06033840e-188, 2.48756263e-192,\n",
       "       4.43160020e-197, 4.96525955e-202, 3.37857690e-207, 1.34235049e-212,\n",
       "       2.97894460e-218, 3.51116067e-224, 2.07529216e-230, 5.75860966e-237,\n",
       "       6.95188328e-244, 3.34178916e-251, 5.76592333e-259, 3.15836929e-267,\n",
       "       4.74346414e-276, 1.63638011e-285, 1.04425303e-295, 9.42325836e-307,\n",
       "       8.56803702e-319, 0.00000000e+000, 0.00000000e+000, 0.00000000e+000,\n",
       "       0.00000000e+000, 0.00000000e+000, 0.00000000e+000, 0.00000000e+000,\n",
       "       0.00000000e+000, 0.00000000e+000])"
      ]
     },
     "execution_count": 3,
     "metadata": {},
     "output_type": "execute_result"
    }
   ],
   "source": [
    "def likelihood(n, y, theta):\n",
    "    \"\"\" we assume a Binomial distribution \"\"\"\n",
    "    return (theta ** y) * (1 - theta) ** (n - y)\n",
    "\n",
    "theta = np.arange(0.01, 0.99, 0.01)\n",
    "likelihood(400, 72, theta)"
   ]
  },
  {
   "cell_type": "code",
   "execution_count": 6,
   "metadata": {},
   "outputs": [
    {
     "data": {
      "text/plain": [
       "<matplotlib.lines.Line2D at 0x11acdb0f0>"
      ]
     },
     "execution_count": 6,
     "metadata": {},
     "output_type": "execute_result"
    },
    {
     "data": {
      "image/png": "[encoded data removed]",
      "text/plain": [
       "<Figure size 432x288 with 1 Axes>"
      ]
     },
     "metadata": {
      "needs_background": "light"
     },
     "output_type": "display_data"
    }
   ],
   "source": [
    "like = likelihood(400, 72, theta)\n",
    "plt.plot(theta, like)\n",
    "plt.xlabel(\"theta\")\n",
    "plt.ylabel(\"likelihood\")\n",
    "theta_hat = theta[np.argmax(like)]\n",
    "plt.axvline(x=theta_hat, color=\"r\")"
   ]
  },
  {
   "cell_type": "code",
   "execution_count": 7,
   "metadata": {},
   "outputs": [
    {
     "data": {
      "text/plain": [
       "<matplotlib.lines.Line2D at 0x11adcff60>"
      ]
     },
     "execution_count": 7,
     "metadata": {},
     "output_type": "execute_result"
    },
    {
     "data": {
      "image/png": "[encoded data removed]",
      "text/plain": [
       "<Figure size 432x288 with 1 Axes>"
      ]
     },
     "metadata": {
      "needs_background": "light"
     },
     "output_type": "display_data"
    }
   ],
   "source": [
    "def log_likelihood(n, y, theta):\n",
    "    return y * np.log(theta) + (n - y) * np.log(1 - theta)\n",
    "\n",
    "log_like = log_likelihood(400, 72, theta)\n",
    "plt.plot(theta, log_like)\n",
    "plt.xlabel(\"theta\")\n",
    "plt.ylabel(\"log likelihood\")\n",
    "theta_hat = theta[np.argmax(log_like)]\n",
    "plt.axvline(x=theta_hat, color=\"r\")"
   ]
  },
  {
   "cell_type": "code",
   "execution_count": null,
   "metadata": {},
   "outputs": [],
   "source": []
  }
 ],
 "metadata": {
  "kernelspec": {
   "display_name": "Python (fastai)",
   "language": "python",
   "name": "fastai"
  },
  "language_info": {
   "codemirror_mode": {
    "name": "ipython",
    "version": 3
   },
   "file_extension": ".py",
   "mimetype": "text/x-python",
   "name": "python",
   "nbconvert_exporter": "python",
   "pygments_lexer": "ipython3",
   "version": "3.6.7"
  }
 },
 "nbformat": 4,
 "nbformat_minor": 2
}
