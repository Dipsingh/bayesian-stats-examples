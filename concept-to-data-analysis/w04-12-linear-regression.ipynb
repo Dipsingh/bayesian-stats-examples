{
 "cells": [
  {
   "cell_type": "markdown",
   "metadata": {},
   "source": [
    "# Linear Regression\n",
    "\n",
    "Two examples illustrating linear regression (single variable) and multiple linear regression.\n",
    "\n",
    "## Example 1: Space Shuttle Challenger\n",
    "\n",
    "For background, see the [Challenger Data page on randomservices.org](http://www.randomservices.org/random/data/Challenger.html). Objective here is to understand the relationship between Temperature and the Index of O-ring damage (the \"Challenger data 2\" dataset)."
   ]
  },
  {
   "cell_type": "code",
   "execution_count": 1,
   "metadata": {},
   "outputs": [],
   "source": [
    "import matplotlib.pyplot as plt\n",
    "import numpy as np\n",
    "import pandas as pd\n",
    "import scipy.stats as stats\n",
    "import statsmodels.api as sm\n",
    "%matplotlib inline"
   ]
  },
  {
   "cell_type": "markdown",
   "metadata": {},
   "source": [
    "### Load Data\n",
    "\n",
    "This is data collected for 23 space shuttle launches and the index of O-ring damage."
   ]
  },
  {
   "cell_type": "code",
   "execution_count": 2,
   "metadata": {},
   "outputs": [
    {
     "data": {
      "text/html": [
       "<div>\n",
       "<style scoped>\n",
       "    .dataframe tbody tr th:only-of-type {\n",
       "        vertical-align: middle;\n",
       "    }\n",
       "\n",
       "    .dataframe tbody tr th {\n",
       "        vertical-align: top;\n",
       "    }\n",
       "\n",
       "    .dataframe thead th {\n",
       "        text-align: right;\n",
       "    }\n",
       "</style>\n",
       "<table border=\"1\" class=\"dataframe\">\n",
       "  <thead>\n",
       "    <tr style=\"text-align: right;\">\n",
       "      <th></th>\n",
       "      <th>T</th>\n",
       "      <th>I</th>\n",
       "    </tr>\n",
       "  </thead>\n",
       "  <tbody>\n",
       "    <tr>\n",
       "      <th>0</th>\n",
       "      <td>53</td>\n",
       "      <td>11</td>\n",
       "    </tr>\n",
       "    <tr>\n",
       "      <th>1</th>\n",
       "      <td>57</td>\n",
       "      <td>4</td>\n",
       "    </tr>\n",
       "    <tr>\n",
       "      <th>2</th>\n",
       "      <td>58</td>\n",
       "      <td>4</td>\n",
       "    </tr>\n",
       "    <tr>\n",
       "      <th>3</th>\n",
       "      <td>63</td>\n",
       "      <td>2</td>\n",
       "    </tr>\n",
       "    <tr>\n",
       "      <th>4</th>\n",
       "      <td>66</td>\n",
       "      <td>0</td>\n",
       "    </tr>\n",
       "  </tbody>\n",
       "</table>\n",
       "</div>"
      ],
      "text/plain": [
       "    T   I\n",
       "0  53  11\n",
       "1  57   4\n",
       "2  58   4\n",
       "3  63   2\n",
       "4  66   0"
      ]
     },
     "execution_count": 2,
     "metadata": {},
     "output_type": "execute_result"
    }
   ],
   "source": [
    "try:\n",
    "    oring_df = pd.read_csv(\"Challenger2.txt\", sep='\\t')\n",
    "except:\n",
    "    oring_df = pd.read_csv(\"http://www.randomservices.org/random/data/Challenger2.txt\", sep='\\t')\n",
    "    oring_df.to_csv(\"Challenger2.txt\", sep='\\t')\n",
    "oring_df.head()"
   ]
  },
  {
   "cell_type": "markdown",
   "metadata": {},
   "source": [
    "### Plot data\n",
    "\n",
    "From the plot, it appears that O-ring damage is more likely at lower temperatures. All launches that had no damage were on warmer days, and all launches on colder days had damage."
   ]
  },
  {
   "cell_type": "code",
   "execution_count": 3,
   "metadata": {},
   "outputs": [
    {
     "data": {
      "text/plain": [
       "<matplotlib.axes._subplots.AxesSubplot at 0x12321d1c0>"
      ]
     },
     "execution_count": 3,
     "metadata": {},
     "output_type": "execute_result"
    },
    {
     "data": {
      "image/png": "[encoded data removed]",
      "text/plain": [
       "<Figure size 432x288 with 1 Axes>"
      ]
     },
     "metadata": {
      "needs_background": "light"
     },
     "output_type": "display_data"
    }
   ],
   "source": [
    "oring_df.plot.scatter(x=\"T\", y=\"I\")"
   ]
  },
  {
   "cell_type": "markdown",
   "metadata": {},
   "source": [
    "### Linear Regression with single variable\n",
    "\n",
    "We want to predict damage based on temperature.\n",
    "\n",
    "Information returned by the summary:\n",
    "* coefficient of T (slope): -0.2434\n",
    "* constant intercept: 18.3651\n",
    "* standard deviation for marginal distribution for slope: 0.063\n",
    "* for frequentists, if we want to do a significance test of the slope values, the t-values (t) and the p-values associated with them: (-3.833, 0.001) and (4.138, 0.000).\n",
    "* R-squared error: 0.412"
   ]
  },
  {
   "cell_type": "code",
   "execution_count": 4,
   "metadata": {},
   "outputs": [
    {
     "name": "stdout",
     "output_type": "stream",
     "text": [
      "(23, 2) (23,)\n"
     ]
    }
   ],
   "source": [
    "# add a column of 1's for the constant\n",
    "x = oring_df[\"T\"].values\n",
    "X = np.vstack((x, np.ones(len(x)))).T\n",
    "\n",
    "y = oring_df[\"I\"].values\n",
    "\n",
    "print(X.shape, y.shape)"
   ]
  },
  {
   "cell_type": "code",
   "execution_count": 5,
   "metadata": {},
   "outputs": [
    {
     "data": {
      "text/html": [
       "<table class=\"simpletable\">\n",
       "<caption>OLS Regression Results</caption>\n",
       "<tr>\n",
       "  <th>Dep. Variable:</th>            <td>y</td>        <th>  R-squared:         </th> <td>   0.412</td>\n",
       "</tr>\n",
       "<tr>\n",
       "  <th>Model:</th>                   <td>OLS</td>       <th>  Adj. R-squared:    </th> <td>   0.384</td>\n",
       "</tr>\n",
       "<tr>\n",
       "  <th>Method:</th>             <td>Least Squares</td>  <th>  F-statistic:       </th> <td>   14.69</td>\n",
       "</tr>\n",
       "<tr>\n",
       "  <th>Date:</th>             <td>Sun, 09 Feb 2020</td> <th>  Prob (F-statistic):</th> <td>0.000968</td>\n",
       "</tr>\n",
       "<tr>\n",
       "  <th>Time:</th>                 <td>16:25:48</td>     <th>  Log-Likelihood:    </th> <td> -48.672</td>\n",
       "</tr>\n",
       "<tr>\n",
       "  <th>No. Observations:</th>      <td>    23</td>      <th>  AIC:               </th> <td>   101.3</td>\n",
       "</tr>\n",
       "<tr>\n",
       "  <th>Df Residuals:</th>          <td>    21</td>      <th>  BIC:               </th> <td>   103.6</td>\n",
       "</tr>\n",
       "<tr>\n",
       "  <th>Df Model:</th>              <td>     1</td>      <th>                     </th>     <td> </td>   \n",
       "</tr>\n",
       "<tr>\n",
       "  <th>Covariance Type:</th>      <td>nonrobust</td>    <th>                     </th>     <td> </td>   \n",
       "</tr>\n",
       "</table>\n",
       "<table class=\"simpletable\">\n",
       "<tr>\n",
       "    <td></td>       <th>coef</th>     <th>std err</th>      <th>t</th>      <th>P>|t|</th>  <th>[0.025</th>    <th>0.975]</th>  \n",
       "</tr>\n",
       "<tr>\n",
       "  <th>x1</th>    <td>   -0.2434</td> <td>    0.063</td> <td>   -3.833</td> <td> 0.001</td> <td>   -0.375</td> <td>   -0.111</td>\n",
       "</tr>\n",
       "<tr>\n",
       "  <th>const</th> <td>   18.3651</td> <td>    4.439</td> <td>    4.138</td> <td> 0.000</td> <td>    9.135</td> <td>   27.596</td>\n",
       "</tr>\n",
       "</table>\n",
       "<table class=\"simpletable\">\n",
       "<tr>\n",
       "  <th>Omnibus:</th>       <td> 7.558</td> <th>  Durbin-Watson:     </th> <td>   1.466</td>\n",
       "</tr>\n",
       "<tr>\n",
       "  <th>Prob(Omnibus):</th> <td> 0.023</td> <th>  Jarque-Bera (JB):  </th> <td>   5.542</td>\n",
       "</tr>\n",
       "<tr>\n",
       "  <th>Skew:</th>          <td> 1.152</td> <th>  Prob(JB):          </th> <td>  0.0626</td>\n",
       "</tr>\n",
       "<tr>\n",
       "  <th>Kurtosis:</th>      <td> 3.687</td> <th>  Cond. No.          </th> <td>    708.</td>\n",
       "</tr>\n",
       "</table><br/><br/>Warnings:<br/>[1] Standard Errors assume that the covariance matrix of the errors is correctly specified."
      ],
      "text/plain": [
       "<class 'statsmodels.iolib.summary.Summary'>\n",
       "\"\"\"\n",
       "                            OLS Regression Results                            \n",
       "==============================================================================\n",
       "Dep. Variable:                      y   R-squared:                       0.412\n",
       "Model:                            OLS   Adj. R-squared:                  0.384\n",
       "Method:                 Least Squares   F-statistic:                     14.69\n",
       "Date:                Sun, 09 Feb 2020   Prob (F-statistic):           0.000968\n",
       "Time:                        16:25:48   Log-Likelihood:                -48.672\n",
       "No. Observations:                  23   AIC:                             101.3\n",
       "Df Residuals:                      21   BIC:                             103.6\n",
       "Df Model:                           1                                         \n",
       "Covariance Type:            nonrobust                                         \n",
       "==============================================================================\n",
       "                 coef    std err          t      P>|t|      [0.025      0.975]\n",
       "------------------------------------------------------------------------------\n",
       "x1            -0.2434      0.063     -3.833      0.001      -0.375      -0.111\n",
       "const         18.3651      4.439      4.138      0.000       9.135      27.596\n",
       "==============================================================================\n",
       "Omnibus:                        7.558   Durbin-Watson:                   1.466\n",
       "Prob(Omnibus):                  0.023   Jarque-Bera (JB):                5.542\n",
       "Skew:                           1.152   Prob(JB):                       0.0626\n",
       "Kurtosis:                       3.687   Cond. No.                         708.\n",
       "==============================================================================\n",
       "\n",
       "Warnings:\n",
       "[1] Standard Errors assume that the covariance matrix of the errors is correctly specified.\n",
       "\"\"\""
      ]
     },
     "execution_count": 5,
     "metadata": {},
     "output_type": "execute_result"
    }
   ],
   "source": [
    "results = sm.OLS(y, X).fit()\n",
    "results.summary()"
   ]
  },
  {
   "cell_type": "markdown",
   "metadata": {},
   "source": [
    "### Plot fitted line\n",
    "\n",
    "Best fit line shows that as the temperature gets colder by about 4 degrees, there is an increase in 1 unit of damage."
   ]
  },
  {
   "cell_type": "code",
   "execution_count": 6,
   "metadata": {},
   "outputs": [
    {
     "data": {
      "image/png": "[encoded data removed]",
      "text/plain": [
       "<Figure size 432x288 with 1 Axes>"
      ]
     },
     "metadata": {
      "needs_background": "light"
     },
     "output_type": "display_data"
    }
   ],
   "source": [
    "plt.scatter(x, y)\n",
    "plt.xlabel(\"T\")\n",
    "plt.ylabel(\"I\")\n",
    "\n",
    "y_pred = -0.2434 * x + 18.3651\n",
    "plt.plot(x, y_pred, color='r')\n",
    "\n",
    "plt.show()"
   ]
  },
  {
   "cell_type": "markdown",
   "metadata": {},
   "source": [
    "### 95% posterior probability for slope\n",
    "\n",
    "We can also calculate the 95% posterior probability for the slope. Marginal distribution for slope is a t-distribution with 21 degrees of freedom, and has the scaling factor of the standard error.\n",
    "\n",
    "Since the range does not pass through 0, we can definitely conclude a negative relationship.\n",
    "\n",
    "Also note that the summary reports these bounds as well."
   ]
  },
  {
   "cell_type": "code",
   "execution_count": 7,
   "metadata": {},
   "outputs": [
    {
     "data": {
      "text/plain": [
       "(-0.3744156722178427, -0.11238432778215729)"
      ]
     },
     "execution_count": 7,
     "metadata": {},
     "output_type": "execute_result"
    }
   ],
   "source": [
    "slope_lb = -0.2434 - 0.063 * stats.t.ppf(0.975, 21)\n",
    "slope_ub = -0.2434 + 0.063 * stats.t.ppf(0.975, 21)\n",
    "(slope_lb, slope_ub)"
   ]
  },
  {
   "cell_type": "markdown",
   "metadata": {},
   "source": [
    "### Predictions\n",
    "\n",
    "Predicted O-ring damage for Challenger launch, where T was 31 F."
   ]
  },
  {
   "cell_type": "code",
   "execution_count": 8,
   "metadata": {},
   "outputs": [
    {
     "data": {
      "text/plain": [
       "10.819700000000001"
      ]
     },
     "execution_count": 8,
     "metadata": {},
     "output_type": "execute_result"
    }
   ],
   "source": [
    "y_pred = -0.2434 * 31 + 18.3651\n",
    "y_pred"
   ]
  },
  {
   "cell_type": "markdown",
   "metadata": {},
   "source": [
    "Or, alternatively, using vector arithmetic."
   ]
  },
  {
   "cell_type": "code",
   "execution_count": 9,
   "metadata": {},
   "outputs": [
    {
     "data": {
      "text/plain": [
       "10.820515873015871"
      ]
     },
     "execution_count": 9,
     "metadata": {},
     "output_type": "execute_result"
    }
   ],
   "source": [
    "y_pred = np.dot(results.params, np.array([31, 1]))\n",
    "y_pred"
   ]
  },
  {
   "cell_type": "markdown",
   "metadata": {},
   "source": [
    "### 95% posterior probability for prediction at T=31\n",
    "\n",
    "Apparently [hidden functionality in statsmodels](https://stackoverflow.com/questions/17559408/confidence-and-prediction-intervals-with-statsmodels).\n",
    "\n",
    "The 95% posterior probability for the distribution of predictions is given by the `obs_ci_lower` and `obs_ci_upper` columns below."
   ]
  },
  {
   "cell_type": "code",
   "execution_count": 10,
   "metadata": {},
   "outputs": [
    {
     "data": {
      "text/html": [
       "<div>\n",
       "<style scoped>\n",
       "    .dataframe tbody tr th:only-of-type {\n",
       "        vertical-align: middle;\n",
       "    }\n",
       "\n",
       "    .dataframe tbody tr th {\n",
       "        vertical-align: top;\n",
       "    }\n",
       "\n",
       "    .dataframe thead th {\n",
       "        text-align: right;\n",
       "    }\n",
       "</style>\n",
       "<table border=\"1\" class=\"dataframe\">\n",
       "  <thead>\n",
       "    <tr style=\"text-align: right;\">\n",
       "      <th></th>\n",
       "      <th>mean</th>\n",
       "      <th>mean_se</th>\n",
       "      <th>mean_ci_lower</th>\n",
       "      <th>mean_ci_upper</th>\n",
       "      <th>obs_ci_lower</th>\n",
       "      <th>obs_ci_upper</th>\n",
       "    </tr>\n",
       "  </thead>\n",
       "  <tbody>\n",
       "    <tr>\n",
       "      <th>0</th>\n",
       "      <td>10.820516</td>\n",
       "      <td>2.487525</td>\n",
       "      <td>5.647425</td>\n",
       "      <td>15.993607</td>\n",
       "      <td>4.048269</td>\n",
       "      <td>17.592763</td>\n",
       "    </tr>\n",
       "  </tbody>\n",
       "</table>\n",
       "</div>"
      ],
      "text/plain": [
       "        mean   mean_se  mean_ci_lower  mean_ci_upper  obs_ci_lower  \\\n",
       "0  10.820516  2.487525       5.647425      15.993607      4.048269   \n",
       "\n",
       "   obs_ci_upper  \n",
       "0     17.592763  "
      ]
     },
     "execution_count": 10,
     "metadata": {},
     "output_type": "execute_result"
    }
   ],
   "source": [
    "predictions = results.get_prediction([31, 1])\n",
    "predictions.summary_frame(alpha=0.05)"
   ]
  },
  {
   "cell_type": "markdown",
   "metadata": {},
   "source": [
    "### Posterior probability that damage index > 0 at T=31\n",
    "\n",
    "The damage index is distributed according to the Student t-distribution.\n",
    "\n",
    "Standard error of the prediction is given by the square root of the scale as mentioned in this [StackExchange page](https://stats.stackexchange.com/questions/328509/standard-error-of-regression-and-of-predictions-in-python-these-are-available-i).\n",
    "\n",
    "Loc of the distribution is the prediction when T=31, i.e. 10.8205.\n",
    "\n",
    "Probabilty of damage index > 0 at T=31 is 0.99, i.e., extremely likely."
   ]
  },
  {
   "cell_type": "code",
   "execution_count": 11,
   "metadata": {},
   "outputs": [
    {
     "data": {
      "text/plain": [
       "0.9999788805920529"
      ]
     },
     "execution_count": 11,
     "metadata": {},
     "output_type": "execute_result"
    }
   ],
   "source": [
    "t_scale = np.sqrt(results.scale)\n",
    "t_loc = 10.8205\n",
    "1 - stats.t.cdf(0, df=21, loc=t_loc, scale=t_scale)"
   ]
  },
  {
   "cell_type": "markdown",
   "metadata": {},
   "source": [
    "## Example 2: Galton Experiments\n",
    "\n",
    "For background, see [Galton Heights Data](http://www.randomservices.org/random/data/Galton.html). Objective is to understand the relationship between heights of children and their gender and parent heights, using Galton's Height Data dataset.\n",
    "\n",
    "This is a multiple regression example.\n",
    "\n",
    "### Load Data\n",
    "\n",
    "Data has 898 instances, each instance corresponds to a single child and contains father's height, mother's height, gender, number of siblings and the child's own height. All height measurements are in inches."
   ]
  },
  {
   "cell_type": "code",
   "execution_count": 12,
   "metadata": {},
   "outputs": [
    {
     "data": {
      "text/html": [
       "<div>\n",
       "<style scoped>\n",
       "    .dataframe tbody tr th:only-of-type {\n",
       "        vertical-align: middle;\n",
       "    }\n",
       "\n",
       "    .dataframe tbody tr th {\n",
       "        vertical-align: top;\n",
       "    }\n",
       "\n",
       "    .dataframe thead th {\n",
       "        text-align: right;\n",
       "    }\n",
       "</style>\n",
       "<table border=\"1\" class=\"dataframe\">\n",
       "  <thead>\n",
       "    <tr style=\"text-align: right;\">\n",
       "      <th></th>\n",
       "      <th>Family</th>\n",
       "      <th>Father</th>\n",
       "      <th>Mother</th>\n",
       "      <th>Gender</th>\n",
       "      <th>Height</th>\n",
       "      <th>Kids</th>\n",
       "    </tr>\n",
       "  </thead>\n",
       "  <tbody>\n",
       "    <tr>\n",
       "      <th>0</th>\n",
       "      <td>1</td>\n",
       "      <td>78.5</td>\n",
       "      <td>67.0</td>\n",
       "      <td>M</td>\n",
       "      <td>73.2</td>\n",
       "      <td>4</td>\n",
       "    </tr>\n",
       "    <tr>\n",
       "      <th>1</th>\n",
       "      <td>1</td>\n",
       "      <td>78.5</td>\n",
       "      <td>67.0</td>\n",
       "      <td>F</td>\n",
       "      <td>69.2</td>\n",
       "      <td>4</td>\n",
       "    </tr>\n",
       "    <tr>\n",
       "      <th>2</th>\n",
       "      <td>1</td>\n",
       "      <td>78.5</td>\n",
       "      <td>67.0</td>\n",
       "      <td>F</td>\n",
       "      <td>69.0</td>\n",
       "      <td>4</td>\n",
       "    </tr>\n",
       "    <tr>\n",
       "      <th>3</th>\n",
       "      <td>1</td>\n",
       "      <td>78.5</td>\n",
       "      <td>67.0</td>\n",
       "      <td>F</td>\n",
       "      <td>69.0</td>\n",
       "      <td>4</td>\n",
       "    </tr>\n",
       "    <tr>\n",
       "      <th>4</th>\n",
       "      <td>2</td>\n",
       "      <td>75.5</td>\n",
       "      <td>66.5</td>\n",
       "      <td>M</td>\n",
       "      <td>73.5</td>\n",
       "      <td>4</td>\n",
       "    </tr>\n",
       "  </tbody>\n",
       "</table>\n",
       "</div>"
      ],
      "text/plain": [
       "  Family  Father  Mother Gender  Height  Kids\n",
       "0      1    78.5    67.0      M    73.2     4\n",
       "1      1    78.5    67.0      F    69.2     4\n",
       "2      1    78.5    67.0      F    69.0     4\n",
       "3      1    78.5    67.0      F    69.0     4\n",
       "4      2    75.5    66.5      M    73.5     4"
      ]
     },
     "execution_count": 12,
     "metadata": {},
     "output_type": "execute_result"
    }
   ],
   "source": [
    "try:\n",
    "    galton_df = pd.read_csv(\"Galton.txt\", sep='\\t', index=False)\n",
    "except:\n",
    "    galton_df = pd.read_csv(\"http://www.randomservices.org/random/data/Galton.txt\", sep='\\t')\n",
    "    galton_df.to_csv(\"Galton.txt\", sep='\\t')\n",
    "\n",
    "galton_df.reset_index()\n",
    "galton_df.head()"
   ]
  },
  {
   "cell_type": "markdown",
   "metadata": {},
   "source": [
    "### Plot data\n",
    "\n",
    "Pandas scatter_matrix only plots continuous variables, so for cases where we have categorical variables, we need to do a bit of data cleaning to make them continuous.\n",
    "\n",
    "Based on the plot, we note the following relations of other columns w.r.t Height:\n",
    "* Some positive correlation with Father's height.\n",
    "* Some positive correlation with Mother's height.\n",
    "* Zero or very small correlation with number of siblings (Kids).\n",
    "* Correlation with gender (Males seem taller in general compared to Females)."
   ]
  },
  {
   "cell_type": "code",
   "execution_count": 13,
   "metadata": {},
   "outputs": [
    {
     "data": {
      "image/png": "[encoded data removed]",
      "text/plain": [
       "<Figure size 432x288 with 25 Axes>"
      ]
     },
     "metadata": {
      "needs_background": "light"
     },
     "output_type": "display_data"
    }
   ],
   "source": [
    "galton_df.loc[galton_df[\"Gender\"] == 'F', 'Gender_i'] = 0\n",
    "galton_df.loc[galton_df[\"Gender\"] == 'M', 'Gender_i'] = 1\n",
    "\n",
    "_ = pd.plotting.scatter_matrix(galton_df, diagonal=\"hist\")"
   ]
  },
  {
   "cell_type": "markdown",
   "metadata": {},
   "source": [
    "### Linear Regression Model #1\n",
    "\n",
    "From the summary of the results of fitting the model, we see that there are clear effects for Father's Height, Mother's Height, and Gender, but not such a clear effect for Number of Siblings.\n",
    "\n",
    "In the Number of Siblings case, we see that the standard error is very close to the size of the estimate so basically this distribution is very close to 0 and includes 0, so we may want to build a model without this variable. This is because models which have so called \"chimera variables\" tend to increase predictive variance."
   ]
  },
  {
   "cell_type": "code",
   "execution_count": 14,
   "metadata": {},
   "outputs": [
    {
     "data": {
      "text/plain": [
       "((898, 5), (898, 1))"
      ]
     },
     "execution_count": 14,
     "metadata": {},
     "output_type": "execute_result"
    }
   ],
   "source": [
    "x = galton_df[[\"Father\", \"Mother\", \"Gender_i\", \"Kids\"]].values\n",
    "const_col = np.ones((x.shape[0], 1))\n",
    "X = np.hstack((x, const_col))\n",
    "\n",
    "y = galton_df[[\"Height\"]]\n",
    "\n",
    "X.shape, y.shape"
   ]
  },
  {
   "cell_type": "code",
   "execution_count": 15,
   "metadata": {},
   "outputs": [
    {
     "data": {
      "text/html": [
       "<table class=\"simpletable\">\n",
       "<caption>OLS Regression Results</caption>\n",
       "<tr>\n",
       "  <th>Dep. Variable:</th>         <td>Height</td>      <th>  R-squared:         </th> <td>   0.641</td> \n",
       "</tr>\n",
       "<tr>\n",
       "  <th>Model:</th>                   <td>OLS</td>       <th>  Adj. R-squared:    </th> <td>   0.639</td> \n",
       "</tr>\n",
       "<tr>\n",
       "  <th>Method:</th>             <td>Least Squares</td>  <th>  F-statistic:       </th> <td>   398.1</td> \n",
       "</tr>\n",
       "<tr>\n",
       "  <th>Date:</th>             <td>Sun, 09 Feb 2020</td> <th>  Prob (F-statistic):</th> <td>9.09e-197</td>\n",
       "</tr>\n",
       "<tr>\n",
       "  <th>Time:</th>                 <td>16:25:50</td>     <th>  Log-Likelihood:    </th> <td> -1960.1</td> \n",
       "</tr>\n",
       "<tr>\n",
       "  <th>No. Observations:</th>      <td>   898</td>      <th>  AIC:               </th> <td>   3930.</td> \n",
       "</tr>\n",
       "<tr>\n",
       "  <th>Df Residuals:</th>          <td>   893</td>      <th>  BIC:               </th> <td>   3954.</td> \n",
       "</tr>\n",
       "<tr>\n",
       "  <th>Df Model:</th>              <td>     4</td>      <th>                     </th>     <td> </td>    \n",
       "</tr>\n",
       "<tr>\n",
       "  <th>Covariance Type:</th>      <td>nonrobust</td>    <th>                     </th>     <td> </td>    \n",
       "</tr>\n",
       "</table>\n",
       "<table class=\"simpletable\">\n",
       "<tr>\n",
       "    <td></td>       <th>coef</th>     <th>std err</th>      <th>t</th>      <th>P>|t|</th>  <th>[0.025</th>    <th>0.975]</th>  \n",
       "</tr>\n",
       "<tr>\n",
       "  <th>x1</th>    <td>    0.3983</td> <td>    0.030</td> <td>   13.472</td> <td> 0.000</td> <td>    0.340</td> <td>    0.456</td>\n",
       "</tr>\n",
       "<tr>\n",
       "  <th>x2</th>    <td>    0.3210</td> <td>    0.031</td> <td>   10.269</td> <td> 0.000</td> <td>    0.260</td> <td>    0.382</td>\n",
       "</tr>\n",
       "<tr>\n",
       "  <th>x3</th>    <td>    5.2099</td> <td>    0.144</td> <td>   36.125</td> <td> 0.000</td> <td>    4.927</td> <td>    5.493</td>\n",
       "</tr>\n",
       "<tr>\n",
       "  <th>x4</th>    <td>   -0.0438</td> <td>    0.027</td> <td>   -1.612</td> <td> 0.107</td> <td>   -0.097</td> <td>    0.010</td>\n",
       "</tr>\n",
       "<tr>\n",
       "  <th>const</th> <td>   16.1877</td> <td>    2.794</td> <td>    5.794</td> <td> 0.000</td> <td>   10.704</td> <td>   21.671</td>\n",
       "</tr>\n",
       "</table>\n",
       "<table class=\"simpletable\">\n",
       "<tr>\n",
       "  <th>Omnibus:</th>       <td>12.177</td> <th>  Durbin-Watson:     </th> <td>   1.566</td>\n",
       "</tr>\n",
       "<tr>\n",
       "  <th>Prob(Omnibus):</th> <td> 0.002</td> <th>  Jarque-Bera (JB):  </th> <td>  16.265</td>\n",
       "</tr>\n",
       "<tr>\n",
       "  <th>Skew:</th>          <td>-0.149</td> <th>  Prob(JB):          </th> <td>0.000294</td>\n",
       "</tr>\n",
       "<tr>\n",
       "  <th>Kurtosis:</th>      <td> 3.588</td> <th>  Cond. No.          </th> <td>3.68e+03</td>\n",
       "</tr>\n",
       "</table><br/><br/>Warnings:<br/>[1] Standard Errors assume that the covariance matrix of the errors is correctly specified.<br/>[2] The condition number is large, 3.68e+03. This might indicate that there are<br/>strong multicollinearity or other numerical problems."
      ],
      "text/plain": [
       "<class 'statsmodels.iolib.summary.Summary'>\n",
       "\"\"\"\n",
       "                            OLS Regression Results                            \n",
       "==============================================================================\n",
       "Dep. Variable:                 Height   R-squared:                       0.641\n",
       "Model:                            OLS   Adj. R-squared:                  0.639\n",
       "Method:                 Least Squares   F-statistic:                     398.1\n",
       "Date:                Sun, 09 Feb 2020   Prob (F-statistic):          9.09e-197\n",
       "Time:                        16:25:50   Log-Likelihood:                -1960.1\n",
       "No. Observations:                 898   AIC:                             3930.\n",
       "Df Residuals:                     893   BIC:                             3954.\n",
       "Df Model:                           4                                         \n",
       "Covariance Type:            nonrobust                                         \n",
       "==============================================================================\n",
       "                 coef    std err          t      P>|t|      [0.025      0.975]\n",
       "------------------------------------------------------------------------------\n",
       "x1             0.3983      0.030     13.472      0.000       0.340       0.456\n",
       "x2             0.3210      0.031     10.269      0.000       0.260       0.382\n",
       "x3             5.2099      0.144     36.125      0.000       4.927       5.493\n",
       "x4            -0.0438      0.027     -1.612      0.107      -0.097       0.010\n",
       "const         16.1877      2.794      5.794      0.000      10.704      21.671\n",
       "==============================================================================\n",
       "Omnibus:                       12.177   Durbin-Watson:                   1.566\n",
       "Prob(Omnibus):                  0.002   Jarque-Bera (JB):               16.265\n",
       "Skew:                          -0.149   Prob(JB):                     0.000294\n",
       "Kurtosis:                       3.588   Cond. No.                     3.68e+03\n",
       "==============================================================================\n",
       "\n",
       "Warnings:\n",
       "[1] Standard Errors assume that the covariance matrix of the errors is correctly specified.\n",
       "[2] The condition number is large, 3.68e+03. This might indicate that there are\n",
       "strong multicollinearity or other numerical problems.\n",
       "\"\"\""
      ]
     },
     "execution_count": 15,
     "metadata": {},
     "output_type": "execute_result"
    }
   ],
   "source": [
    "results = sm.OLS(y, X).fit()\n",
    "results.summary()"
   ]
  },
  {
   "cell_type": "markdown",
   "metadata": {},
   "source": [
    "### Linear Regression Model #2\n",
    "\n",
    "We build another model, this time without the Kids column.\n",
    "\n",
    "Results indicate that all the variables of the model have strong effects. R-squared does not seem to have changed much, but becuase all the model variables have strong effects, we will prefer this model."
   ]
  },
  {
   "cell_type": "code",
   "execution_count": 16,
   "metadata": {},
   "outputs": [
    {
     "data": {
      "text/plain": [
       "((898, 4), (898, 1))"
      ]
     },
     "execution_count": 16,
     "metadata": {},
     "output_type": "execute_result"
    }
   ],
   "source": [
    "x = galton_df[[\"Father\", \"Mother\", \"Gender_i\"]].values\n",
    "const_col = np.ones((x.shape[0], 1))\n",
    "X = np.hstack((x, const_col))\n",
    "\n",
    "y = galton_df[[\"Height\"]]\n",
    "\n",
    "X.shape, y.shape"
   ]
  },
  {
   "cell_type": "code",
   "execution_count": 17,
   "metadata": {},
   "outputs": [
    {
     "data": {
      "text/html": [
       "<table class=\"simpletable\">\n",
       "<caption>OLS Regression Results</caption>\n",
       "<tr>\n",
       "  <th>Dep. Variable:</th>         <td>Height</td>      <th>  R-squared:         </th> <td>   0.640</td> \n",
       "</tr>\n",
       "<tr>\n",
       "  <th>Model:</th>                   <td>OLS</td>       <th>  Adj. R-squared:    </th> <td>   0.638</td> \n",
       "</tr>\n",
       "<tr>\n",
       "  <th>Method:</th>             <td>Least Squares</td>  <th>  F-statistic:       </th> <td>   529.0</td> \n",
       "</tr>\n",
       "<tr>\n",
       "  <th>Date:</th>             <td>Sun, 09 Feb 2020</td> <th>  Prob (F-statistic):</th> <td>1.33e-197</td>\n",
       "</tr>\n",
       "<tr>\n",
       "  <th>Time:</th>                 <td>16:25:50</td>     <th>  Log-Likelihood:    </th> <td> -1961.4</td> \n",
       "</tr>\n",
       "<tr>\n",
       "  <th>No. Observations:</th>      <td>   898</td>      <th>  AIC:               </th> <td>   3931.</td> \n",
       "</tr>\n",
       "<tr>\n",
       "  <th>Df Residuals:</th>          <td>   894</td>      <th>  BIC:               </th> <td>   3950.</td> \n",
       "</tr>\n",
       "<tr>\n",
       "  <th>Df Model:</th>              <td>     3</td>      <th>                     </th>     <td> </td>    \n",
       "</tr>\n",
       "<tr>\n",
       "  <th>Covariance Type:</th>      <td>nonrobust</td>    <th>                     </th>     <td> </td>    \n",
       "</tr>\n",
       "</table>\n",
       "<table class=\"simpletable\">\n",
       "<tr>\n",
       "    <td></td>       <th>coef</th>     <th>std err</th>      <th>t</th>      <th>P>|t|</th>  <th>[0.025</th>    <th>0.975]</th>  \n",
       "</tr>\n",
       "<tr>\n",
       "  <th>x1</th>    <td>    0.4060</td> <td>    0.029</td> <td>   13.900</td> <td> 0.000</td> <td>    0.349</td> <td>    0.463</td>\n",
       "</tr>\n",
       "<tr>\n",
       "  <th>x2</th>    <td>    0.3215</td> <td>    0.031</td> <td>   10.277</td> <td> 0.000</td> <td>    0.260</td> <td>    0.383</td>\n",
       "</tr>\n",
       "<tr>\n",
       "  <th>x3</th>    <td>    5.2260</td> <td>    0.144</td> <td>   36.289</td> <td> 0.000</td> <td>    4.943</td> <td>    5.509</td>\n",
       "</tr>\n",
       "<tr>\n",
       "  <th>const</th> <td>   15.3448</td> <td>    2.747</td> <td>    5.586</td> <td> 0.000</td> <td>    9.954</td> <td>   20.736</td>\n",
       "</tr>\n",
       "</table>\n",
       "<table class=\"simpletable\">\n",
       "<tr>\n",
       "  <th>Omnibus:</th>       <td>11.936</td> <th>  Durbin-Watson:     </th> <td>   1.560</td>\n",
       "</tr>\n",
       "<tr>\n",
       "  <th>Prob(Omnibus):</th> <td> 0.003</td> <th>  Jarque-Bera (JB):  </th> <td>  15.952</td>\n",
       "</tr>\n",
       "<tr>\n",
       "  <th>Skew:</th>          <td>-0.145</td> <th>  Prob(JB):          </th> <td>0.000344</td>\n",
       "</tr>\n",
       "<tr>\n",
       "  <th>Kurtosis:</th>      <td> 3.585</td> <th>  Cond. No.          </th> <td>3.61e+03</td>\n",
       "</tr>\n",
       "</table><br/><br/>Warnings:<br/>[1] Standard Errors assume that the covariance matrix of the errors is correctly specified.<br/>[2] The condition number is large, 3.61e+03. This might indicate that there are<br/>strong multicollinearity or other numerical problems."
      ],
      "text/plain": [
       "<class 'statsmodels.iolib.summary.Summary'>\n",
       "\"\"\"\n",
       "                            OLS Regression Results                            \n",
       "==============================================================================\n",
       "Dep. Variable:                 Height   R-squared:                       0.640\n",
       "Model:                            OLS   Adj. R-squared:                  0.638\n",
       "Method:                 Least Squares   F-statistic:                     529.0\n",
       "Date:                Sun, 09 Feb 2020   Prob (F-statistic):          1.33e-197\n",
       "Time:                        16:25:50   Log-Likelihood:                -1961.4\n",
       "No. Observations:                 898   AIC:                             3931.\n",
       "Df Residuals:                     894   BIC:                             3950.\n",
       "Df Model:                           3                                         \n",
       "Covariance Type:            nonrobust                                         \n",
       "==============================================================================\n",
       "                 coef    std err          t      P>|t|      [0.025      0.975]\n",
       "------------------------------------------------------------------------------\n",
       "x1             0.4060      0.029     13.900      0.000       0.349       0.463\n",
       "x2             0.3215      0.031     10.277      0.000       0.260       0.383\n",
       "x3             5.2260      0.144     36.289      0.000       4.943       5.509\n",
       "const         15.3448      2.747      5.586      0.000       9.954      20.736\n",
       "==============================================================================\n",
       "Omnibus:                       11.936   Durbin-Watson:                   1.560\n",
       "Prob(Omnibus):                  0.003   Jarque-Bera (JB):               15.952\n",
       "Skew:                          -0.145   Prob(JB):                     0.000344\n",
       "Kurtosis:                       3.585   Cond. No.                     3.61e+03\n",
       "==============================================================================\n",
       "\n",
       "Warnings:\n",
       "[1] Standard Errors assume that the covariance matrix of the errors is correctly specified.\n",
       "[2] The condition number is large, 3.61e+03. This might indicate that there are\n",
       "strong multicollinearity or other numerical problems.\n",
       "\"\"\""
      ]
     },
     "execution_count": 17,
     "metadata": {},
     "output_type": "execute_result"
    }
   ],
   "source": [
    "results = sm.OLS(y, X).fit()\n",
    "results.summary()"
   ]
  },
  {
   "cell_type": "markdown",
   "metadata": {},
   "source": [
    "### 95% probability interval for the difference in heights between boys and girls\n",
    "\n",
    "Results indicate that a male child is on average 5.2 inches taller than female child.\n",
    "\n",
    "Marginal distribution for the slope parameter for gender will be a t-distribution with 894 degrees of freedom. From the summary we can see it is (4.943, 5.509). So it shows that boys are going to be on average about 5 inches taller than girls."
   ]
  },
  {
   "cell_type": "code",
   "execution_count": 18,
   "metadata": {},
   "outputs": [
    {
     "data": {
      "text/plain": [
       "(4.943382566373184, 5.508617433626816)"
      ]
     },
     "execution_count": 18,
     "metadata": {},
     "output_type": "execute_result"
    }
   ],
   "source": [
    "height_diff_lb = 5.2260 - 0.144 * stats.t.ppf(0.975, 894)\n",
    "height_diff_ub = 5.2260 + 0.144 * stats.t.ppf(0.975, 894)\n",
    "(height_diff_lb, height_diff_ub)"
   ]
  },
  {
   "cell_type": "markdown",
   "metadata": {},
   "source": [
    "### 95% prediction intervals\n",
    "\n",
    "Bayesian analysis will yield the same values as frequentist analysis.\n",
    "\n",
    "When father's height is 68 inches and mother's height is 64 inches, 95% interval for predicted heights for child are:\n",
    "* if male, between 64.52 and 72.98 inches, with mean 68.75 inches\n",
    "* if female, between 59.29 and 67.76 inches, with mean 63.53 inches"
   ]
  },
  {
   "cell_type": "code",
   "execution_count": 19,
   "metadata": {},
   "outputs": [
    {
     "data": {
      "text/html": [
       "<div>\n",
       "<style scoped>\n",
       "    .dataframe tbody tr th:only-of-type {\n",
       "        vertical-align: middle;\n",
       "    }\n",
       "\n",
       "    .dataframe tbody tr th {\n",
       "        vertical-align: top;\n",
       "    }\n",
       "\n",
       "    .dataframe thead th {\n",
       "        text-align: right;\n",
       "    }\n",
       "</style>\n",
       "<table border=\"1\" class=\"dataframe\">\n",
       "  <thead>\n",
       "    <tr style=\"text-align: right;\">\n",
       "      <th></th>\n",
       "      <th>mean</th>\n",
       "      <th>mean_se</th>\n",
       "      <th>mean_ci_lower</th>\n",
       "      <th>mean_ci_upper</th>\n",
       "      <th>obs_ci_lower</th>\n",
       "      <th>obs_ci_upper</th>\n",
       "    </tr>\n",
       "  </thead>\n",
       "  <tbody>\n",
       "    <tr>\n",
       "      <th>0</th>\n",
       "      <td>68.752906</td>\n",
       "      <td>0.105566</td>\n",
       "      <td>68.545719</td>\n",
       "      <td>68.960092</td>\n",
       "      <td>64.519707</td>\n",
       "      <td>72.986105</td>\n",
       "    </tr>\n",
       "  </tbody>\n",
       "</table>\n",
       "</div>"
      ],
      "text/plain": [
       "        mean   mean_se  mean_ci_lower  mean_ci_upper  obs_ci_lower  \\\n",
       "0  68.752906  0.105566      68.545719      68.960092     64.519707   \n",
       "\n",
       "   obs_ci_upper  \n",
       "0     72.986105  "
      ]
     },
     "execution_count": 19,
     "metadata": {},
     "output_type": "execute_result"
    }
   ],
   "source": [
    "pi_male = results.get_prediction([68, 64, 1, 1])\n",
    "pi_male.summary_frame(alpha=0.05)"
   ]
  },
  {
   "cell_type": "code",
   "execution_count": 20,
   "metadata": {},
   "outputs": [
    {
     "data": {
      "text/html": [
       "<div>\n",
       "<style scoped>\n",
       "    .dataframe tbody tr th:only-of-type {\n",
       "        vertical-align: middle;\n",
       "    }\n",
       "\n",
       "    .dataframe tbody tr th {\n",
       "        vertical-align: top;\n",
       "    }\n",
       "\n",
       "    .dataframe thead th {\n",
       "        text-align: right;\n",
       "    }\n",
       "</style>\n",
       "<table border=\"1\" class=\"dataframe\">\n",
       "  <thead>\n",
       "    <tr style=\"text-align: right;\">\n",
       "      <th></th>\n",
       "      <th>mean</th>\n",
       "      <th>mean_se</th>\n",
       "      <th>mean_ci_lower</th>\n",
       "      <th>mean_ci_upper</th>\n",
       "      <th>obs_ci_lower</th>\n",
       "      <th>obs_ci_upper</th>\n",
       "    </tr>\n",
       "  </thead>\n",
       "  <tbody>\n",
       "    <tr>\n",
       "      <th>0</th>\n",
       "      <td>63.526954</td>\n",
       "      <td>0.110291</td>\n",
       "      <td>63.310495</td>\n",
       "      <td>63.743413</td>\n",
       "      <td>59.293291</td>\n",
       "      <td>67.760617</td>\n",
       "    </tr>\n",
       "  </tbody>\n",
       "</table>\n",
       "</div>"
      ],
      "text/plain": [
       "        mean   mean_se  mean_ci_lower  mean_ci_upper  obs_ci_lower  \\\n",
       "0  63.526954  0.110291      63.310495      63.743413     59.293291   \n",
       "\n",
       "   obs_ci_upper  \n",
       "0     67.760617  "
      ]
     },
     "execution_count": 20,
     "metadata": {},
     "output_type": "execute_result"
    }
   ],
   "source": [
    "pi_female = results.get_prediction([68, 64, 0, 1])\n",
    "pi_female.summary_frame(alpha=0.05)"
   ]
  },
  {
   "cell_type": "code",
   "execution_count": null,
   "metadata": {},
   "outputs": [],
   "source": []
  }
 ],
 "metadata": {
  "kernelspec": {
   "display_name": "Python (bayes)",
   "language": "python",
   "name": "bayes"
  },
  "language_info": {
   "codemirror_mode": {
    "name": "ipython",
    "version": 3
   },
   "file_extension": ".py",
   "mimetype": "text/x-python",
   "name": "python",
   "nbconvert_exporter": "python",
   "pygments_lexer": "ipython3",
   "version": "3.8.1"
  }
 },
 "nbformat": 4,
 "nbformat_minor": 2
}
