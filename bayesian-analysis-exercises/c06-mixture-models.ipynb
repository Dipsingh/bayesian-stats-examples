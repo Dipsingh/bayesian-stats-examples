{
 "cells": [
  {
   "cell_type": "code",
   "execution_count": 1,
   "metadata": {},
   "outputs": [],
   "source": [
    "import arviz as az\n",
    "import matplotlib.pyplot as plt\n",
    "import numpy as np\n",
    "import operator\n",
    "import pandas as pd\n",
    "import pymc3 as pm\n",
    "import scipy.stats as stats\n",
    "import seaborn as sns\n",
    "import theano.tensor as tt\n",
    "import warnings\n",
    "\n",
    "from scipy.special import expit\n",
    "from sklearn.metrics import confusion_matrix\n",
    "\n",
    "%matplotlib inline"
   ]
  },
  {
   "cell_type": "code",
   "execution_count": 2,
   "metadata": {},
   "outputs": [],
   "source": [
    "warnings.filterwarnings(\"ignore\")"
   ]
  },
  {
   "cell_type": "markdown",
   "metadata": {},
   "source": [
    "## Question 1\n",
    "\n",
    "Generate synthetic from a mixture of three Gaussians. Check the accompanying Jupyter Notebook for this chapter for an example on how to do this. Fit a finite Gaussian mixture model with 2, 3, or 4 components."
   ]
  },
  {
   "cell_type": "code",
   "execution_count": 3,
   "metadata": {},
   "outputs": [
    {
     "data": {
      "text/plain": [
       "(array([9., 4., 1.]), array([1.e+01, 1.e-01, 1.e+03]))"
      ]
     },
     "execution_count": 3,
     "metadata": {},
     "output_type": "execute_result"
    }
   ],
   "source": [
    "locs = np.random.choice(np.linspace(1, 10, 10), size=3, replace=False)\n",
    "scales = 10 ** np.random.choice(np.linspace(-2, 3, 6), size=3, replace=False)\n",
    "locs, scales"
   ]
  },
  {
   "cell_type": "code",
   "execution_count": 4,
   "metadata": {},
   "outputs": [],
   "source": [
    "data_size = 100\n",
    "\n",
    "g0 = stats.norm(loc=locs[0], scale=scales[0]).rvs(data_size)\n",
    "g1 = stats.norm(loc=locs[1], scale=scales[1]).rvs(data_size)\n",
    "g2 = stats.norm(loc=locs[2], scale=scales[2]).rvs(data_size)\n",
    "y = g0 + g1 + g2"
   ]
  },
  {
   "cell_type": "code",
   "execution_count": 5,
   "metadata": {},
   "outputs": [
    {
     "data": {
      "image/png": "[encoded data removed]",
      "text/plain": [
       "<Figure size 432x288 with 1 Axes>"
      ]
     },
     "metadata": {
      "needs_background": "light"
     },
     "output_type": "display_data"
    }
   ],
   "source": [
    "plt.hist(y)\n",
    "_ = plt.show()"
   ]
  },
  {
   "cell_type": "code",
   "execution_count": 6,
   "metadata": {},
   "outputs": [
    {
     "name": "stderr",
     "output_type": "stream",
     "text": [
      "Auto-assigning NUTS sampler...\n",
      "Initializing NUTS using jitter+adapt_diag...\n",
      "Multiprocess sampling (4 chains in 4 jobs)\n",
      "NUTS: [sd, means, p]\n",
      "Sampling 4 chains: 100%|██████████| 4000/4000 [00:08<00:00, 454.68draws/s] \n",
      "The acceptance probability does not match the target. It is 0.8785953684507294, but should be close to 0.8. Try to increase the number of tuning steps.\n"
     ]
    }
   ],
   "source": [
    "num_clusters = 2\n",
    "with pm.Model() as model_mg_q1a:\n",
    "    p = pm.Dirichlet('p', a=np.ones(num_clusters))\n",
    "    means = pm.Normal('means', mu=y.mean(), sd=10, shape=num_clusters)\n",
    "    sd = pm.HalfNormal('sd', sd=10)\n",
    "    y_pred = pm.NormalMixture('y_pred', w=p, mu=means, sd=sd, observed=y)\n",
    "    trace_mg_q1a = pm.sample()"
   ]
  },
  {
   "cell_type": "code",
   "execution_count": 7,
   "metadata": {},
   "outputs": [
    {
     "name": "stderr",
     "output_type": "stream",
     "text": [
      "Auto-assigning NUTS sampler...\n",
      "Initializing NUTS using jitter+adapt_diag...\n",
      "Multiprocess sampling (4 chains in 4 jobs)\n",
      "NUTS: [sd, means, p]\n",
      "Sampling 4 chains: 100%|██████████| 4000/4000 [00:09<00:00, 407.28draws/s] \n"
     ]
    }
   ],
   "source": [
    "num_clusters = 3\n",
    "with pm.Model() as model_mg_q1b:\n",
    "    p = pm.Dirichlet('p', a=np.ones(num_clusters))\n",
    "    means = pm.Normal('means', mu=y.mean(), sd=10, shape=num_clusters)\n",
    "    sd = pm.HalfNormal('sd', sd=10)\n",
    "    y_pred = pm.NormalMixture('y_pred', w=p, mu=means, sd=sd, observed=y)\n",
    "    trace_mg_q1b = pm.sample()"
   ]
  },
  {
   "cell_type": "code",
   "execution_count": 8,
   "metadata": {},
   "outputs": [
    {
     "name": "stderr",
     "output_type": "stream",
     "text": [
      "Auto-assigning NUTS sampler...\n",
      "Initializing NUTS using jitter+adapt_diag...\n",
      "Multiprocess sampling (4 chains in 4 jobs)\n",
      "NUTS: [sd, means, p]\n",
      "Sampling 4 chains: 100%|██████████| 4000/4000 [00:10<00:00, 370.56draws/s] \n"
     ]
    }
   ],
   "source": [
    "num_clusters = 4\n",
    "with pm.Model() as model_mg_q1c:\n",
    "    p = pm.Dirichlet('p', a=np.ones(num_clusters))\n",
    "    means = pm.Normal('means', mu=y.mean(), sd=10, shape=num_clusters)\n",
    "    sd = pm.HalfNormal('sd', sd=10)\n",
    "    y_pred = pm.NormalMixture('y_pred', w=p, mu=means, sd=sd, observed=y)\n",
    "    trace_mg_q1c = pm.sample()"
   ]
  },
  {
   "cell_type": "markdown",
   "metadata": {},
   "source": [
    "## Question 2\n",
    "\n",
    "Use WAIC and LOO to compare the results from exercise 1."
   ]
  },
  {
   "cell_type": "code",
   "execution_count": 9,
   "metadata": {},
   "outputs": [
    {
     "data": {
      "text/html": [
       "<div>\n",
       "<style scoped>\n",
       "    .dataframe tbody tr th:only-of-type {\n",
       "        vertical-align: middle;\n",
       "    }\n",
       "\n",
       "    .dataframe tbody tr th {\n",
       "        vertical-align: top;\n",
       "    }\n",
       "\n",
       "    .dataframe thead th {\n",
       "        text-align: right;\n",
       "    }\n",
       "</style>\n",
       "<table border=\"1\" class=\"dataframe\">\n",
       "  <thead>\n",
       "    <tr style=\"text-align: right;\">\n",
       "      <th></th>\n",
       "      <th>waic</th>\n",
       "      <th>pwaic</th>\n",
       "      <th>dwaic</th>\n",
       "      <th>weight</th>\n",
       "      <th>se</th>\n",
       "      <th>dse</th>\n",
       "      <th>warning</th>\n",
       "    </tr>\n",
       "  </thead>\n",
       "  <tbody>\n",
       "    <tr>\n",
       "      <th>3_clusters</th>\n",
       "      <td>2362.89</td>\n",
       "      <td>9.6831</td>\n",
       "      <td>0</td>\n",
       "      <td>1</td>\n",
       "      <td>167.355</td>\n",
       "      <td>0</td>\n",
       "      <td>1</td>\n",
       "    </tr>\n",
       "    <tr>\n",
       "      <th>4_clusters</th>\n",
       "      <td>2363.68</td>\n",
       "      <td>9.79279</td>\n",
       "      <td>0.793866</td>\n",
       "      <td>0</td>\n",
       "      <td>167.569</td>\n",
       "      <td>0.228096</td>\n",
       "      <td>1</td>\n",
       "    </tr>\n",
       "    <tr>\n",
       "      <th>2_clusters</th>\n",
       "      <td>2364.64</td>\n",
       "      <td>9.53101</td>\n",
       "      <td>1.75626</td>\n",
       "      <td>7.66054e-15</td>\n",
       "      <td>167.678</td>\n",
       "      <td>0.324802</td>\n",
       "      <td>1</td>\n",
       "    </tr>\n",
       "  </tbody>\n",
       "</table>\n",
       "</div>"
      ],
      "text/plain": [
       "               waic    pwaic     dwaic       weight       se       dse warning\n",
       "3_clusters  2362.89   9.6831         0            1  167.355         0       1\n",
       "4_clusters  2363.68  9.79279  0.793866            0  167.569  0.228096       1\n",
       "2_clusters  2364.64  9.53101   1.75626  7.66054e-15  167.678  0.324802       1"
      ]
     },
     "execution_count": 9,
     "metadata": {},
     "output_type": "execute_result"
    }
   ],
   "source": [
    "cmp_df = az.compare({\n",
    "    \"2_clusters\": trace_mg_q1a,\n",
    "    \"3_clusters\": trace_mg_q1b,\n",
    "    \"4_clusters\": trace_mg_q1c\n",
    "}, ic=\"waic\")\n",
    "cmp_df"
   ]
  },
  {
   "cell_type": "code",
   "execution_count": 10,
   "metadata": {},
   "outputs": [
    {
     "data": {
      "image/png": "[encoded data removed]",
      "text/plain": [
       "<Figure size 432x216 with 1 Axes>"
      ]
     },
     "metadata": {
      "needs_background": "light"
     },
     "output_type": "display_data"
    }
   ],
   "source": [
    "_ = az.plot_compare(cmp_df)"
   ]
  },
  {
   "cell_type": "code",
   "execution_count": 11,
   "metadata": {},
   "outputs": [
    {
     "data": {
      "text/html": [
       "<div>\n",
       "<style scoped>\n",
       "    .dataframe tbody tr th:only-of-type {\n",
       "        vertical-align: middle;\n",
       "    }\n",
       "\n",
       "    .dataframe tbody tr th {\n",
       "        vertical-align: top;\n",
       "    }\n",
       "\n",
       "    .dataframe thead th {\n",
       "        text-align: right;\n",
       "    }\n",
       "</style>\n",
       "<table border=\"1\" class=\"dataframe\">\n",
       "  <thead>\n",
       "    <tr style=\"text-align: right;\">\n",
       "      <th></th>\n",
       "      <th>loo</th>\n",
       "      <th>ploo</th>\n",
       "      <th>dloo</th>\n",
       "      <th>weight</th>\n",
       "      <th>se</th>\n",
       "      <th>dse</th>\n",
       "      <th>warning</th>\n",
       "    </tr>\n",
       "  </thead>\n",
       "  <tbody>\n",
       "    <tr>\n",
       "      <th>3_clusters</th>\n",
       "      <td>2362.97</td>\n",
       "      <td>9.72548</td>\n",
       "      <td>0</td>\n",
       "      <td>1</td>\n",
       "      <td>167.388</td>\n",
       "      <td>0</td>\n",
       "      <td>0</td>\n",
       "    </tr>\n",
       "    <tr>\n",
       "      <th>4_clusters</th>\n",
       "      <td>2363.82</td>\n",
       "      <td>9.86376</td>\n",
       "      <td>0.851033</td>\n",
       "      <td>1.05471e-15</td>\n",
       "      <td>167.629</td>\n",
       "      <td>0.259447</td>\n",
       "      <td>1</td>\n",
       "    </tr>\n",
       "    <tr>\n",
       "      <th>2_clusters</th>\n",
       "      <td>2364.48</td>\n",
       "      <td>9.44932</td>\n",
       "      <td>1.50813</td>\n",
       "      <td>0</td>\n",
       "      <td>167.6</td>\n",
       "      <td>0.224238</td>\n",
       "      <td>0</td>\n",
       "    </tr>\n",
       "  </tbody>\n",
       "</table>\n",
       "</div>"
      ],
      "text/plain": [
       "                loo     ploo      dloo       weight       se       dse warning\n",
       "3_clusters  2362.97  9.72548         0            1  167.388         0       0\n",
       "4_clusters  2363.82  9.86376  0.851033  1.05471e-15  167.629  0.259447       1\n",
       "2_clusters  2364.48  9.44932   1.50813            0    167.6  0.224238       0"
      ]
     },
     "execution_count": 11,
     "metadata": {},
     "output_type": "execute_result"
    }
   ],
   "source": [
    "cmp_df = az.compare({\n",
    "    \"2_clusters\": trace_mg_q1a,\n",
    "    \"3_clusters\": trace_mg_q1b,\n",
    "    \"4_clusters\": trace_mg_q1c\n",
    "}, ic=\"loo\")\n",
    "cmp_df"
   ]
  },
  {
   "cell_type": "code",
   "execution_count": 12,
   "metadata": {},
   "outputs": [
    {
     "data": {
      "image/png": "[encoded data removed]",
      "text/plain": [
       "<Figure size 432x216 with 1 Axes>"
      ]
     },
     "metadata": {
      "needs_background": "light"
     },
     "output_type": "display_data"
    }
   ],
   "source": [
    "_ = az.plot_compare(cmp_df)"
   ]
  },
  {
   "cell_type": "markdown",
   "metadata": {},
   "source": [
    "## Question 3\n",
    "\n",
    "Read and run the following examples about mixture models from the [PyMC3 documentation](https://docs.pymc.io/nb_examples/index.html):\n",
    "\n",
    "* [Marginalized Gaussian Mixture Model](https://docs.pymc.io/notebooks/marginalized_gaussian_mixture_model.html).\n",
    "* [Dependent density regression](https://docs.pymc.io/notebooks/dependent_density_regression.html)\n",
    "* [Gaussian Mixture Model with ADVI](https://docs.pymc.io/notebooks/gaussian-mixture-model-advi.html) (you will find more information about ADVI in Chapter 8, Inference Engines)."
   ]
  },
  {
   "cell_type": "markdown",
   "metadata": {},
   "source": [
    "## Question 4\n",
    "\n",
    "Repeat exercise 1 using a Dirichlet process.\n",
    "\n",
    "<p><font color=\"blue\"><p>Dirichlet Process involves the idea of stick breaking, that the mixture is composed of infinite/unknown number of distributions, and can be approximated with the stick breaking process. So there is no need to try to figure out the optimum number of clusters unlike in mixture models. Plot of w vs K below shows that K=20 serves as a good approximation for K -> &infin; </p></font></p>"
   ]
  },
  {
   "cell_type": "code",
   "execution_count": 13,
   "metadata": {},
   "outputs": [
    {
     "name": "stderr",
     "output_type": "stream",
     "text": [
      "Auto-assigning NUTS sampler...\n",
      "Initializing NUTS using jitter+adapt_diag...\n",
      "Multiprocess sampling (4 chains in 4 jobs)\n",
      "NUTS: [sd, means, beta, alpha]\n",
      "Sampling 4 chains: 100%|██████████| 16000/16000 [01:41<00:00, 157.00draws/s]\n",
      "There were 601 divergences after tuning. Increase `target_accept` or reparameterize.\n",
      "There were 256 divergences after tuning. Increase `target_accept` or reparameterize.\n",
      "The chain contains only diverging samples. The model is probably misspecified.\n",
      "There were 974 divergences after tuning. Increase `target_accept` or reparameterize.\n",
      "The gelman-rubin statistic is larger than 1.4 for some parameters. The sampler did not converge.\n",
      "The estimated number of effective samples is smaller than 200 for some parameters.\n"
     ]
    }
   ],
   "source": [
    "N = len(y)\n",
    "K = 20\n",
    "\n",
    "def stick_breaking(alpha):\n",
    "    beta = pm.Beta(\"beta\", 1., alpha, shape=K)\n",
    "    w = beta * pm.math.concatenate([[1.],\n",
    "    tt.extra_ops.cumprod(1. - beta)[:-1]])\n",
    "    return w\n",
    "\n",
    "with pm.Model() as model_q4:\n",
    "    alpha = pm.Gamma(\"alpha\", 1., 1.)\n",
    "    w = pm.Deterministic('w', stick_breaking(alpha))\n",
    "    \n",
    "    means = pm.Normal('means', mu=y.mean(), sd=10, shape=K)\n",
    "    sd = pm.HalfNormal('sd', sd=10, shape=K)\n",
    "\n",
    "    y_pred = pm.NormalMixture(\"y_pred\", w, means, sd=sd, observed=y)\n",
    "    \n",
    "    trace_q4 = pm.sample(1000, tune=3000, nuts_kwargs={'target_accept': 0.9})"
   ]
  },
  {
   "cell_type": "code",
   "execution_count": 14,
   "metadata": {},
   "outputs": [
    {
     "data": {
      "image/png": "[encoded data removed]",
      "text/plain": [
       "<Figure size 432x288 with 1 Axes>"
      ]
     },
     "metadata": {
      "needs_background": "light"
     },
     "output_type": "display_data"
    }
   ],
   "source": [
    "xs = np.arange(K)\n",
    "ys = trace_q4[\"w\"].mean(axis=0)\n",
    "plt.plot(xs, ys, marker=\"o\")\n",
    "plt.xticks(xs, xs+1)\n",
    "plt.xlabel(\"K (number of components)\")\n",
    "plt.ylabel(\"w (average weight)\")\n",
    "_ = plt.show()"
   ]
  },
  {
   "cell_type": "code",
   "execution_count": 15,
   "metadata": {},
   "outputs": [
    {
     "name": "stderr",
     "output_type": "stream",
     "text": [
      "100%|██████████| 200/200 [00:00<00:00, 866.52it/s]\n"
     ]
    },
    {
     "data": {
      "text/plain": [
       "(20000,)"
      ]
     },
     "execution_count": 15,
     "metadata": {},
     "output_type": "execute_result"
    }
   ],
   "source": [
    "ypred_pps = pm.sample_posterior_predictive(trace_q4, 200, model=model_q4)[\"y_pred\"]\n",
    "ypred_pps = ypred_pps.reshape(-1)\n",
    "ypred_pps.shape"
   ]
  },
  {
   "cell_type": "code",
   "execution_count": 16,
   "metadata": {},
   "outputs": [
    {
     "data": {
      "image/png": "[encoded data removed]",
      "text/plain": [
       "<Figure size 432x288 with 1 Axes>"
      ]
     },
     "metadata": {
      "needs_background": "light"
     },
     "output_type": "display_data"
    }
   ],
   "source": [
    "plt.hist(y, alpha=0.5, normed=True, label=\"actual\")\n",
    "az.plot_kde(ypred_pps, label=\"predicted\")\n",
    "plt.legend(loc=\"best\")\n",
    "_ = plt.show()"
   ]
  },
  {
   "cell_type": "markdown",
   "metadata": {},
   "source": [
    "## Question 5\n",
    "\n",
    "Assuming for a moment that you do not know the correct species/labels for the Iris dataset, use a mixture model to cluster the three iris species, using one feature of your choice (like the length of the sepal).\n",
    "\n",
    "<p><font color=\"blue\"><p>We create a mixture model of 3 clusters (we know that there are 3 clusters from histogram of the data distribution, but we don't know which record belongs to which of the 3 clusters. The mixture model gives us 3 component normal distributions identified by (mean, sd). For each data point, we will compute the PDF against each normal distribution, i.e., the probability of it belonging to each distribution. We will assign to each point the id of the distribution for which it has the highest probability of belonging.</p></font></p>"
   ]
  },
  {
   "cell_type": "code",
   "execution_count": 17,
   "metadata": {},
   "outputs": [
    {
     "data": {
      "text/html": [
       "<div>\n",
       "<style scoped>\n",
       "    .dataframe tbody tr th:only-of-type {\n",
       "        vertical-align: middle;\n",
       "    }\n",
       "\n",
       "    .dataframe tbody tr th {\n",
       "        vertical-align: top;\n",
       "    }\n",
       "\n",
       "    .dataframe thead th {\n",
       "        text-align: right;\n",
       "    }\n",
       "</style>\n",
       "<table border=\"1\" class=\"dataframe\">\n",
       "  <thead>\n",
       "    <tr style=\"text-align: right;\">\n",
       "      <th></th>\n",
       "      <th>sepal_length</th>\n",
       "      <th>sepal_width</th>\n",
       "      <th>petal_length</th>\n",
       "      <th>petal_width</th>\n",
       "      <th>species</th>\n",
       "    </tr>\n",
       "  </thead>\n",
       "  <tbody>\n",
       "    <tr>\n",
       "      <th>0</th>\n",
       "      <td>5.1</td>\n",
       "      <td>3.5</td>\n",
       "      <td>1.4</td>\n",
       "      <td>0.2</td>\n",
       "      <td>setosa</td>\n",
       "    </tr>\n",
       "    <tr>\n",
       "      <th>1</th>\n",
       "      <td>4.9</td>\n",
       "      <td>3.0</td>\n",
       "      <td>1.4</td>\n",
       "      <td>0.2</td>\n",
       "      <td>setosa</td>\n",
       "    </tr>\n",
       "    <tr>\n",
       "      <th>2</th>\n",
       "      <td>4.7</td>\n",
       "      <td>3.2</td>\n",
       "      <td>1.3</td>\n",
       "      <td>0.2</td>\n",
       "      <td>setosa</td>\n",
       "    </tr>\n",
       "    <tr>\n",
       "      <th>3</th>\n",
       "      <td>4.6</td>\n",
       "      <td>3.1</td>\n",
       "      <td>1.5</td>\n",
       "      <td>0.2</td>\n",
       "      <td>setosa</td>\n",
       "    </tr>\n",
       "    <tr>\n",
       "      <th>4</th>\n",
       "      <td>5.0</td>\n",
       "      <td>3.6</td>\n",
       "      <td>1.4</td>\n",
       "      <td>0.2</td>\n",
       "      <td>setosa</td>\n",
       "    </tr>\n",
       "  </tbody>\n",
       "</table>\n",
       "</div>"
      ],
      "text/plain": [
       "   sepal_length  sepal_width  petal_length  petal_width species\n",
       "0           5.1          3.5           1.4          0.2  setosa\n",
       "1           4.9          3.0           1.4          0.2  setosa\n",
       "2           4.7          3.2           1.3          0.2  setosa\n",
       "3           4.6          3.1           1.5          0.2  setosa\n",
       "4           5.0          3.6           1.4          0.2  setosa"
      ]
     },
     "execution_count": 17,
     "metadata": {},
     "output_type": "execute_result"
    }
   ],
   "source": [
    "iris_df = pd.read_csv(\"../BAP/code/data/iris.csv\")\n",
    "iris_df.head()"
   ]
  },
  {
   "cell_type": "code",
   "execution_count": 18,
   "metadata": {},
   "outputs": [
    {
     "data": {
      "text/plain": [
       "(150,)"
      ]
     },
     "execution_count": 18,
     "metadata": {},
     "output_type": "execute_result"
    }
   ],
   "source": [
    "y = iris_df[\"sepal_length\"].values\n",
    "y.shape"
   ]
  },
  {
   "cell_type": "code",
   "execution_count": 19,
   "metadata": {},
   "outputs": [
    {
     "data": {
      "image/png": "[encoded data removed]",
      "text/plain": [
       "<Figure size 432x288 with 1 Axes>"
      ]
     },
     "metadata": {
      "needs_background": "light"
     },
     "output_type": "display_data"
    }
   ],
   "source": [
    "_ = plt.hist(y)"
   ]
  },
  {
   "cell_type": "code",
   "execution_count": 20,
   "metadata": {},
   "outputs": [
    {
     "name": "stderr",
     "output_type": "stream",
     "text": [
      "Auto-assigning NUTS sampler...\n",
      "Initializing NUTS using jitter+adapt_diag...\n",
      "Multiprocess sampling (4 chains in 4 jobs)\n",
      "NUTS: [sd, means, p]\n",
      "Sampling 4 chains: 100%|██████████| 6000/6000 [00:19<00:00, 300.85draws/s]\n",
      "There were 5 divergences after tuning. Increase `target_accept` or reparameterize.\n",
      "The acceptance probability does not match the target. It is 0.09025253636321735, but should be close to 0.8. Try to increase the number of tuning steps.\n",
      "The acceptance probability does not match the target. It is 0.9165877760820373, but should be close to 0.8. Try to increase the number of tuning steps.\n",
      "There were 31 divergences after tuning. Increase `target_accept` or reparameterize.\n",
      "The acceptance probability does not match the target. It is 0.45132053859343074, but should be close to 0.8. Try to increase the number of tuning steps.\n",
      "The gelman-rubin statistic is larger than 1.2 for some parameters.\n",
      "The estimated number of effective samples is smaller than 200 for some parameters.\n"
     ]
    }
   ],
   "source": [
    "num_clusters = 3\n",
    "with pm.Model() as model_mg_q5:\n",
    "    p = pm.Dirichlet('p', a=np.ones(num_clusters))\n",
    "    means = pm.Normal('means', mu=y.mean(), sd=10, shape=num_clusters)\n",
    "    sd = pm.HalfNormal('sd', sd=10)\n",
    "    y_pred = pm.NormalMixture('y_pred', w=p, mu=means, sd=sd, observed=y)\n",
    "    trace_mg_q5 = pm.sample(tune=1000)"
   ]
  },
  {
   "cell_type": "code",
   "execution_count": 21,
   "metadata": {},
   "outputs": [
    {
     "data": {
      "text/html": [
       "<div>\n",
       "<style scoped>\n",
       "    .dataframe tbody tr th:only-of-type {\n",
       "        vertical-align: middle;\n",
       "    }\n",
       "\n",
       "    .dataframe tbody tr th {\n",
       "        vertical-align: top;\n",
       "    }\n",
       "\n",
       "    .dataframe thead th {\n",
       "        text-align: right;\n",
       "    }\n",
       "</style>\n",
       "<table border=\"1\" class=\"dataframe\">\n",
       "  <thead>\n",
       "    <tr style=\"text-align: right;\">\n",
       "      <th></th>\n",
       "      <th>mean</th>\n",
       "      <th>sd</th>\n",
       "      <th>mc error</th>\n",
       "      <th>hpd 3%</th>\n",
       "      <th>hpd 97%</th>\n",
       "      <th>eff_n</th>\n",
       "      <th>r_hat</th>\n",
       "    </tr>\n",
       "  </thead>\n",
       "  <tbody>\n",
       "    <tr>\n",
       "      <th>means[0]</th>\n",
       "      <td>5.93</td>\n",
       "      <td>1.65</td>\n",
       "      <td>0.42</td>\n",
       "      <td>3.19</td>\n",
       "      <td>7.49</td>\n",
       "      <td>6.0</td>\n",
       "      <td>1.30</td>\n",
       "    </tr>\n",
       "    <tr>\n",
       "      <th>means[1]</th>\n",
       "      <td>6.00</td>\n",
       "      <td>1.17</td>\n",
       "      <td>0.12</td>\n",
       "      <td>4.92</td>\n",
       "      <td>7.43</td>\n",
       "      <td>49.0</td>\n",
       "      <td>1.04</td>\n",
       "    </tr>\n",
       "    <tr>\n",
       "      <th>means[2]</th>\n",
       "      <td>6.40</td>\n",
       "      <td>2.48</td>\n",
       "      <td>0.19</td>\n",
       "      <td>4.91</td>\n",
       "      <td>7.78</td>\n",
       "      <td>45.0</td>\n",
       "      <td>1.01</td>\n",
       "    </tr>\n",
       "  </tbody>\n",
       "</table>\n",
       "</div>"
      ],
      "text/plain": [
       "          mean    sd  mc error  hpd 3%  hpd 97%  eff_n  r_hat\n",
       "means[0]  5.93  1.65      0.42    3.19     7.49    6.0   1.30\n",
       "means[1]  6.00  1.17      0.12    4.92     7.43   49.0   1.04\n",
       "means[2]  6.40  2.48      0.19    4.91     7.78   45.0   1.01"
      ]
     },
     "execution_count": 21,
     "metadata": {},
     "output_type": "execute_result"
    }
   ],
   "source": [
    "az.summary(trace_mg_q5, var_names=[\"means\"])"
   ]
  },
  {
   "cell_type": "code",
   "execution_count": 22,
   "metadata": {},
   "outputs": [
    {
     "data": {
      "text/html": [
       "<div>\n",
       "<style scoped>\n",
       "    .dataframe tbody tr th:only-of-type {\n",
       "        vertical-align: middle;\n",
       "    }\n",
       "\n",
       "    .dataframe tbody tr th {\n",
       "        vertical-align: top;\n",
       "    }\n",
       "\n",
       "    .dataframe thead th {\n",
       "        text-align: right;\n",
       "    }\n",
       "</style>\n",
       "<table border=\"1\" class=\"dataframe\">\n",
       "  <thead>\n",
       "    <tr style=\"text-align: right;\">\n",
       "      <th></th>\n",
       "      <th>sepal_length</th>\n",
       "      <th>sepal_width</th>\n",
       "      <th>petal_length</th>\n",
       "      <th>petal_width</th>\n",
       "      <th>species</th>\n",
       "      <th>cluster_id</th>\n",
       "    </tr>\n",
       "  </thead>\n",
       "  <tbody>\n",
       "    <tr>\n",
       "      <th>0</th>\n",
       "      <td>5.1</td>\n",
       "      <td>3.5</td>\n",
       "      <td>1.4</td>\n",
       "      <td>0.2</td>\n",
       "      <td>setosa</td>\n",
       "      <td>1</td>\n",
       "    </tr>\n",
       "    <tr>\n",
       "      <th>1</th>\n",
       "      <td>4.9</td>\n",
       "      <td>3.0</td>\n",
       "      <td>1.4</td>\n",
       "      <td>0.2</td>\n",
       "      <td>setosa</td>\n",
       "      <td>1</td>\n",
       "    </tr>\n",
       "    <tr>\n",
       "      <th>2</th>\n",
       "      <td>4.7</td>\n",
       "      <td>3.2</td>\n",
       "      <td>1.3</td>\n",
       "      <td>0.2</td>\n",
       "      <td>setosa</td>\n",
       "      <td>1</td>\n",
       "    </tr>\n",
       "    <tr>\n",
       "      <th>3</th>\n",
       "      <td>4.6</td>\n",
       "      <td>3.1</td>\n",
       "      <td>1.5</td>\n",
       "      <td>0.2</td>\n",
       "      <td>setosa</td>\n",
       "      <td>0</td>\n",
       "    </tr>\n",
       "    <tr>\n",
       "      <th>4</th>\n",
       "      <td>5.0</td>\n",
       "      <td>3.6</td>\n",
       "      <td>1.4</td>\n",
       "      <td>0.2</td>\n",
       "      <td>setosa</td>\n",
       "      <td>1</td>\n",
       "    </tr>\n",
       "  </tbody>\n",
       "</table>\n",
       "</div>"
      ],
      "text/plain": [
       "   sepal_length  sepal_width  petal_length  petal_width species  cluster_id\n",
       "0           5.1          3.5           1.4          0.2  setosa           1\n",
       "1           4.9          3.0           1.4          0.2  setosa           1\n",
       "2           4.7          3.2           1.3          0.2  setosa           1\n",
       "3           4.6          3.1           1.5          0.2  setosa           0\n",
       "4           5.0          3.6           1.4          0.2  setosa           1"
      ]
     },
     "execution_count": 22,
     "metadata": {},
     "output_type": "execute_result"
    }
   ],
   "source": [
    "means = np.mean(trace_mg_q5[\"means\"], axis=0)\n",
    "stds = np.std(trace_mg_q5[\"means\"], axis=0)\n",
    "dist_props = [(means[0], stds[0], 0), \n",
    "              (means[1], stds[1], 1), \n",
    "              (means[2], stds[2], 2)]\n",
    "\n",
    "cid_dists = [(cid, stats.norm(loc=mean, scale=sd)) for mean, sd, cid in dist_props]\n",
    "cid_preds = []\n",
    "for sl in y:\n",
    "    cid = sorted([(cid, dist.pdf(sl)) for cid, dist in cid_dists],\n",
    "                 key=operator.itemgetter(1),\n",
    "                 reverse=True)[0][0]\n",
    "    cid_preds.append(cid)\n",
    "    \n",
    "iris_df[\"cluster_id\"] = cid_preds\n",
    "iris_df.head()"
   ]
  },
  {
   "cell_type": "code",
   "execution_count": 23,
   "metadata": {},
   "outputs": [
    {
     "data": {
      "text/plain": [
       "array([[ 9, 41,  0],\n",
       "       [ 0, 50,  0],\n",
       "       [ 1, 44,  5]])"
      ]
     },
     "execution_count": 23,
     "metadata": {},
     "output_type": "execute_result"
    }
   ],
   "source": [
    "species2cid = { \"setosa\": 0, \"versicolor\": 1, \"virginica\": 2 }\n",
    "y_true = [species2cid[x] for x in iris_df[\"species\"].values]\n",
    "y_pred = iris_df[\"cluster_id\"].values\n",
    "confusion_matrix(y_true, y_pred)"
   ]
  },
  {
   "cell_type": "markdown",
   "metadata": {},
   "source": [
    "## Question 6\n",
    "\n",
    "Repeat exercise 5 but this time use two features.\n",
    "\n",
    "<p><font color=\"blue\">\n",
    "    <p>Custom Mixture distributions such as NormalMixture seem to be defined only for univariate distributions. For multivariate, we need to replace the Normal prior with the MvNormal. We have built this model as a Dirichlet mixture of 3 MvNormal models.</p>\n",
    "    <p>On the prediction side, we assume that the features are independent, and compute the cluster membership using the joint probability (product of PDFs) of the (sepal_length, sepal_width) point being part of a given cluster.</p>\n",
    "</font></p>"
   ]
  },
  {
   "cell_type": "code",
   "execution_count": 24,
   "metadata": {},
   "outputs": [
    {
     "data": {
      "text/plain": [
       "(150, 2)"
      ]
     },
     "execution_count": 24,
     "metadata": {},
     "output_type": "execute_result"
    }
   ],
   "source": [
    "y = iris_df[[\"sepal_length\", \"sepal_width\"]].values\n",
    "y.shape"
   ]
  },
  {
   "cell_type": "code",
   "execution_count": 25,
   "metadata": {},
   "outputs": [
    {
     "data": {
      "image/png": "[encoded data removed]",
      "text/plain": [
       "<Figure size 432x288 with 1 Axes>"
      ]
     },
     "metadata": {
      "needs_background": "light"
     },
     "output_type": "display_data"
    }
   ],
   "source": [
    "y_c0 = iris_df[iris_df[\"species\"] == \"setosa\"][[\"sepal_length\", \"sepal_width\"]].values\n",
    "y_c1 = iris_df[iris_df[\"species\"] == \"versicolor\"][[\"sepal_length\", \"sepal_width\"]].values\n",
    "y_c2 = iris_df[iris_df[\"species\"] == \"virginica\"][[\"sepal_length\", \"sepal_width\"]].values\n",
    "\n",
    "plt.scatter(y_c0[:, 0], y_c0[:, 1], label=\"setosa\")\n",
    "plt.scatter(y_c1[:, 0], y_c1[:, 1], label=\"versicolor\")\n",
    "plt.scatter(y_c2[:, 0], y_c1[:, 1], label=\"virginica\")\n",
    "plt.legend(loc=\"best\")\n",
    "plt.xlabel(\"sepal_length\")\n",
    "plt.ylabel(\"sepal_width\")\n",
    "_ = plt.show()"
   ]
  },
  {
   "cell_type": "code",
   "execution_count": 26,
   "metadata": {},
   "outputs": [
    {
     "name": "stderr",
     "output_type": "stream",
     "text": [
      "Auto-assigning NUTS sampler...\n",
      "Initializing NUTS using jitter+adapt_diag...\n",
      "Multiprocess sampling (4 chains in 4 jobs)\n",
      "NUTS: [mix_means, sd, w, c2_means, c1_means, c0_means, p]\n",
      "Sampling 4 chains: 100%|██████████| 4000/4000 [00:23<00:00, 169.55draws/s]\n"
     ]
    }
   ],
   "source": [
    "num_clusters = 3\n",
    "with pm.Model() as model_q6:\n",
    "    p = pm.Dirichlet('p', a=np.ones(num_clusters))\n",
    "    \n",
    "    cov = np.array([[1., 0.5], [0.5, 2]])\n",
    "    component0 = pm.MvNormal(\"c0_means\", mu=y.mean(axis=0), cov=cov, shape=2)\n",
    "    component1 = pm.MvNormal(\"c1_means\", mu=y.mean(axis=0), cov=cov, shape=2)\n",
    "    component2 = pm.MvNormal(\"c2_means\", mu=y.mean(axis=0), cov=cov, shape=2)\n",
    "    \n",
    "    w = pm.Dirichlet(\"w\", a=np.ones((3,)))\n",
    "    sd = pm.HalfNormal('sd', sd=10)\n",
    "    mix = pm.Mixture(\"mix_means\", w=w, \n",
    "                     comp_dists=[component0.distribution, component1.distribution, component2.distribution],\n",
    "                     shape=2)\n",
    "    obs = pm.Normal(\"y_pred\", mu=mix, sd=sd, observed=y)\n",
    "    trace_q6 = pm.sample()"
   ]
  },
  {
   "cell_type": "code",
   "execution_count": 27,
   "metadata": {},
   "outputs": [
    {
     "data": {
      "text/html": [
       "<div>\n",
       "<style scoped>\n",
       "    .dataframe tbody tr th:only-of-type {\n",
       "        vertical-align: middle;\n",
       "    }\n",
       "\n",
       "    .dataframe tbody tr th {\n",
       "        vertical-align: top;\n",
       "    }\n",
       "\n",
       "    .dataframe thead th {\n",
       "        text-align: right;\n",
       "    }\n",
       "</style>\n",
       "<table border=\"1\" class=\"dataframe\">\n",
       "  <thead>\n",
       "    <tr style=\"text-align: right;\">\n",
       "      <th></th>\n",
       "      <th>mean</th>\n",
       "      <th>sd</th>\n",
       "      <th>mc error</th>\n",
       "      <th>hpd 3%</th>\n",
       "      <th>hpd 97%</th>\n",
       "      <th>eff_n</th>\n",
       "      <th>r_hat</th>\n",
       "    </tr>\n",
       "  </thead>\n",
       "  <tbody>\n",
       "    <tr>\n",
       "      <th>c0_means[0]</th>\n",
       "      <td>5.86</td>\n",
       "      <td>0.99</td>\n",
       "      <td>0.02</td>\n",
       "      <td>3.87</td>\n",
       "      <td>7.66</td>\n",
       "      <td>3356.0</td>\n",
       "      <td>1.0</td>\n",
       "    </tr>\n",
       "    <tr>\n",
       "      <th>c0_means[1]</th>\n",
       "      <td>3.07</td>\n",
       "      <td>1.43</td>\n",
       "      <td>0.01</td>\n",
       "      <td>0.39</td>\n",
       "      <td>5.72</td>\n",
       "      <td>3319.0</td>\n",
       "      <td>1.0</td>\n",
       "    </tr>\n",
       "    <tr>\n",
       "      <th>c1_means[0]</th>\n",
       "      <td>5.83</td>\n",
       "      <td>0.97</td>\n",
       "      <td>0.02</td>\n",
       "      <td>4.00</td>\n",
       "      <td>7.55</td>\n",
       "      <td>4066.0</td>\n",
       "      <td>1.0</td>\n",
       "    </tr>\n",
       "    <tr>\n",
       "      <th>c1_means[1]</th>\n",
       "      <td>3.01</td>\n",
       "      <td>1.36</td>\n",
       "      <td>0.02</td>\n",
       "      <td>0.65</td>\n",
       "      <td>5.77</td>\n",
       "      <td>3780.0</td>\n",
       "      <td>1.0</td>\n",
       "    </tr>\n",
       "    <tr>\n",
       "      <th>c2_means[0]</th>\n",
       "      <td>5.83</td>\n",
       "      <td>0.99</td>\n",
       "      <td>0.02</td>\n",
       "      <td>4.04</td>\n",
       "      <td>7.59</td>\n",
       "      <td>3710.0</td>\n",
       "      <td>1.0</td>\n",
       "    </tr>\n",
       "    <tr>\n",
       "      <th>c2_means[1]</th>\n",
       "      <td>3.05</td>\n",
       "      <td>1.42</td>\n",
       "      <td>0.03</td>\n",
       "      <td>0.52</td>\n",
       "      <td>5.75</td>\n",
       "      <td>3261.0</td>\n",
       "      <td>1.0</td>\n",
       "    </tr>\n",
       "  </tbody>\n",
       "</table>\n",
       "</div>"
      ],
      "text/plain": [
       "             mean    sd  mc error  hpd 3%  hpd 97%   eff_n  r_hat\n",
       "c0_means[0]  5.86  0.99      0.02    3.87     7.66  3356.0    1.0\n",
       "c0_means[1]  3.07  1.43      0.01    0.39     5.72  3319.0    1.0\n",
       "c1_means[0]  5.83  0.97      0.02    4.00     7.55  4066.0    1.0\n",
       "c1_means[1]  3.01  1.36      0.02    0.65     5.77  3780.0    1.0\n",
       "c2_means[0]  5.83  0.99      0.02    4.04     7.59  3710.0    1.0\n",
       "c2_means[1]  3.05  1.42      0.03    0.52     5.75  3261.0    1.0"
      ]
     },
     "execution_count": 27,
     "metadata": {},
     "output_type": "execute_result"
    }
   ],
   "source": [
    "az.summary(trace_q6, var_names=[\"c0_means\", \"c1_means\", \"c2_means\"])"
   ]
  },
  {
   "cell_type": "code",
   "execution_count": 28,
   "metadata": {},
   "outputs": [
    {
     "data": {
      "text/html": [
       "<div>\n",
       "<style scoped>\n",
       "    .dataframe tbody tr th:only-of-type {\n",
       "        vertical-align: middle;\n",
       "    }\n",
       "\n",
       "    .dataframe tbody tr th {\n",
       "        vertical-align: top;\n",
       "    }\n",
       "\n",
       "    .dataframe thead th {\n",
       "        text-align: right;\n",
       "    }\n",
       "</style>\n",
       "<table border=\"1\" class=\"dataframe\">\n",
       "  <thead>\n",
       "    <tr style=\"text-align: right;\">\n",
       "      <th></th>\n",
       "      <th>sepal_length</th>\n",
       "      <th>sepal_width</th>\n",
       "      <th>petal_length</th>\n",
       "      <th>petal_width</th>\n",
       "      <th>species</th>\n",
       "      <th>cluster_id</th>\n",
       "      <th>cluster_id_2</th>\n",
       "    </tr>\n",
       "  </thead>\n",
       "  <tbody>\n",
       "    <tr>\n",
       "      <th>0</th>\n",
       "      <td>5.1</td>\n",
       "      <td>3.5</td>\n",
       "      <td>1.4</td>\n",
       "      <td>0.2</td>\n",
       "      <td>setosa</td>\n",
       "      <td>1</td>\n",
       "      <td>1</td>\n",
       "    </tr>\n",
       "    <tr>\n",
       "      <th>1</th>\n",
       "      <td>4.9</td>\n",
       "      <td>3.0</td>\n",
       "      <td>1.4</td>\n",
       "      <td>0.2</td>\n",
       "      <td>setosa</td>\n",
       "      <td>1</td>\n",
       "      <td>1</td>\n",
       "    </tr>\n",
       "    <tr>\n",
       "      <th>2</th>\n",
       "      <td>4.7</td>\n",
       "      <td>3.2</td>\n",
       "      <td>1.3</td>\n",
       "      <td>0.2</td>\n",
       "      <td>setosa</td>\n",
       "      <td>1</td>\n",
       "      <td>1</td>\n",
       "    </tr>\n",
       "    <tr>\n",
       "      <th>3</th>\n",
       "      <td>4.6</td>\n",
       "      <td>3.1</td>\n",
       "      <td>1.5</td>\n",
       "      <td>0.2</td>\n",
       "      <td>setosa</td>\n",
       "      <td>0</td>\n",
       "      <td>1</td>\n",
       "    </tr>\n",
       "    <tr>\n",
       "      <th>4</th>\n",
       "      <td>5.0</td>\n",
       "      <td>3.6</td>\n",
       "      <td>1.4</td>\n",
       "      <td>0.2</td>\n",
       "      <td>setosa</td>\n",
       "      <td>1</td>\n",
       "      <td>1</td>\n",
       "    </tr>\n",
       "  </tbody>\n",
       "</table>\n",
       "</div>"
      ],
      "text/plain": [
       "   sepal_length  sepal_width  petal_length  petal_width species  cluster_id  \\\n",
       "0           5.1          3.5           1.4          0.2  setosa           1   \n",
       "1           4.9          3.0           1.4          0.2  setosa           1   \n",
       "2           4.7          3.2           1.3          0.2  setosa           1   \n",
       "3           4.6          3.1           1.5          0.2  setosa           0   \n",
       "4           5.0          3.6           1.4          0.2  setosa           1   \n",
       "\n",
       "   cluster_id_2  \n",
       "0             1  \n",
       "1             1  \n",
       "2             1  \n",
       "3             1  \n",
       "4             1  "
      ]
     },
     "execution_count": 28,
     "metadata": {},
     "output_type": "execute_result"
    }
   ],
   "source": [
    "dist_props = [\n",
    "    (np.mean(trace_q6[\"c0_means\"], axis=0), np.std(trace_q6[\"c0_means\"], axis=0), 0),\n",
    "    (np.mean(trace_q6[\"c1_means\"], axis=0), np.std(trace_q6[\"c1_means\"], axis=0), 1),\n",
    "    (np.mean(trace_q6[\"c2_means\"], axis=0), np.std(trace_q6[\"c2_means\"], axis=0), 2),\n",
    "]\n",
    "cid_dists = [(cid, stats.norm(loc=means[0], scale=stds[0]), \n",
    "                   stats.norm(loc=means[1], scale=stds[1]))\n",
    "            for means, stds, cid in dist_props]\n",
    "cid_preds = []\n",
    "for feats in y:\n",
    "    sl, sw = feats[0], feats[1]\n",
    "    jt_probs = [(cid, dist_sl.pdf(sl) * dist_sw.pdf(sw)) for cid, dist_sl, dist_sw in cid_dists]\n",
    "    cid_pred = sorted(jt_probs, key=operator.itemgetter(1), reverse=True)[0][0]\n",
    "    cid_preds.append(cid_pred)\n",
    "\n",
    "iris_df[\"cluster_id_2\"] = cid_preds\n",
    "iris_df.head()"
   ]
  },
  {
   "cell_type": "code",
   "execution_count": 29,
   "metadata": {},
   "outputs": [
    {
     "data": {
      "text/plain": [
       "array([[ 1, 49,  0],\n",
       "       [ 1, 49,  0],\n",
       "       [12, 38,  0]])"
      ]
     },
     "execution_count": 29,
     "metadata": {},
     "output_type": "execute_result"
    }
   ],
   "source": [
    "y_pred2 = iris_df[\"cluster_id_2\"].values\n",
    "confusion_matrix(y_true, y_pred2)"
   ]
  },
  {
   "cell_type": "code",
   "execution_count": null,
   "metadata": {},
   "outputs": [],
   "source": []
  }
 ],
 "metadata": {
  "kernelspec": {
   "display_name": "Python (BAP)",
   "language": "python",
   "name": "bap"
  },
  "language_info": {
   "codemirror_mode": {
    "name": "ipython",
    "version": 3
   },
   "file_extension": ".py",
   "mimetype": "text/x-python",
   "name": "python",
   "nbconvert_exporter": "python",
   "pygments_lexer": "ipython3",
   "version": "3.6.10"
  }
 },
 "nbformat": 4,
 "nbformat_minor": 4
}
