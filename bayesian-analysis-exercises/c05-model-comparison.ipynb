{
 "cells": [
  {
   "cell_type": "markdown",
   "metadata": {},
   "source": [
    "## Model Comparison"
   ]
  },
  {
   "cell_type": "code",
   "execution_count": 1,
   "metadata": {},
   "outputs": [],
   "source": [
    "import matplotlib.pyplot as plt\n",
    "import scipy.stats as stats\n",
    "import numpy as np\n",
    "import pandas as pd\n",
    "import seaborn as sns\n",
    "import pymc3 as pm\n",
    "import arviz as az\n",
    "import warnings\n",
    "\n",
    "from scipy.special import expit\n",
    "\n",
    "%matplotlib inline"
   ]
  },
  {
   "cell_type": "code",
   "execution_count": 2,
   "metadata": {},
   "outputs": [],
   "source": [
    "warnings.filterwarnings(\"ignore\")"
   ]
  },
  {
   "cell_type": "markdown",
   "metadata": {},
   "source": [
    "## Question 1\n",
    "\n",
    "This exercise is about regularization priors. In the code that generates the data, change order=2 to another value, such as order=5. Then, fit model_p and plot the resulting curve. Repeat this, but now using a prior for beta with sd=100 instead of sd=1 and plot the resulting curve. How are both curves different? Try this out with `sd=np.array([10, 0.1, 0.1, 0.1, 0.1])`, too.\n",
    "\n",
    "<p><font color=\"blue\">\n",
    "    <p>Increasing SD of beta from 1 to 100 seems to have no effect on the predicted values. Setting an array where the linear part has higher SD (10) compared to the others results in a curve that seems to have a worse fit.</p>\n",
    "</font></p>    "
   ]
  },
  {
   "cell_type": "code",
   "execution_count": 3,
   "metadata": {},
   "outputs": [
    {
     "data": {
      "image/png": "[encoded data removed]",
      "text/plain": [
       "<Figure size 432x288 with 1 Axes>"
      ]
     },
     "metadata": {
      "needs_background": "light"
     },
     "output_type": "display_data"
    }
   ],
   "source": [
    "dummy_data = np.loadtxt('../BAP/code/data/dummy.csv')\n",
    "x_1 = dummy_data[:, 0]\n",
    "y_1 = dummy_data[:, 1]\n",
    "order = 5\n",
    "\n",
    "x_1p = np.vstack([x_1**i for i in range(1, order+1)])\n",
    "x_1s = (x_1p - x_1p.mean(axis=1, keepdims=True)) / x_1p.std(axis=1, keepdims=True)\n",
    "y_1s = (y_1 - y_1.mean()) / y_1.std()\n",
    "\n",
    "plt.scatter(x_1s[0], y_1s)\n",
    "plt.xlabel('x')\n",
    "plt.ylabel('y')\n",
    "_ = plt.show()"
   ]
  },
  {
   "cell_type": "code",
   "execution_count": 4,
   "metadata": {},
   "outputs": [
    {
     "name": "stderr",
     "output_type": "stream",
     "text": [
      "Auto-assigning NUTS sampler...\n",
      "Initializing NUTS using jitter+adapt_diag...\n",
      "Multiprocess sampling (4 chains in 4 jobs)\n",
      "NUTS: [ϵ, β, α]\n",
      "Sampling 4 chains: 100%|██████████| 10000/10000 [00:31<00:00, 317.04draws/s]\n",
      "There were 3 divergences after tuning. Increase `target_accept` or reparameterize.\n"
     ]
    }
   ],
   "source": [
    "with pm.Model() as model_p_q1a:\n",
    "    α = pm.Normal('α', mu=0, sd=1)\n",
    "    β = pm.Normal('β', mu=0, sd=1, shape=order)\n",
    "    ϵ = pm.HalfNormal('ϵ', 5)\n",
    "    μ = α + pm.math.dot(β, x_1s)\n",
    "    y_pred = pm.Normal('y_pred', mu=μ, sd=ϵ, observed=y_1s)\n",
    "    trace_p_q1a = pm.sample(2000)"
   ]
  },
  {
   "cell_type": "code",
   "execution_count": 5,
   "metadata": {},
   "outputs": [
    {
     "data": {
      "text/html": [
       "<div>\n",
       "<style scoped>\n",
       "    .dataframe tbody tr th:only-of-type {\n",
       "        vertical-align: middle;\n",
       "    }\n",
       "\n",
       "    .dataframe tbody tr th {\n",
       "        vertical-align: top;\n",
       "    }\n",
       "\n",
       "    .dataframe thead th {\n",
       "        text-align: right;\n",
       "    }\n",
       "</style>\n",
       "<table border=\"1\" class=\"dataframe\">\n",
       "  <thead>\n",
       "    <tr style=\"text-align: right;\">\n",
       "      <th></th>\n",
       "      <th>mean</th>\n",
       "      <th>sd</th>\n",
       "      <th>mc error</th>\n",
       "      <th>hpd 3%</th>\n",
       "      <th>hpd 97%</th>\n",
       "      <th>eff_n</th>\n",
       "      <th>r_hat</th>\n",
       "    </tr>\n",
       "  </thead>\n",
       "  <tbody>\n",
       "    <tr>\n",
       "      <th>α</th>\n",
       "      <td>-0.00</td>\n",
       "      <td>0.05</td>\n",
       "      <td>0.00</td>\n",
       "      <td>-0.10</td>\n",
       "      <td>0.09</td>\n",
       "      <td>6055.0</td>\n",
       "      <td>1.0</td>\n",
       "    </tr>\n",
       "    <tr>\n",
       "      <th>β[0]</th>\n",
       "      <td>-1.41</td>\n",
       "      <td>0.14</td>\n",
       "      <td>0.00</td>\n",
       "      <td>-1.68</td>\n",
       "      <td>-1.16</td>\n",
       "      <td>5506.0</td>\n",
       "      <td>1.0</td>\n",
       "    </tr>\n",
       "    <tr>\n",
       "      <th>β[1]</th>\n",
       "      <td>0.28</td>\n",
       "      <td>0.42</td>\n",
       "      <td>0.00</td>\n",
       "      <td>-0.53</td>\n",
       "      <td>1.05</td>\n",
       "      <td>4398.0</td>\n",
       "      <td>1.0</td>\n",
       "    </tr>\n",
       "    <tr>\n",
       "      <th>β[2]</th>\n",
       "      <td>0.27</td>\n",
       "      <td>0.71</td>\n",
       "      <td>0.01</td>\n",
       "      <td>-1.03</td>\n",
       "      <td>1.67</td>\n",
       "      <td>4495.0</td>\n",
       "      <td>1.0</td>\n",
       "    </tr>\n",
       "    <tr>\n",
       "      <th>β[3]</th>\n",
       "      <td>0.13</td>\n",
       "      <td>0.81</td>\n",
       "      <td>0.01</td>\n",
       "      <td>-1.40</td>\n",
       "      <td>1.68</td>\n",
       "      <td>3481.0</td>\n",
       "      <td>1.0</td>\n",
       "    </tr>\n",
       "    <tr>\n",
       "      <th>β[4]</th>\n",
       "      <td>-0.16</td>\n",
       "      <td>0.55</td>\n",
       "      <td>0.01</td>\n",
       "      <td>-1.18</td>\n",
       "      <td>0.89</td>\n",
       "      <td>3673.0</td>\n",
       "      <td>1.0</td>\n",
       "    </tr>\n",
       "    <tr>\n",
       "      <th>ϵ</th>\n",
       "      <td>0.28</td>\n",
       "      <td>0.04</td>\n",
       "      <td>0.00</td>\n",
       "      <td>0.21</td>\n",
       "      <td>0.35</td>\n",
       "      <td>5264.0</td>\n",
       "      <td>1.0</td>\n",
       "    </tr>\n",
       "  </tbody>\n",
       "</table>\n",
       "</div>"
      ],
      "text/plain": [
       "      mean    sd  mc error  hpd 3%  hpd 97%   eff_n  r_hat\n",
       "α    -0.00  0.05      0.00   -0.10     0.09  6055.0    1.0\n",
       "β[0] -1.41  0.14      0.00   -1.68    -1.16  5506.0    1.0\n",
       "β[1]  0.28  0.42      0.00   -0.53     1.05  4398.0    1.0\n",
       "β[2]  0.27  0.71      0.01   -1.03     1.67  4495.0    1.0\n",
       "β[3]  0.13  0.81      0.01   -1.40     1.68  3481.0    1.0\n",
       "β[4] -0.16  0.55      0.01   -1.18     0.89  3673.0    1.0\n",
       "ϵ     0.28  0.04      0.00    0.21     0.35  5264.0    1.0"
      ]
     },
     "execution_count": 5,
     "metadata": {},
     "output_type": "execute_result"
    }
   ],
   "source": [
    "az.summary(trace_p_q1a)"
   ]
  },
  {
   "cell_type": "code",
   "execution_count": 6,
   "metadata": {},
   "outputs": [
    {
     "data": {
      "image/png": "[encoded data removed]",
      "text/plain": [
       "<Figure size 432x288 with 1 Axes>"
      ]
     },
     "metadata": {
      "needs_background": "light"
     },
     "output_type": "display_data"
    }
   ],
   "source": [
    "α_p_post = trace_p_q1a['α'].mean()\n",
    "β_p_post = trace_p_q1a['β'].mean(axis=0)\n",
    "\n",
    "idx = np.argsort(x_1s[0])\n",
    "y_p_post = α_p_post + np.dot(β_p_post, x_1s)\n",
    "\n",
    "plt.plot(x_1s[0][idx], y_p_post[idx], 'C1', label=f'model order {order}')\n",
    "plt.scatter(x_1s[0], y_1s, c='C0', marker='.')\n",
    "plt.legend(loc=\"best\")\n",
    "_ = plt.show()"
   ]
  },
  {
   "cell_type": "code",
   "execution_count": 7,
   "metadata": {},
   "outputs": [
    {
     "name": "stderr",
     "output_type": "stream",
     "text": [
      "Auto-assigning NUTS sampler...\n",
      "Initializing NUTS using jitter+adapt_diag...\n",
      "Multiprocess sampling (4 chains in 4 jobs)\n",
      "NUTS: [ϵ, β, α]\n",
      "Sampling 4 chains: 100%|██████████| 10000/10000 [02:18<00:00, 72.13draws/s]\n",
      "There were 12 divergences after tuning. Increase `target_accept` or reparameterize.\n",
      "There was 1 divergence after tuning. Increase `target_accept` or reparameterize.\n",
      "There were 2 divergences after tuning. Increase `target_accept` or reparameterize.\n",
      "The number of effective samples is smaller than 25% for some parameters.\n"
     ]
    }
   ],
   "source": [
    "with pm.Model() as model_p_q1b:\n",
    "    α = pm.Normal('α', mu=0, sd=1)\n",
    "    β = pm.Normal('β', mu=0, sd=100, shape=order)\n",
    "    ϵ = pm.HalfNormal('ϵ', 5)\n",
    "    μ = α + pm.math.dot(β, x_1s)\n",
    "    y_pred = pm.Normal('y_pred', mu=μ, sd=ϵ, observed=y_1s)\n",
    "    trace_p_q1b = pm.sample(2000)"
   ]
  },
  {
   "cell_type": "code",
   "execution_count": 8,
   "metadata": {},
   "outputs": [
    {
     "data": {
      "text/html": [
       "<div>\n",
       "<style scoped>\n",
       "    .dataframe tbody tr th:only-of-type {\n",
       "        vertical-align: middle;\n",
       "    }\n",
       "\n",
       "    .dataframe tbody tr th {\n",
       "        vertical-align: top;\n",
       "    }\n",
       "\n",
       "    .dataframe thead th {\n",
       "        text-align: right;\n",
       "    }\n",
       "</style>\n",
       "<table border=\"1\" class=\"dataframe\">\n",
       "  <thead>\n",
       "    <tr style=\"text-align: right;\">\n",
       "      <th></th>\n",
       "      <th>mean</th>\n",
       "      <th>sd</th>\n",
       "      <th>mc error</th>\n",
       "      <th>hpd 3%</th>\n",
       "      <th>hpd 97%</th>\n",
       "      <th>eff_n</th>\n",
       "      <th>r_hat</th>\n",
       "    </tr>\n",
       "  </thead>\n",
       "  <tbody>\n",
       "    <tr>\n",
       "      <th>α</th>\n",
       "      <td>0.00</td>\n",
       "      <td>0.05</td>\n",
       "      <td>0.00</td>\n",
       "      <td>-0.10</td>\n",
       "      <td>0.09</td>\n",
       "      <td>5024.0</td>\n",
       "      <td>1.0</td>\n",
       "    </tr>\n",
       "    <tr>\n",
       "      <th>β[0]</th>\n",
       "      <td>-1.44</td>\n",
       "      <td>0.29</td>\n",
       "      <td>0.00</td>\n",
       "      <td>-1.97</td>\n",
       "      <td>-0.87</td>\n",
       "      <td>2197.0</td>\n",
       "      <td>1.0</td>\n",
       "    </tr>\n",
       "    <tr>\n",
       "      <th>β[1]</th>\n",
       "      <td>0.24</td>\n",
       "      <td>0.67</td>\n",
       "      <td>0.01</td>\n",
       "      <td>-1.01</td>\n",
       "      <td>1.50</td>\n",
       "      <td>4659.0</td>\n",
       "      <td>1.0</td>\n",
       "    </tr>\n",
       "    <tr>\n",
       "      <th>β[2]</th>\n",
       "      <td>0.30</td>\n",
       "      <td>3.11</td>\n",
       "      <td>0.04</td>\n",
       "      <td>-5.56</td>\n",
       "      <td>6.04</td>\n",
       "      <td>1974.0</td>\n",
       "      <td>1.0</td>\n",
       "    </tr>\n",
       "    <tr>\n",
       "      <th>β[3]</th>\n",
       "      <td>0.41</td>\n",
       "      <td>5.39</td>\n",
       "      <td>0.06</td>\n",
       "      <td>-9.60</td>\n",
       "      <td>10.70</td>\n",
       "      <td>1930.0</td>\n",
       "      <td>1.0</td>\n",
       "    </tr>\n",
       "    <tr>\n",
       "      <th>β[4]</th>\n",
       "      <td>-0.40</td>\n",
       "      <td>2.75</td>\n",
       "      <td>0.03</td>\n",
       "      <td>-5.41</td>\n",
       "      <td>4.97</td>\n",
       "      <td>2042.0</td>\n",
       "      <td>1.0</td>\n",
       "    </tr>\n",
       "    <tr>\n",
       "      <th>ϵ</th>\n",
       "      <td>0.29</td>\n",
       "      <td>0.04</td>\n",
       "      <td>0.00</td>\n",
       "      <td>0.22</td>\n",
       "      <td>0.36</td>\n",
       "      <td>4011.0</td>\n",
       "      <td>1.0</td>\n",
       "    </tr>\n",
       "  </tbody>\n",
       "</table>\n",
       "</div>"
      ],
      "text/plain": [
       "      mean    sd  mc error  hpd 3%  hpd 97%   eff_n  r_hat\n",
       "α     0.00  0.05      0.00   -0.10     0.09  5024.0    1.0\n",
       "β[0] -1.44  0.29      0.00   -1.97    -0.87  2197.0    1.0\n",
       "β[1]  0.24  0.67      0.01   -1.01     1.50  4659.0    1.0\n",
       "β[2]  0.30  3.11      0.04   -5.56     6.04  1974.0    1.0\n",
       "β[3]  0.41  5.39      0.06   -9.60    10.70  1930.0    1.0\n",
       "β[4] -0.40  2.75      0.03   -5.41     4.97  2042.0    1.0\n",
       "ϵ     0.29  0.04      0.00    0.22     0.36  4011.0    1.0"
      ]
     },
     "execution_count": 8,
     "metadata": {},
     "output_type": "execute_result"
    }
   ],
   "source": [
    "az.summary(trace_p_q1b)"
   ]
  },
  {
   "cell_type": "code",
   "execution_count": 9,
   "metadata": {},
   "outputs": [
    {
     "data": {
      "image/png": "[encoded data removed]",
      "text/plain": [
       "<Figure size 432x288 with 1 Axes>"
      ]
     },
     "metadata": {
      "needs_background": "light"
     },
     "output_type": "display_data"
    }
   ],
   "source": [
    "α_p_post = trace_p_q1b['α'].mean()\n",
    "β_p_post = trace_p_q1b['β'].mean(axis=0)\n",
    "\n",
    "y_p_sd100_post = α_p_post + np.dot(β_p_post, x_1s)\n",
    "\n",
    "plt.plot(x_1s[0][idx], y_p_sd100_post[idx], 'C2', label=f'order={order}, sd=100')\n",
    "plt.plot(x_1s[0][idx], y_p_post[idx], 'C1', label=f'order={order}, sd=10')\n",
    "plt.scatter(x_1s[0], y_1s, c='C0', marker='.')\n",
    "plt.legend(loc=\"best\")\n",
    "_ = plt.show()"
   ]
  },
  {
   "cell_type": "code",
   "execution_count": 10,
   "metadata": {},
   "outputs": [
    {
     "name": "stderr",
     "output_type": "stream",
     "text": [
      "Auto-assigning NUTS sampler...\n",
      "Initializing NUTS using jitter+adapt_diag...\n",
      "Multiprocess sampling (4 chains in 4 jobs)\n",
      "NUTS: [ϵ, β, α]\n",
      "Sampling 4 chains: 100%|██████████| 10000/10000 [00:03<00:00, 2754.23draws/s]\n",
      "The acceptance probability does not match the target. It is 0.888843654168001, but should be close to 0.8. Try to increase the number of tuning steps.\n"
     ]
    }
   ],
   "source": [
    "with pm.Model() as model_p_q1c:\n",
    "    α = pm.Normal('α', mu=0, sd=1)\n",
    "    β = pm.Normal('β', mu=0, sd=np.array([10, 0.1, 0.1, 0.1, 0.1]))\n",
    "    ϵ = pm.HalfNormal('ϵ', 5)\n",
    "    μ = α + pm.math.dot(β, x_1s)\n",
    "    y_pred = pm.Normal('y_pred', mu=μ, sd=ϵ, observed=y_1s)\n",
    "    trace_p_q1c = pm.sample(2000)"
   ]
  },
  {
   "cell_type": "code",
   "execution_count": 11,
   "metadata": {},
   "outputs": [
    {
     "data": {
      "text/html": [
       "<div>\n",
       "<style scoped>\n",
       "    .dataframe tbody tr th:only-of-type {\n",
       "        vertical-align: middle;\n",
       "    }\n",
       "\n",
       "    .dataframe tbody tr th {\n",
       "        vertical-align: top;\n",
       "    }\n",
       "\n",
       "    .dataframe thead th {\n",
       "        text-align: right;\n",
       "    }\n",
       "</style>\n",
       "<table border=\"1\" class=\"dataframe\">\n",
       "  <thead>\n",
       "    <tr style=\"text-align: right;\">\n",
       "      <th></th>\n",
       "      <th>mean</th>\n",
       "      <th>sd</th>\n",
       "      <th>mc error</th>\n",
       "      <th>hpd 3%</th>\n",
       "      <th>hpd 97%</th>\n",
       "      <th>eff_n</th>\n",
       "      <th>r_hat</th>\n",
       "    </tr>\n",
       "  </thead>\n",
       "  <tbody>\n",
       "    <tr>\n",
       "      <th>α</th>\n",
       "      <td>0.00</td>\n",
       "      <td>0.07</td>\n",
       "      <td>0.0</td>\n",
       "      <td>-0.12</td>\n",
       "      <td>0.12</td>\n",
       "      <td>8371.0</td>\n",
       "      <td>1.0</td>\n",
       "    </tr>\n",
       "    <tr>\n",
       "      <th>β</th>\n",
       "      <td>-0.27</td>\n",
       "      <td>0.04</td>\n",
       "      <td>0.0</td>\n",
       "      <td>-0.35</td>\n",
       "      <td>-0.18</td>\n",
       "      <td>5534.0</td>\n",
       "      <td>1.0</td>\n",
       "    </tr>\n",
       "    <tr>\n",
       "      <th>ϵ</th>\n",
       "      <td>0.84</td>\n",
       "      <td>0.05</td>\n",
       "      <td>0.0</td>\n",
       "      <td>0.75</td>\n",
       "      <td>0.94</td>\n",
       "      <td>5674.0</td>\n",
       "      <td>1.0</td>\n",
       "    </tr>\n",
       "  </tbody>\n",
       "</table>\n",
       "</div>"
      ],
      "text/plain": [
       "   mean    sd  mc error  hpd 3%  hpd 97%   eff_n  r_hat\n",
       "α  0.00  0.07       0.0   -0.12     0.12  8371.0    1.0\n",
       "β -0.27  0.04       0.0   -0.35    -0.18  5534.0    1.0\n",
       "ϵ  0.84  0.05       0.0    0.75     0.94  5674.0    1.0"
      ]
     },
     "execution_count": 11,
     "metadata": {},
     "output_type": "execute_result"
    }
   ],
   "source": [
    "az.summary(trace_p_q1c)"
   ]
  },
  {
   "cell_type": "code",
   "execution_count": 12,
   "metadata": {},
   "outputs": [
    {
     "data": {
      "image/png": "[encoded data removed]",
      "text/plain": [
       "<Figure size 432x288 with 1 Axes>"
      ]
     },
     "metadata": {
      "needs_background": "light"
     },
     "output_type": "display_data"
    }
   ],
   "source": [
    "α_p_post = trace_p_q1c['α'].mean()\n",
    "β_p_post = trace_p_q1c['β'].mean(axis=0)\n",
    "β_p_post = np.array([β_p_post] * 5).T\n",
    "\n",
    "y_p_sdarr_post = α_p_post + np.dot(β_p_post, x_1s)\n",
    "\n",
    "plt.plot(x_1s[0][idx], y_p_sdarr_post[idx], 'C3', label=f'order={order}, sd=arr')\n",
    "plt.plot(x_1s[0][idx], y_p_sd100_post[idx], 'C2', label=f'order={order}, sd=100')\n",
    "plt.plot(x_1s[0][idx], y_p_post[idx], 'C1', label=f'order={order}, sd=1')\n",
    "plt.scatter(x_1s[0], y_1s, c='C0', marker='.')\n",
    "plt.legend(loc=\"best\")\n",
    "_ = plt.show()"
   ]
  },
  {
   "cell_type": "code",
   "execution_count": 13,
   "metadata": {},
   "outputs": [
    {
     "name": "stderr",
     "output_type": "stream",
     "text": [
      "100%|██████████| 200/200 [00:00<00:00, 1167.64it/s]\n",
      "100%|██████████| 200/200 [00:00<00:00, 1216.66it/s]\n",
      "100%|██████████| 200/200 [00:00<00:00, 1212.73it/s]\n"
     ]
    },
    {
     "data": {
      "image/png": "[encoded data removed]",
      "text/plain": [
       "<Figure size 432x288 with 1 Axes>"
      ]
     },
     "metadata": {
      "needs_background": "light"
     },
     "output_type": "display_data"
    }
   ],
   "source": [
    "y_q1a_pps = pm.sample_posterior_predictive(trace_p_q1a, 200, model=model_p_q1a)['y_pred']\n",
    "y_q1b_pps = pm.sample_posterior_predictive(trace_p_q1b, 200, model=model_p_q1b)['y_pred']\n",
    "y_q1c_pps = pm.sample_posterior_predictive(trace_p_q1c, 200, model=model_p_q1c)['y_pred']\n",
    "\n",
    "data = [y_1s, y_q1a_pps, y_q1b_pps, y_q1c_pps]\n",
    "labels = ['data', 'sd=1', 'sd=100', 'sd=array']\n",
    "for i, d in enumerate(data):\n",
    "    mean = d.mean()\n",
    "    err = np.percentile(d, [25, 75])\n",
    "    plt.errorbar(mean, -i, xerr=[[-err[0]], [err[1]]], fmt='o')\n",
    "    plt.text(mean, -i+0.2, labels[i], ha='center', fontsize=14)\n",
    "\n",
    "plt.ylim([-i-0.5, 0.5])\n",
    "plt.yticks([])\n",
    "_ = plt.show()"
   ]
  },
  {
   "cell_type": "markdown",
   "metadata": {},
   "source": [
    "## Question 2\n",
    "\n",
    "Repeat the previous exercise but increase the amount of data to 500 data points."
   ]
  },
  {
   "cell_type": "code",
   "execution_count": 14,
   "metadata": {},
   "outputs": [
    {
     "data": {
      "text/plain": [
       "((6, 1), (500, 6), (5, 500), (500,), (500,))"
      ]
     },
     "execution_count": 14,
     "metadata": {},
     "output_type": "execute_result"
    }
   ],
   "source": [
    "coeffs = np.random.sample(size=6).reshape(-1, 1)\n",
    "xmin, xmax = np.min(dummy_data[:, 0]), np.max(dummy_data[:, 0])\n",
    "noise = 500 * np.random.sample(size=500)\n",
    "xs = xmin + (xmax - xmin) * np.random.sample(size=500).reshape(1, -1)\n",
    "X = np.vstack((xs**0, xs**1, xs**2, xs**3, xs**4, xs**5)).T\n",
    "\n",
    "y = (np.dot(X, coeffs)).reshape((-1,)) + noise\n",
    "Xr = X[:, 1:].T\n",
    "x = X[:, 1]\n",
    "\n",
    "coeffs.shape, X.shape, Xr.shape, x.shape, y.shape"
   ]
  },
  {
   "cell_type": "code",
   "execution_count": 15,
   "metadata": {},
   "outputs": [
    {
     "data": {
      "image/png": "[encoded data removed]",
      "text/plain": [
       "<Figure size 432x288 with 1 Axes>"
      ]
     },
     "metadata": {
      "needs_background": "light"
     },
     "output_type": "display_data"
    }
   ],
   "source": [
    "plt.scatter(x, y, c='C0', marker='.')\n",
    "plt.xlabel(\"x\")\n",
    "plt.ylabel(\"y\")\n",
    "plt.title(\"y ~ polynomial(x, 5)\")\n",
    "_ = plt.show()"
   ]
  },
  {
   "cell_type": "code",
   "execution_count": 16,
   "metadata": {},
   "outputs": [
    {
     "name": "stderr",
     "output_type": "stream",
     "text": [
      "Auto-assigning NUTS sampler...\n",
      "Initializing NUTS using jitter+adapt_diag...\n",
      "Multiprocess sampling (4 chains in 4 jobs)\n",
      "NUTS: [ϵ, β, α]\n",
      "Sampling 4 chains: 100%|██████████| 10000/10000 [00:29<00:00, 333.61draws/s]\n",
      "The acceptance probability does not match the target. It is 0.926873067552297, but should be close to 0.8. Try to increase the number of tuning steps.\n",
      "The acceptance probability does not match the target. It is 0.9721140267803206, but should be close to 0.8. Try to increase the number of tuning steps.\n",
      "The acceptance probability does not match the target. It is 0.8879620718435792, but should be close to 0.8. Try to increase the number of tuning steps.\n"
     ]
    }
   ],
   "source": [
    "with pm.Model() as model_p_q2a:\n",
    "    α = pm.Normal('α', mu=0, sd=1)    \n",
    "    β = pm.Normal('β', mu=0, sd=1, shape=5)\n",
    "    ϵ = pm.HalfNormal('ϵ', 5)\n",
    "    μ = α + pm.math.dot(β, Xr)\n",
    "    y_pred = pm.Normal('y_pred', mu=μ, sd=ϵ, observed=y)\n",
    "    trace_p_q2a = pm.sample(2000)"
   ]
  },
  {
   "cell_type": "code",
   "execution_count": 17,
   "metadata": {},
   "outputs": [
    {
     "data": {
      "text/html": [
       "<div>\n",
       "<style scoped>\n",
       "    .dataframe tbody tr th:only-of-type {\n",
       "        vertical-align: middle;\n",
       "    }\n",
       "\n",
       "    .dataframe tbody tr th {\n",
       "        vertical-align: top;\n",
       "    }\n",
       "\n",
       "    .dataframe thead th {\n",
       "        text-align: right;\n",
       "    }\n",
       "</style>\n",
       "<table border=\"1\" class=\"dataframe\">\n",
       "  <thead>\n",
       "    <tr style=\"text-align: right;\">\n",
       "      <th></th>\n",
       "      <th>mean</th>\n",
       "      <th>sd</th>\n",
       "      <th>mc error</th>\n",
       "      <th>hpd 3%</th>\n",
       "      <th>hpd 97%</th>\n",
       "      <th>eff_n</th>\n",
       "      <th>r_hat</th>\n",
       "    </tr>\n",
       "  </thead>\n",
       "  <tbody>\n",
       "    <tr>\n",
       "      <th>α</th>\n",
       "      <td>3.62</td>\n",
       "      <td>1.01</td>\n",
       "      <td>0.01</td>\n",
       "      <td>1.68</td>\n",
       "      <td>5.44</td>\n",
       "      <td>7326.0</td>\n",
       "      <td>1.0</td>\n",
       "    </tr>\n",
       "    <tr>\n",
       "      <th>β[0]</th>\n",
       "      <td>1.93</td>\n",
       "      <td>1.01</td>\n",
       "      <td>0.01</td>\n",
       "      <td>0.01</td>\n",
       "      <td>3.78</td>\n",
       "      <td>7327.0</td>\n",
       "      <td>1.0</td>\n",
       "    </tr>\n",
       "    <tr>\n",
       "      <th>β[1]</th>\n",
       "      <td>4.10</td>\n",
       "      <td>0.97</td>\n",
       "      <td>0.01</td>\n",
       "      <td>2.28</td>\n",
       "      <td>5.91</td>\n",
       "      <td>7649.0</td>\n",
       "      <td>1.0</td>\n",
       "    </tr>\n",
       "    <tr>\n",
       "      <th>β[2]</th>\n",
       "      <td>4.96</td>\n",
       "      <td>0.90</td>\n",
       "      <td>0.01</td>\n",
       "      <td>3.23</td>\n",
       "      <td>6.64</td>\n",
       "      <td>5484.0</td>\n",
       "      <td>1.0</td>\n",
       "    </tr>\n",
       "    <tr>\n",
       "      <th>β[3]</th>\n",
       "      <td>6.72</td>\n",
       "      <td>0.73</td>\n",
       "      <td>0.01</td>\n",
       "      <td>5.37</td>\n",
       "      <td>8.11</td>\n",
       "      <td>4434.0</td>\n",
       "      <td>1.0</td>\n",
       "    </tr>\n",
       "    <tr>\n",
       "      <th>β[4]</th>\n",
       "      <td>-0.91</td>\n",
       "      <td>0.18</td>\n",
       "      <td>0.00</td>\n",
       "      <td>-1.26</td>\n",
       "      <td>-0.59</td>\n",
       "      <td>5023.0</td>\n",
       "      <td>1.0</td>\n",
       "    </tr>\n",
       "    <tr>\n",
       "      <th>ϵ</th>\n",
       "      <td>141.91</td>\n",
       "      <td>2.25</td>\n",
       "      <td>0.02</td>\n",
       "      <td>137.79</td>\n",
       "      <td>146.32</td>\n",
       "      <td>7461.0</td>\n",
       "      <td>1.0</td>\n",
       "    </tr>\n",
       "  </tbody>\n",
       "</table>\n",
       "</div>"
      ],
      "text/plain": [
       "        mean    sd  mc error  hpd 3%  hpd 97%   eff_n  r_hat\n",
       "α       3.62  1.01      0.01    1.68     5.44  7326.0    1.0\n",
       "β[0]    1.93  1.01      0.01    0.01     3.78  7327.0    1.0\n",
       "β[1]    4.10  0.97      0.01    2.28     5.91  7649.0    1.0\n",
       "β[2]    4.96  0.90      0.01    3.23     6.64  5484.0    1.0\n",
       "β[3]    6.72  0.73      0.01    5.37     8.11  4434.0    1.0\n",
       "β[4]   -0.91  0.18      0.00   -1.26    -0.59  5023.0    1.0\n",
       "ϵ     141.91  2.25      0.02  137.79   146.32  7461.0    1.0"
      ]
     },
     "execution_count": 17,
     "metadata": {},
     "output_type": "execute_result"
    }
   ],
   "source": [
    "az.summary(trace_p_q2a)"
   ]
  },
  {
   "cell_type": "code",
   "execution_count": 18,
   "metadata": {},
   "outputs": [
    {
     "data": {
      "text/plain": [
       "((33,), (500,))"
      ]
     },
     "execution_count": 18,
     "metadata": {},
     "output_type": "execute_result"
    }
   ],
   "source": [
    "y_p_post.shape, Xr[0, :].shape"
   ]
  },
  {
   "cell_type": "code",
   "execution_count": 19,
   "metadata": {},
   "outputs": [
    {
     "data": {
      "image/png": "[encoded data removed]",
      "text/plain": [
       "<Figure size 432x288 with 1 Axes>"
      ]
     },
     "metadata": {
      "needs_background": "light"
     },
     "output_type": "display_data"
    }
   ],
   "source": [
    "α_p_post = trace_p_q2a['α'].mean()\n",
    "β_p_post = trace_p_q2a['β'].mean(axis=0)\n",
    "\n",
    "idx = np.argsort(Xr[0])\n",
    "y_p_post = α_p_post + np.dot(β_p_post, Xr)\n",
    "\n",
    "plt.plot(Xr[0, idx], y_p_post[idx], 'C1', label=f'order={order}, sd=1')\n",
    "plt.scatter(Xr[0, :], y, c='C0', marker='.')\n",
    "plt.legend(loc=\"best\")\n",
    "_ = plt.show()"
   ]
  },
  {
   "cell_type": "code",
   "execution_count": 20,
   "metadata": {},
   "outputs": [
    {
     "name": "stderr",
     "output_type": "stream",
     "text": [
      "Auto-assigning NUTS sampler...\n",
      "Initializing NUTS using jitter+adapt_diag...\n",
      "Multiprocess sampling (4 chains in 4 jobs)\n",
      "NUTS: [ϵ, β, α]\n",
      "Sampling 4 chains: 100%|██████████| 10000/10000 [03:48<00:00, 43.84draws/s]\n",
      "The acceptance probability does not match the target. It is 0.9548363411104669, but should be close to 0.8. Try to increase the number of tuning steps.\n",
      "The acceptance probability does not match the target. It is 0.8907665308242607, but should be close to 0.8. Try to increase the number of tuning steps.\n",
      "The acceptance probability does not match the target. It is 0.8979084758517007, but should be close to 0.8. Try to increase the number of tuning steps.\n",
      "The acceptance probability does not match the target. It is 0.8890008203274021, but should be close to 0.8. Try to increase the number of tuning steps.\n",
      "The number of effective samples is smaller than 25% for some parameters.\n"
     ]
    }
   ],
   "source": [
    "with pm.Model() as model_p_q2b:\n",
    "    α = pm.Normal('α', mu=0, sd=1)\n",
    "    β = pm.Normal('β', mu=0, sd=100, shape=5)\n",
    "    ϵ = pm.HalfNormal('ϵ', 5)\n",
    "    μ = α + pm.math.dot(β, Xr)\n",
    "    y_pred = pm.Normal('y_pred', mu=μ, sd=ϵ, observed=y)\n",
    "    trace_p_q2b = pm.sample(2000)"
   ]
  },
  {
   "cell_type": "code",
   "execution_count": 21,
   "metadata": {},
   "outputs": [
    {
     "data": {
      "text/html": [
       "<div>\n",
       "<style scoped>\n",
       "    .dataframe tbody tr th:only-of-type {\n",
       "        vertical-align: middle;\n",
       "    }\n",
       "\n",
       "    .dataframe tbody tr th {\n",
       "        vertical-align: top;\n",
       "    }\n",
       "\n",
       "    .dataframe thead th {\n",
       "        text-align: right;\n",
       "    }\n",
       "</style>\n",
       "<table border=\"1\" class=\"dataframe\">\n",
       "  <thead>\n",
       "    <tr style=\"text-align: right;\">\n",
       "      <th></th>\n",
       "      <th>mean</th>\n",
       "      <th>sd</th>\n",
       "      <th>mc error</th>\n",
       "      <th>hpd 3%</th>\n",
       "      <th>hpd 97%</th>\n",
       "      <th>eff_n</th>\n",
       "      <th>r_hat</th>\n",
       "    </tr>\n",
       "  </thead>\n",
       "  <tbody>\n",
       "    <tr>\n",
       "      <th>α</th>\n",
       "      <td>1.82</td>\n",
       "      <td>1.01</td>\n",
       "      <td>0.01</td>\n",
       "      <td>-0.02</td>\n",
       "      <td>3.77</td>\n",
       "      <td>5037.0</td>\n",
       "      <td>1.0</td>\n",
       "    </tr>\n",
       "    <tr>\n",
       "      <th>β[0]</th>\n",
       "      <td>118.32</td>\n",
       "      <td>21.19</td>\n",
       "      <td>0.56</td>\n",
       "      <td>75.89</td>\n",
       "      <td>155.55</td>\n",
       "      <td>1944.0</td>\n",
       "      <td>1.0</td>\n",
       "    </tr>\n",
       "    <tr>\n",
       "      <th>β[1]</th>\n",
       "      <td>246.35</td>\n",
       "      <td>11.84</td>\n",
       "      <td>0.09</td>\n",
       "      <td>224.47</td>\n",
       "      <td>268.46</td>\n",
       "      <td>5004.0</td>\n",
       "      <td>1.0</td>\n",
       "    </tr>\n",
       "    <tr>\n",
       "      <th>β[2]</th>\n",
       "      <td>-211.29</td>\n",
       "      <td>19.55</td>\n",
       "      <td>0.52</td>\n",
       "      <td>-247.16</td>\n",
       "      <td>-173.55</td>\n",
       "      <td>1755.0</td>\n",
       "      <td>1.0</td>\n",
       "    </tr>\n",
       "    <tr>\n",
       "      <th>β[3]</th>\n",
       "      <td>58.12</td>\n",
       "      <td>9.73</td>\n",
       "      <td>0.26</td>\n",
       "      <td>39.99</td>\n",
       "      <td>76.28</td>\n",
       "      <td>1659.0</td>\n",
       "      <td>1.0</td>\n",
       "    </tr>\n",
       "    <tr>\n",
       "      <th>β[4]</th>\n",
       "      <td>-4.44</td>\n",
       "      <td>1.34</td>\n",
       "      <td>0.03</td>\n",
       "      <td>-6.87</td>\n",
       "      <td>-1.88</td>\n",
       "      <td>1698.0</td>\n",
       "      <td>1.0</td>\n",
       "    </tr>\n",
       "    <tr>\n",
       "      <th>ϵ</th>\n",
       "      <td>122.35</td>\n",
       "      <td>2.07</td>\n",
       "      <td>0.02</td>\n",
       "      <td>118.35</td>\n",
       "      <td>126.13</td>\n",
       "      <td>5775.0</td>\n",
       "      <td>1.0</td>\n",
       "    </tr>\n",
       "  </tbody>\n",
       "</table>\n",
       "</div>"
      ],
      "text/plain": [
       "        mean     sd  mc error  hpd 3%  hpd 97%   eff_n  r_hat\n",
       "α       1.82   1.01      0.01   -0.02     3.77  5037.0    1.0\n",
       "β[0]  118.32  21.19      0.56   75.89   155.55  1944.0    1.0\n",
       "β[1]  246.35  11.84      0.09  224.47   268.46  5004.0    1.0\n",
       "β[2] -211.29  19.55      0.52 -247.16  -173.55  1755.0    1.0\n",
       "β[3]   58.12   9.73      0.26   39.99    76.28  1659.0    1.0\n",
       "β[4]   -4.44   1.34      0.03   -6.87    -1.88  1698.0    1.0\n",
       "ϵ     122.35   2.07      0.02  118.35   126.13  5775.0    1.0"
      ]
     },
     "execution_count": 21,
     "metadata": {},
     "output_type": "execute_result"
    }
   ],
   "source": [
    "az.summary(trace_p_q2b)"
   ]
  },
  {
   "cell_type": "code",
   "execution_count": 22,
   "metadata": {},
   "outputs": [
    {
     "data": {
      "image/png": "[encoded data removed]",
      "text/plain": [
       "<Figure size 432x288 with 1 Axes>"
      ]
     },
     "metadata": {
      "needs_background": "light"
     },
     "output_type": "display_data"
    }
   ],
   "source": [
    "α_p_post = trace_p_q2b['α'].mean()\n",
    "β_p_post = trace_p_q2b['β'].mean(axis=0)\n",
    "\n",
    "idx = np.argsort(Xr[0])\n",
    "y_p_sd100_post = α_p_post + np.dot(β_p_post, Xr)\n",
    "\n",
    "plt.plot(Xr[0, idx], y_p_sd100_post[idx], 'C2', label=f'order={order}, sd=100')\n",
    "plt.plot(Xr[0, idx], y_p_post[idx], 'C1', label=f'order={order}, sd=1')\n",
    "plt.scatter(Xr[0, :], y, c='C0', marker='.')\n",
    "plt.legend(loc=\"best\")\n",
    "_ = plt.show()"
   ]
  },
  {
   "cell_type": "code",
   "execution_count": 23,
   "metadata": {},
   "outputs": [
    {
     "name": "stderr",
     "output_type": "stream",
     "text": [
      "Auto-assigning NUTS sampler...\n",
      "Initializing NUTS using jitter+adapt_diag...\n",
      "Multiprocess sampling (4 chains in 4 jobs)\n",
      "NUTS: [ϵ, β, α]\n",
      "Sampling 4 chains: 100%|██████████| 10000/10000 [03:51<00:00, 43.15draws/s] \n",
      "The acceptance probability does not match the target. It is 0.9961195897099431, but should be close to 0.8. Try to increase the number of tuning steps.\n",
      "The acceptance probability does not match the target. It is 0.9782675145463913, but should be close to 0.8. Try to increase the number of tuning steps.\n",
      "The chain reached the maximum tree depth. Increase max_treedepth, increase target_accept or reparameterize.\n",
      "There were 15 divergences after tuning. Increase `target_accept` or reparameterize.\n",
      "The acceptance probability does not match the target. It is 0.998129716247264, but should be close to 0.8. Try to increase the number of tuning steps.\n",
      "The chain reached the maximum tree depth. Increase max_treedepth, increase target_accept or reparameterize.\n",
      "The acceptance probability does not match the target. It is 0.8863953141635116, but should be close to 0.8. Try to increase the number of tuning steps.\n",
      "The gelman-rubin statistic is larger than 1.4 for some parameters. The sampler did not converge.\n",
      "The estimated number of effective samples is smaller than 200 for some parameters.\n"
     ]
    }
   ],
   "source": [
    "with pm.Model() as model_p_q2c:\n",
    "    α = pm.Normal('α', mu=0, sd=1)\n",
    "    β = pm.Normal('β', mu=0, sd=np.array([10, 0.1, 0.1, 0.1, 0.1]))\n",
    "    ϵ = pm.HalfNormal('ϵ', 5)\n",
    "    μ = α + pm.math.dot(β, Xr)\n",
    "    y_pred = pm.Normal('y_pred', mu=μ, sd=ϵ, observed=y)\n",
    "    trace_p_q2c = pm.sample(2000)"
   ]
  },
  {
   "cell_type": "code",
   "execution_count": 24,
   "metadata": {},
   "outputs": [
    {
     "data": {
      "text/html": [
       "<div>\n",
       "<style scoped>\n",
       "    .dataframe tbody tr th:only-of-type {\n",
       "        vertical-align: middle;\n",
       "    }\n",
       "\n",
       "    .dataframe tbody tr th {\n",
       "        vertical-align: top;\n",
       "    }\n",
       "\n",
       "    .dataframe thead th {\n",
       "        text-align: right;\n",
       "    }\n",
       "</style>\n",
       "<table border=\"1\" class=\"dataframe\">\n",
       "  <thead>\n",
       "    <tr style=\"text-align: right;\">\n",
       "      <th></th>\n",
       "      <th>mean</th>\n",
       "      <th>sd</th>\n",
       "      <th>mc error</th>\n",
       "      <th>hpd 3%</th>\n",
       "      <th>hpd 97%</th>\n",
       "      <th>eff_n</th>\n",
       "      <th>r_hat</th>\n",
       "    </tr>\n",
       "  </thead>\n",
       "  <tbody>\n",
       "    <tr>\n",
       "      <th>α</th>\n",
       "      <td>5.10</td>\n",
       "      <td>5.85</td>\n",
       "      <td>2.18</td>\n",
       "      <td>-0.89</td>\n",
       "      <td>12.07</td>\n",
       "      <td>2.0</td>\n",
       "      <td>9.63</td>\n",
       "    </tr>\n",
       "    <tr>\n",
       "      <th>β</th>\n",
       "      <td>0.61</td>\n",
       "      <td>0.78</td>\n",
       "      <td>0.26</td>\n",
       "      <td>-0.75</td>\n",
       "      <td>1.11</td>\n",
       "      <td>2.0</td>\n",
       "      <td>31.23</td>\n",
       "    </tr>\n",
       "    <tr>\n",
       "      <th>ϵ</th>\n",
       "      <td>274.52</td>\n",
       "      <td>62.46</td>\n",
       "      <td>15.96</td>\n",
       "      <td>119.57</td>\n",
       "      <td>335.25</td>\n",
       "      <td>12.0</td>\n",
       "      <td>1.04</td>\n",
       "    </tr>\n",
       "  </tbody>\n",
       "</table>\n",
       "</div>"
      ],
      "text/plain": [
       "     mean     sd  mc error  hpd 3%  hpd 97%  eff_n  r_hat\n",
       "α    5.10   5.85      2.18   -0.89    12.07    2.0   9.63\n",
       "β    0.61   0.78      0.26   -0.75     1.11    2.0  31.23\n",
       "ϵ  274.52  62.46     15.96  119.57   335.25   12.0   1.04"
      ]
     },
     "execution_count": 24,
     "metadata": {},
     "output_type": "execute_result"
    }
   ],
   "source": [
    "az.summary(trace_p_q2c)"
   ]
  },
  {
   "cell_type": "code",
   "execution_count": 25,
   "metadata": {},
   "outputs": [
    {
     "data": {
      "image/png": "[encoded data removed]",
      "text/plain": [
       "<Figure size 432x288 with 1 Axes>"
      ]
     },
     "metadata": {
      "needs_background": "light"
     },
     "output_type": "display_data"
    }
   ],
   "source": [
    "α_p_post = trace_p_q2c['α'].mean()\n",
    "β_p_post = trace_p_q2c['β'].mean(axis=0)\n",
    "β_p_post = np.array([β_p_post] * 5).T\n",
    "\n",
    "idx = np.argsort(Xr[0])\n",
    "y_p_arr_post = α_p_post + np.dot(β_p_post, Xr)\n",
    "\n",
    "plt.plot(Xr[0, idx], y_p_arr_post[idx], 'C3', label=f'order={order}, sd=arr')\n",
    "plt.plot(Xr[0, idx], y_p_sd100_post[idx], 'C2', label=f'order={order}, sd=100')\n",
    "plt.plot(Xr[0, idx], y_p_post[idx], 'C1', label=f'order={order}, sd=1')\n",
    "plt.scatter(Xr[0, :], y, c='C0', marker='.')\n",
    "plt.legend(loc=\"best\")\n",
    "_ = plt.show()"
   ]
  },
  {
   "cell_type": "code",
   "execution_count": 26,
   "metadata": {},
   "outputs": [
    {
     "name": "stderr",
     "output_type": "stream",
     "text": [
      "100%|██████████| 200/200 [00:00<00:00, 1221.82it/s]\n",
      "100%|██████████| 200/200 [00:00<00:00, 1229.58it/s]\n",
      "100%|██████████| 200/200 [00:00<00:00, 1006.31it/s]\n"
     ]
    },
    {
     "data": {
      "image/png": "[encoded data removed]",
      "text/plain": [
       "<Figure size 432x288 with 1 Axes>"
      ]
     },
     "metadata": {
      "needs_background": "light"
     },
     "output_type": "display_data"
    }
   ],
   "source": [
    "y_q2a_pps = pm.sample_posterior_predictive(trace_p_q2a, 200, model=model_p_q2a)['y_pred']\n",
    "y_q2b_pps = pm.sample_posterior_predictive(trace_p_q2b, 200, model=model_p_q2b)['y_pred']\n",
    "y_q2c_pps = pm.sample_posterior_predictive(trace_p_q2c, 200, model=model_p_q2c)['y_pred']\n",
    "\n",
    "data = [y, y_q2a_pps, y_q2b_pps, y_q2c_pps]\n",
    "labels = ['data', 'sd=1', 'sd=100', 'sd=array']\n",
    "for i, d in enumerate(data):\n",
    "    mean = d.mean()\n",
    "    err = np.percentile(d, [25, 75])\n",
    "    plt.errorbar(mean, -i, xerr=[[-err[0]], [err[1]]], fmt='o')\n",
    "    plt.text(mean, -i+0.2, labels[i], ha='center', fontsize=14)\n",
    "\n",
    "plt.ylim([-i-0.5, 0.5])\n",
    "plt.yticks([])\n",
    "_ = plt.show()"
   ]
  },
  {
   "cell_type": "markdown",
   "metadata": {},
   "source": [
    "## Question 3\n",
    "\n",
    "Fit a cubic model (order 3), compute WAIC and LOO, plot the results, and compare them with the linear and quadratic models."
   ]
  },
  {
   "cell_type": "code",
   "execution_count": 27,
   "metadata": {},
   "outputs": [
    {
     "data": {
      "text/plain": [
       "((3, 33), (33,))"
      ]
     },
     "execution_count": 27,
     "metadata": {},
     "output_type": "execute_result"
    }
   ],
   "source": [
    "def make_data(x, y, order):\n",
    "    xp = np.vstack([x ** i for i in range(1, order+1)])\n",
    "    xs = (xp - xp.mean(axis=1, keepdims=True)) / xp.std(axis=1, keepdims=True)\n",
    "    ys = (y - y.mean()) / y.std()\n",
    "    return xs, ys\n",
    "\n",
    "\n",
    "dummy_data = np.loadtxt('../BAP/code/data/dummy.csv')\n",
    "x = dummy_data[:, 0]\n",
    "y = dummy_data[:, 1]\n",
    "order = 3\n",
    "\n",
    "X, y = make_data(x, y, order)\n",
    "X.shape, y.shape"
   ]
  },
  {
   "cell_type": "code",
   "execution_count": 28,
   "metadata": {},
   "outputs": [
    {
     "data": {
      "image/png": "[encoded data removed]",
      "text/plain": [
       "<Figure size 432x288 with 1 Axes>"
      ]
     },
     "metadata": {
      "needs_background": "light"
     },
     "output_type": "display_data"
    }
   ],
   "source": [
    "plt.scatter(X[0], y)\n",
    "plt.xlabel('x')\n",
    "plt.ylabel('y')\n",
    "_ = plt.show()"
   ]
  },
  {
   "cell_type": "code",
   "execution_count": 29,
   "metadata": {},
   "outputs": [
    {
     "name": "stderr",
     "output_type": "stream",
     "text": [
      "Auto-assigning NUTS sampler...\n",
      "Initializing NUTS using jitter+adapt_diag...\n",
      "Multiprocess sampling (4 chains in 4 jobs)\n",
      "NUTS: [ϵ, β, α]\n",
      "Sampling 4 chains: 100%|██████████| 10000/10000 [00:11<00:00, 853.18draws/s]\n"
     ]
    }
   ],
   "source": [
    "with pm.Model() as model_p_q3a:\n",
    "    α = pm.Normal('α', mu=0, sd=1)\n",
    "    β = pm.Normal('β', mu=0, sd=1, shape=order)\n",
    "    ϵ = pm.HalfNormal('ϵ', 5)\n",
    "    μ = α + pm.math.dot(β, X)\n",
    "    y_pred = pm.Normal('y_pred', mu=μ, sd=ϵ, observed=y)\n",
    "    trace_p_q3a = pm.sample(2000)"
   ]
  },
  {
   "cell_type": "code",
   "execution_count": 30,
   "metadata": {},
   "outputs": [
    {
     "name": "stderr",
     "output_type": "stream",
     "text": [
      "Auto-assigning NUTS sampler...\n",
      "Initializing NUTS using jitter+adapt_diag...\n",
      "Multiprocess sampling (4 chains in 4 jobs)\n",
      "NUTS: [ϵ, β, α]\n",
      "Sampling 4 chains: 100%|██████████| 10000/10000 [00:05<00:00, 1717.70draws/s]\n",
      "The acceptance probability does not match the target. It is 0.8993241719613827, but should be close to 0.8. Try to increase the number of tuning steps.\n",
      "The acceptance probability does not match the target. It is 0.8874808035965633, but should be close to 0.8. Try to increase the number of tuning steps.\n",
      "The acceptance probability does not match the target. It is 0.8805697805999781, but should be close to 0.8. Try to increase the number of tuning steps.\n"
     ]
    }
   ],
   "source": [
    "order = 2\n",
    "X2 = X[:-1, :]\n",
    "\n",
    "with pm.Model() as model_p_q3b:\n",
    "    α = pm.Normal('α', mu=0, sd=1)\n",
    "    β = pm.Normal('β', mu=0, sd=1, shape=order)\n",
    "    ϵ = pm.HalfNormal('ϵ', 5)\n",
    "    μ = α + pm.math.dot(β, X2)\n",
    "    y_pred = pm.Normal('y_pred', mu=μ, sd=ϵ, observed=y)\n",
    "    trace_p_q3b = pm.sample(2000)"
   ]
  },
  {
   "cell_type": "code",
   "execution_count": 31,
   "metadata": {},
   "outputs": [
    {
     "name": "stderr",
     "output_type": "stream",
     "text": [
      "Auto-assigning NUTS sampler...\n",
      "Initializing NUTS using jitter+adapt_diag...\n",
      "Multiprocess sampling (4 chains in 4 jobs)\n",
      "NUTS: [ϵ, β, α]\n",
      "Sampling 4 chains: 100%|██████████| 10000/10000 [00:03<00:00, 3021.94draws/s]\n"
     ]
    }
   ],
   "source": [
    "order = 1\n",
    "X1 = X[:-2, :]\n",
    "\n",
    "with pm.Model() as model_p_q3c:\n",
    "    α = pm.Normal('α', mu=0, sd=1)\n",
    "    β = pm.Normal('β', mu=0, sd=1, shape=order)\n",
    "    ϵ = pm.HalfNormal('ϵ', 5)\n",
    "    μ = α + pm.math.dot(β, X1)\n",
    "    y_pred = pm.Normal('y_pred', mu=μ, sd=ϵ, observed=y_1s)\n",
    "    trace_p_q3c = pm.sample(2000)"
   ]
  },
  {
   "cell_type": "code",
   "execution_count": 32,
   "metadata": {},
   "outputs": [
    {
     "data": {
      "image/png": "[encoded data removed]",
      "text/plain": [
       "<Figure size 432x288 with 1 Axes>"
      ]
     },
     "metadata": {
      "needs_background": "light"
     },
     "output_type": "display_data"
    }
   ],
   "source": [
    "def compute_ypreds(trace, X):\n",
    "    α_p_post = trace['α'].mean()\n",
    "    β_p_post = trace['β'].mean(axis=0)\n",
    "    ypred_post = α_p_post + np.dot(β_p_post, X)\n",
    "    return ypred_post\n",
    "\n",
    "ypred_post_o3 = compute_ypreds(trace_p_q3a, X)\n",
    "ypred_post_o2 = compute_ypreds(trace_p_q3b, X2)\n",
    "ypred_post_o1 = compute_ypreds(trace_p_q3c, X1)\n",
    "\n",
    "idx = np.argsort(X[0])\n",
    "plt.plot(X[0, idx], ypred_post_o3[idx], 'C3', label='order=3')\n",
    "plt.plot(X[0, idx], ypred_post_o2[idx], 'C2', label='order=2')\n",
    "plt.plot(X[0, idx], ypred_post_o1[idx], 'C1', label='order=1')\n",
    "plt.scatter(X[0], y, marker='.')\n",
    "plt.xlabel(\"x\")\n",
    "plt.ylabel(\"y\")\n",
    "plt.legend(loc=\"best\")\n",
    "_ = plt.show()"
   ]
  },
  {
   "cell_type": "code",
   "execution_count": 33,
   "metadata": {},
   "outputs": [
    {
     "name": "stderr",
     "output_type": "stream",
     "text": [
      "100%|██████████| 200/200 [00:00<00:00, 985.39it/s]\n",
      "100%|██████████| 200/200 [00:00<00:00, 1027.36it/s]\n",
      "100%|██████████| 200/200 [00:00<00:00, 990.67it/s]\n"
     ]
    },
    {
     "data": {
      "image/png": "[encoded data removed]",
      "text/plain": [
       "<Figure size 432x288 with 1 Axes>"
      ]
     },
     "metadata": {
      "needs_background": "light"
     },
     "output_type": "display_data"
    }
   ],
   "source": [
    "y_q3a_pps = pm.sample_posterior_predictive(trace_p_q3a, 200, model=model_p_q3a)['y_pred']\n",
    "y_q3b_pps = pm.sample_posterior_predictive(trace_p_q3b, 200, model=model_p_q3b)['y_pred']\n",
    "y_q3c_pps = pm.sample_posterior_predictive(trace_p_q3c, 200, model=model_p_q3c)['y_pred']\n",
    "\n",
    "data = [y, y_q3a_pps, y_q3b_pps, y_q3c_pps]\n",
    "labels = ['data', 'order=3', 'order=2', 'order=1']\n",
    "for i, d in enumerate(data):\n",
    "    mean = d.mean()\n",
    "    err = np.percentile(d, [25, 75])\n",
    "    plt.errorbar(mean, -i, xerr=[[-err[0]], [err[1]]], fmt='o')\n",
    "    plt.text(mean, -i+0.2, labels[i], ha='center', fontsize=14)\n",
    "\n",
    "plt.ylim([-i-0.5, 0.5])\n",
    "plt.yticks([])\n",
    "_ = plt.show()"
   ]
  },
  {
   "cell_type": "code",
   "execution_count": 34,
   "metadata": {},
   "outputs": [
    {
     "data": {
      "text/html": [
       "<div>\n",
       "<style scoped>\n",
       "    .dataframe tbody tr th:only-of-type {\n",
       "        vertical-align: middle;\n",
       "    }\n",
       "\n",
       "    .dataframe tbody tr th {\n",
       "        vertical-align: top;\n",
       "    }\n",
       "\n",
       "    .dataframe thead th {\n",
       "        text-align: right;\n",
       "    }\n",
       "</style>\n",
       "<table border=\"1\" class=\"dataframe\">\n",
       "  <thead>\n",
       "    <tr style=\"text-align: right;\">\n",
       "      <th></th>\n",
       "      <th>loo</th>\n",
       "      <th>ploo</th>\n",
       "      <th>dloo</th>\n",
       "      <th>weight</th>\n",
       "      <th>se</th>\n",
       "      <th>dse</th>\n",
       "      <th>warning</th>\n",
       "    </tr>\n",
       "  </thead>\n",
       "  <tbody>\n",
       "    <tr>\n",
       "      <th>model_quadratic</th>\n",
       "      <td>9.12524</td>\n",
       "      <td>2.62895</td>\n",
       "      <td>0</td>\n",
       "      <td>1</td>\n",
       "      <td>4.78896</td>\n",
       "      <td>0</td>\n",
       "      <td>0</td>\n",
       "    </tr>\n",
       "    <tr>\n",
       "      <th>model_cubic</th>\n",
       "      <td>10.4222</td>\n",
       "      <td>3.12338</td>\n",
       "      <td>1.29697</td>\n",
       "      <td>2.72005e-15</td>\n",
       "      <td>4.76004</td>\n",
       "      <td>0.91205</td>\n",
       "      <td>0</td>\n",
       "    </tr>\n",
       "    <tr>\n",
       "      <th>model_linear</th>\n",
       "      <td>28.6678</td>\n",
       "      <td>2.39675</td>\n",
       "      <td>19.5425</td>\n",
       "      <td>6.66134e-16</td>\n",
       "      <td>5.30615</td>\n",
       "      <td>5.12436</td>\n",
       "      <td>0</td>\n",
       "    </tr>\n",
       "  </tbody>\n",
       "</table>\n",
       "</div>"
      ],
      "text/plain": [
       "                     loo     ploo     dloo       weight       se      dse  \\\n",
       "model_quadratic  9.12524  2.62895        0            1  4.78896        0   \n",
       "model_cubic      10.4222  3.12338  1.29697  2.72005e-15  4.76004  0.91205   \n",
       "model_linear     28.6678  2.39675  19.5425  6.66134e-16  5.30615  5.12436   \n",
       "\n",
       "                warning  \n",
       "model_quadratic       0  \n",
       "model_cubic           0  \n",
       "model_linear          0  "
      ]
     },
     "execution_count": 34,
     "metadata": {},
     "output_type": "execute_result"
    }
   ],
   "source": [
    "cmp_df = az.compare({\n",
    "    \"model_cubic\": trace_p_q3a,\n",
    "    \"model_quadratic\": trace_p_q3b,\n",
    "    \"model_linear\": trace_p_q3c\n",
    "}, ic=\"loo\")\n",
    "cmp_df"
   ]
  },
  {
   "cell_type": "code",
   "execution_count": 35,
   "metadata": {},
   "outputs": [
    {
     "data": {
      "image/png": "[encoded data removed]",
      "text/plain": [
       "<Figure size 432x216 with 1 Axes>"
      ]
     },
     "metadata": {
      "needs_background": "light"
     },
     "output_type": "display_data"
    }
   ],
   "source": [
    "_ = az.plot_compare(cmp_df)"
   ]
  },
  {
   "cell_type": "code",
   "execution_count": 36,
   "metadata": {},
   "outputs": [
    {
     "data": {
      "text/html": [
       "<div>\n",
       "<style scoped>\n",
       "    .dataframe tbody tr th:only-of-type {\n",
       "        vertical-align: middle;\n",
       "    }\n",
       "\n",
       "    .dataframe tbody tr th {\n",
       "        vertical-align: top;\n",
       "    }\n",
       "\n",
       "    .dataframe thead th {\n",
       "        text-align: right;\n",
       "    }\n",
       "</style>\n",
       "<table border=\"1\" class=\"dataframe\">\n",
       "  <thead>\n",
       "    <tr style=\"text-align: right;\">\n",
       "      <th></th>\n",
       "      <th>waic</th>\n",
       "      <th>pwaic</th>\n",
       "      <th>dwaic</th>\n",
       "      <th>weight</th>\n",
       "      <th>se</th>\n",
       "      <th>dse</th>\n",
       "      <th>warning</th>\n",
       "    </tr>\n",
       "  </thead>\n",
       "  <tbody>\n",
       "    <tr>\n",
       "      <th>model_quadratic</th>\n",
       "      <td>9.06938</td>\n",
       "      <td>2.60103</td>\n",
       "      <td>0</td>\n",
       "      <td>1</td>\n",
       "      <td>4.77962</td>\n",
       "      <td>0</td>\n",
       "      <td>0</td>\n",
       "    </tr>\n",
       "    <tr>\n",
       "      <th>model_cubic</th>\n",
       "      <td>10.3289</td>\n",
       "      <td>3.07674</td>\n",
       "      <td>1.25954</td>\n",
       "      <td>2.30371e-15</td>\n",
       "      <td>4.75132</td>\n",
       "      <td>0.905246</td>\n",
       "      <td>0</td>\n",
       "    </tr>\n",
       "    <tr>\n",
       "      <th>model_linear</th>\n",
       "      <td>28.6082</td>\n",
       "      <td>2.36698</td>\n",
       "      <td>19.5388</td>\n",
       "      <td>7.77156e-16</td>\n",
       "      <td>5.29259</td>\n",
       "      <td>5.11113</td>\n",
       "      <td>0</td>\n",
       "    </tr>\n",
       "  </tbody>\n",
       "</table>\n",
       "</div>"
      ],
      "text/plain": [
       "                    waic    pwaic    dwaic       weight       se       dse  \\\n",
       "model_quadratic  9.06938  2.60103        0            1  4.77962         0   \n",
       "model_cubic      10.3289  3.07674  1.25954  2.30371e-15  4.75132  0.905246   \n",
       "model_linear     28.6082  2.36698  19.5388  7.77156e-16  5.29259   5.11113   \n",
       "\n",
       "                warning  \n",
       "model_quadratic       0  \n",
       "model_cubic           0  \n",
       "model_linear          0  "
      ]
     },
     "execution_count": 36,
     "metadata": {},
     "output_type": "execute_result"
    }
   ],
   "source": [
    "cmp_df = az.compare({\n",
    "    \"model_cubic\": trace_p_q3a,\n",
    "    \"model_quadratic\": trace_p_q3b,\n",
    "    \"model_linear\": trace_p_q3c\n",
    "}, ic=\"waic\")\n",
    "cmp_df"
   ]
  },
  {
   "cell_type": "code",
   "execution_count": 37,
   "metadata": {},
   "outputs": [
    {
     "data": {
      "image/png": "[encoded data removed]",
      "text/plain": [
       "<Figure size 432x216 with 1 Axes>"
      ]
     },
     "metadata": {
      "needs_background": "light"
     },
     "output_type": "display_data"
    }
   ],
   "source": [
    "_ = az.plot_compare(cmp_df)"
   ]
  },
  {
   "cell_type": "markdown",
   "metadata": {},
   "source": [
    "## Question 4\n",
    "\n",
    "Use `pm.sample_posterior_predictive()` to rerun the PPC example, but this time, plot the values of y instead of the values of the mean."
   ]
  },
  {
   "cell_type": "code",
   "execution_count": 38,
   "metadata": {},
   "outputs": [],
   "source": [
    "dummy_data = np.loadtxt('../BAP/code/data/dummy.csv')\n",
    "x_1 = dummy_data[:, 0]\n",
    "y_1 = dummy_data[:, 1]\n",
    "order = 5\n",
    "\n",
    "x_1p = np.vstack([x_1**i for i in range(1, order+1)])\n",
    "x_1s = (x_1p - x_1p.mean(axis=1, keepdims=True)) / x_1p.std(axis=1, keepdims=True)\n",
    "y_1s = (y_1 - y_1.mean()) / y_1.std()"
   ]
  },
  {
   "cell_type": "code",
   "execution_count": 39,
   "metadata": {},
   "outputs": [
    {
     "name": "stderr",
     "output_type": "stream",
     "text": [
      "Auto-assigning NUTS sampler...\n",
      "Initializing NUTS using jitter+adapt_diag...\n",
      "Multiprocess sampling (4 chains in 4 jobs)\n",
      "NUTS: [ϵ, β, α]\n",
      "Sampling 4 chains: 100%|██████████| 10000/10000 [00:35<00:00, 278.64draws/s]\n",
      "There was 1 divergence after tuning. Increase `target_accept` or reparameterize.\n"
     ]
    }
   ],
   "source": [
    "with pm.Model() as model_p_q4a:\n",
    "    α = pm.Normal('α', mu=0, sd=1)\n",
    "    β = pm.Normal('β', mu=0, sd=1, shape=order)\n",
    "    ϵ = pm.HalfNormal('ϵ', 5)\n",
    "    μ = α + pm.math.dot(β, x_1s)\n",
    "    y_pred = pm.Normal('y_pred', mu=μ, sd=ϵ, observed=y_1s)\n",
    "    trace_p_q4a = pm.sample(2000)"
   ]
  },
  {
   "cell_type": "code",
   "execution_count": 40,
   "metadata": {},
   "outputs": [
    {
     "name": "stderr",
     "output_type": "stream",
     "text": [
      "100%|██████████| 2000/2000 [00:01<00:00, 1531.66it/s]\n"
     ]
    },
    {
     "data": {
      "text/plain": [
       "(2000, 33)"
      ]
     },
     "execution_count": 40,
     "metadata": {},
     "output_type": "execute_result"
    }
   ],
   "source": [
    "ypred_pps = pm.sample_posterior_predictive(trace_p_q4a, 2000, model=model_p_q4a)[\"y_pred\"]\n",
    "ypred_pps.shape"
   ]
  },
  {
   "cell_type": "code",
   "execution_count": 41,
   "metadata": {},
   "outputs": [
    {
     "data": {
      "image/png": "[encoded data removed]",
      "text/plain": [
       "<Figure size 432x288 with 1 Axes>"
      ]
     },
     "metadata": {
      "needs_background": "light"
     },
     "output_type": "display_data"
    }
   ],
   "source": [
    "y_true = y.repeat(2000)\n",
    "y_pred = ypred_pps.reshape(-1)\n",
    "p_value = np.mean(y_pred > y_true)\n",
    "az.plot_kde(y_pred)\n",
    "plt.axvline(x=p_value, color=\"k\", linestyle=\"dashed\", label=\"p-value: {:.3f}\".format(p_value))\n",
    "plt.legend(loc=\"best\")\n",
    "_ = plt.show()"
   ]
  },
  {
   "cell_type": "markdown",
   "metadata": {},
   "source": [
    "## Question 5\n",
    "\n",
    "Go back to the code that generated Figure 5.5 and Figure 5.6, and modify it to get new sets of six data points. Visually evaluate how the different polynomials fit these new datasets. Relate the results to the discussions in this book.\n",
    "\n",
    "<p><font color=\"blue\">\n",
    "    <p>In general, higher degree polynomials will fit the points better, but they tend to overfit, so the model is less able to predict new data points accurately.</p>\n",
    "</font></p>"
   ]
  },
  {
   "cell_type": "code",
   "execution_count": 42,
   "metadata": {},
   "outputs": [
    {
     "data": {
      "image/png": "[encoded data removed]",
      "text/plain": [
       "<Figure size 720x360 with 1 Axes>"
      ]
     },
     "metadata": {
      "needs_background": "light"
     },
     "output_type": "display_data"
    }
   ],
   "source": [
    "# x = np.array([4., 5., 6., 9., 12, 14.])\n",
    "# y = np.array([4.2, 6., 6., 9., 10, 10.])\n",
    "\n",
    "x = np.random.randint(low=4, high=14, size=6)\n",
    "y = np.random.randint(low=4, high=10, size=6)\n",
    "\n",
    "plt.figure(figsize=(10, 5))\n",
    "order = [0, 1, 2, 5]\n",
    "plt.plot(x, y, 'o')\n",
    "for i in order:\n",
    "    x_n = np.linspace(x.min(), x.max(), 100)\n",
    "    coeffs = np.polyfit(x, y, deg=i)\n",
    "    ffit = np.polyval(coeffs, x_n)\n",
    "    p = np.poly1d(coeffs)\n",
    "    yhat = p(x)\n",
    "    ybar = np.mean(y)\n",
    "    ssreg = np.sum((yhat-ybar)**2)\n",
    "    sstot = np.sum((y - ybar)**2)\n",
    "    r2 = ssreg / sstot\n",
    "    plt.plot(x_n, ffit, label=f'order {i}, $R^2$= {r2:.2f}')\n",
    "    \n",
    "plt.legend(loc=2)\n",
    "plt.xlabel('x')\n",
    "plt.ylabel('y', rotation=0)\n",
    "_ = plt.show()"
   ]
  },
  {
   "cell_type": "markdown",
   "metadata": {},
   "source": [
    "## Question 7\n",
    "\n",
    "Read and run the model averaging example from PyMC3's documentation at https://docs.pymc.io/notebooks/model_averaging.html.\n",
    "\n",
    "<p><font color=\"blue\"><p>Idea here is to do a az.compare with WAIC over multiple models and get back the weights, then predict using the weighted predictions from all models, using a call to pm.sample_posterior_predictive_w.</p></font></p>"
   ]
  },
  {
   "cell_type": "markdown",
   "metadata": {},
   "source": [
    "## Question 8\n",
    "\n",
    "Compute the Bayes factor for the coin problem using a uniform prior beta (1, 1) and priors such as beta (0.5, 0.5). Set 15 heads and 30 coins. Compare this result with the inference we got in the first chapter of this book.\n",
    "\n",
    "<p><font color=\"blue\"><p>The computed Bayes Factor of 1.5 indicates that Model with Beta priors (1, 1) is about 1.5 times more favored than Model with Beta priors (0.5, 0.5). However, comparing the models using WAIC shows that they are about on par with each other.</p></font></p>"
   ]
  },
  {
   "cell_type": "code",
   "execution_count": 43,
   "metadata": {},
   "outputs": [
    {
     "data": {
      "text/plain": [
       "array([0, 0, 0, 0, 0, 0, 0, 0, 0, 0, 0, 0, 0, 0, 0, 1, 1, 1, 1, 1, 1, 1,\n",
       "       1, 1, 1, 1, 1, 1, 1, 1])"
      ]
     },
     "execution_count": 43,
     "metadata": {},
     "output_type": "execute_result"
    }
   ],
   "source": [
    "coins, heads = 30, 15\n",
    "y = np.repeat([0, 1], [coins - heads, heads])\n",
    "y"
   ]
  },
  {
   "cell_type": "code",
   "execution_count": 44,
   "metadata": {},
   "outputs": [
    {
     "name": "stderr",
     "output_type": "stream",
     "text": [
      "Multiprocess sampling (4 chains in 4 jobs)\n",
      "CompoundStep\n",
      ">BinaryGibbsMetropolis: [model_index]\n",
      ">NUTS: [θ]\n",
      "Sampling 4 chains: 100%|██████████| 22000/22000 [00:05<00:00, 3718.23draws/s]\n"
     ]
    }
   ],
   "source": [
    "with pm.Model() as model_BF_q8:\n",
    "    p = np.array([0.5, 0.5])\n",
    "    model_index = pm.Categorical('model_index', p=p)\n",
    "    m_0 = (1, 1)\n",
    "    m_1 = (0.5, 0.5)\n",
    "    m = pm.math.switch(pm.math.eq(model_index, 0), m_0, m_1)\n",
    "    θ = pm.Beta('θ', m[0], m[1])\n",
    "    y_pred = pm.Bernoulli('y_pred', θ, observed=y)\n",
    "    trace_BF_q8 = pm.sample(5000)"
   ]
  },
  {
   "cell_type": "code",
   "execution_count": 45,
   "metadata": {},
   "outputs": [
    {
     "data": {
      "image/png": "[encoded data removed]",
      "text/plain": [
       "<Figure size 864x288 with 4 Axes>"
      ]
     },
     "metadata": {
      "needs_background": "light"
     },
     "output_type": "display_data"
    }
   ],
   "source": [
    "_ = az.plot_trace(trace_BF_q8)"
   ]
  },
  {
   "cell_type": "code",
   "execution_count": 46,
   "metadata": {},
   "outputs": [
    {
     "data": {
      "text/plain": [
       "1.5493945188017846"
      ]
     },
     "execution_count": 46,
     "metadata": {},
     "output_type": "execute_result"
    }
   ],
   "source": [
    "pM1 = trace_BF_q8['model_index'].mean()\n",
    "pM0 = 1 - pM1\n",
    "BF = (pM0 / pM1) * (p[1] / p[0])\n",
    "BF"
   ]
  },
  {
   "cell_type": "code",
   "execution_count": 47,
   "metadata": {},
   "outputs": [
    {
     "name": "stderr",
     "output_type": "stream",
     "text": [
      "Auto-assigning NUTS sampler...\n",
      "Initializing NUTS using jitter+adapt_diag...\n",
      "Multiprocess sampling (4 chains in 4 jobs)\n",
      "NUTS: [θ]\n",
      "Sampling 4 chains: 100%|██████████| 22000/22000 [00:04<00:00, 4410.29draws/s]\n"
     ]
    }
   ],
   "source": [
    "with pm.Model() as model_BF_q8a:\n",
    "    θ = pm.Beta('θ', 1, 1)\n",
    "    y_pred = pm.Bernoulli('y_pred', θ, observed=y)\n",
    "    trace_BF_q8a = pm.sample(5000)"
   ]
  },
  {
   "cell_type": "code",
   "execution_count": 48,
   "metadata": {},
   "outputs": [
    {
     "name": "stderr",
     "output_type": "stream",
     "text": [
      "Auto-assigning NUTS sampler...\n",
      "Initializing NUTS using jitter+adapt_diag...\n",
      "Multiprocess sampling (4 chains in 4 jobs)\n",
      "NUTS: [θ]\n",
      "Sampling 4 chains: 100%|██████████| 22000/22000 [00:05<00:00, 4029.60draws/s]\n",
      "The acceptance probability does not match the target. It is 0.8806216557894032, but should be close to 0.8. Try to increase the number of tuning steps.\n"
     ]
    }
   ],
   "source": [
    "with pm.Model() as model_BF_q8b:\n",
    "    θ = pm.Beta('θ', 0.5, 0.5)\n",
    "    y_pred = pm.Bernoulli('y_pred', θ, observed=y)\n",
    "    trace_BF_q8b = pm.sample(5000)"
   ]
  },
  {
   "cell_type": "code",
   "execution_count": 49,
   "metadata": {},
   "outputs": [
    {
     "data": {
      "text/html": [
       "<div>\n",
       "<style scoped>\n",
       "    .dataframe tbody tr th:only-of-type {\n",
       "        vertical-align: middle;\n",
       "    }\n",
       "\n",
       "    .dataframe tbody tr th {\n",
       "        vertical-align: top;\n",
       "    }\n",
       "\n",
       "    .dataframe thead th {\n",
       "        text-align: right;\n",
       "    }\n",
       "</style>\n",
       "<table border=\"1\" class=\"dataframe\">\n",
       "  <thead>\n",
       "    <tr style=\"text-align: right;\">\n",
       "      <th></th>\n",
       "      <th>waic</th>\n",
       "      <th>pwaic</th>\n",
       "      <th>dwaic</th>\n",
       "      <th>weight</th>\n",
       "      <th>se</th>\n",
       "      <th>dse</th>\n",
       "      <th>warning</th>\n",
       "    </tr>\n",
       "  </thead>\n",
       "  <tbody>\n",
       "    <tr>\n",
       "      <th>Beta(1,1) prior</th>\n",
       "      <td>43.5689</td>\n",
       "      <td>0.990025</td>\n",
       "      <td>0</td>\n",
       "      <td>1</td>\n",
       "      <td>0.00875816</td>\n",
       "      <td>0</td>\n",
       "      <td>0</td>\n",
       "    </tr>\n",
       "    <tr>\n",
       "      <th>Beta(0.5, 0.5) prior</th>\n",
       "      <td>43.6287</td>\n",
       "      <td>1.01985</td>\n",
       "      <td>0.0597706</td>\n",
       "      <td>2.22045e-16</td>\n",
       "      <td>0.0262619</td>\n",
       "      <td>0.03502</td>\n",
       "      <td>0</td>\n",
       "    </tr>\n",
       "  </tbody>\n",
       "</table>\n",
       "</div>"
      ],
      "text/plain": [
       "                         waic     pwaic      dwaic       weight          se  \\\n",
       "Beta(1,1) prior       43.5689  0.990025          0            1  0.00875816   \n",
       "Beta(0.5, 0.5) prior  43.6287   1.01985  0.0597706  2.22045e-16   0.0262619   \n",
       "\n",
       "                          dse warning  \n",
       "Beta(1,1) prior             0       0  \n",
       "Beta(0.5, 0.5) prior  0.03502       0  "
      ]
     },
     "execution_count": 49,
     "metadata": {},
     "output_type": "execute_result"
    }
   ],
   "source": [
    "cmp_df = az.compare({\n",
    "    \"Beta(1,1) prior\": trace_BF_q8a,\n",
    "    \"Beta(0.5, 0.5) prior\": trace_BF_q8b\n",
    "}, ic=\"waic\")\n",
    "cmp_df"
   ]
  },
  {
   "cell_type": "code",
   "execution_count": 50,
   "metadata": {},
   "outputs": [
    {
     "data": {
      "image/png": "[encoded data removed]",
      "text/plain": [
       "<Figure size 432x144 with 1 Axes>"
      ]
     },
     "metadata": {
      "needs_background": "light"
     },
     "output_type": "display_data"
    }
   ],
   "source": [
    "_ = az.plot_compare(cmp_df)"
   ]
  },
  {
   "cell_type": "markdown",
   "metadata": {},
   "source": [
    "## Question 9\n",
    "\n",
    "Repeat the last example where we compare Bayes factors and Information Criteria, but now reduce the sample size."
   ]
  },
  {
   "cell_type": "code",
   "execution_count": 51,
   "metadata": {},
   "outputs": [
    {
     "data": {
      "text/plain": [
       "array([0, 0, 0, 0, 0, 1, 1, 1, 1, 1])"
      ]
     },
     "execution_count": 51,
     "metadata": {},
     "output_type": "execute_result"
    }
   ],
   "source": [
    "coins, heads = 10, 5\n",
    "y = np.repeat([0, 1], [coins - heads, heads])\n",
    "y"
   ]
  },
  {
   "cell_type": "code",
   "execution_count": 52,
   "metadata": {},
   "outputs": [
    {
     "name": "stderr",
     "output_type": "stream",
     "text": [
      "Multiprocess sampling (4 chains in 4 jobs)\n",
      "CompoundStep\n",
      ">BinaryGibbsMetropolis: [model_index]\n",
      ">NUTS: [θ]\n",
      "Sampling 4 chains: 100%|██████████| 22000/22000 [00:06<00:00, 3405.55draws/s]\n"
     ]
    }
   ],
   "source": [
    "with pm.Model() as model_BF_q9:\n",
    "    p = np.array([0.5, 0.5])\n",
    "    model_index = pm.Categorical('model_index', p=p)\n",
    "    m_0 = (1, 1)\n",
    "    m_1 = (0.5, 0.5)\n",
    "    m = pm.math.switch(pm.math.eq(model_index, 0), m_0, m_1)\n",
    "    θ = pm.Beta('θ', m[0], m[1])\n",
    "    y_pred = pm.Bernoulli('y_pred', θ, observed=y)\n",
    "    trace_BF_q9 = pm.sample(5000)"
   ]
  },
  {
   "cell_type": "code",
   "execution_count": 53,
   "metadata": {},
   "outputs": [
    {
     "data": {
      "text/plain": [
       "1.5493945188017846"
      ]
     },
     "execution_count": 53,
     "metadata": {},
     "output_type": "execute_result"
    }
   ],
   "source": [
    "pM1 = trace_BF_q8['model_index'].mean()\n",
    "pM0 = 1 - pM1\n",
    "BF = (pM0 / pM1) * (p[1] / p[0])\n",
    "BF"
   ]
  },
  {
   "cell_type": "code",
   "execution_count": 54,
   "metadata": {},
   "outputs": [
    {
     "name": "stderr",
     "output_type": "stream",
     "text": [
      "Auto-assigning NUTS sampler...\n",
      "Initializing NUTS using jitter+adapt_diag...\n",
      "Multiprocess sampling (4 chains in 4 jobs)\n",
      "NUTS: [θ]\n",
      "Sampling 4 chains: 100%|██████████| 22000/22000 [00:05<00:00, 3783.02draws/s]\n"
     ]
    }
   ],
   "source": [
    "with pm.Model() as model_BF_q9a:\n",
    "    θ = pm.Beta('θ', 1, 1)\n",
    "    y_pred = pm.Bernoulli('y_pred', θ, observed=y)\n",
    "    trace_BF_q9a = pm.sample(5000)"
   ]
  },
  {
   "cell_type": "code",
   "execution_count": 55,
   "metadata": {},
   "outputs": [
    {
     "name": "stderr",
     "output_type": "stream",
     "text": [
      "Auto-assigning NUTS sampler...\n",
      "Initializing NUTS using jitter+adapt_diag...\n",
      "Multiprocess sampling (4 chains in 4 jobs)\n",
      "NUTS: [θ]\n",
      "Sampling 4 chains: 100%|██████████| 22000/22000 [00:05<00:00, 4241.14draws/s]\n"
     ]
    }
   ],
   "source": [
    "with pm.Model() as model_BF_q9b:\n",
    "    θ = pm.Beta('θ', 0.5, 0.5)\n",
    "    y_pred = pm.Bernoulli('y_pred', θ, observed=y)\n",
    "    trace_BF_q9b = pm.sample(5000)"
   ]
  },
  {
   "cell_type": "code",
   "execution_count": 56,
   "metadata": {},
   "outputs": [
    {
     "data": {
      "text/html": [
       "<div>\n",
       "<style scoped>\n",
       "    .dataframe tbody tr th:only-of-type {\n",
       "        vertical-align: middle;\n",
       "    }\n",
       "\n",
       "    .dataframe tbody tr th {\n",
       "        vertical-align: top;\n",
       "    }\n",
       "\n",
       "    .dataframe thead th {\n",
       "        text-align: right;\n",
       "    }\n",
       "</style>\n",
       "<table border=\"1\" class=\"dataframe\">\n",
       "  <thead>\n",
       "    <tr style=\"text-align: right;\">\n",
       "      <th></th>\n",
       "      <th>waic</th>\n",
       "      <th>pwaic</th>\n",
       "      <th>dwaic</th>\n",
       "      <th>weight</th>\n",
       "      <th>se</th>\n",
       "      <th>dse</th>\n",
       "      <th>warning</th>\n",
       "    </tr>\n",
       "  </thead>\n",
       "  <tbody>\n",
       "    <tr>\n",
       "      <th>Beta(1,1) prior</th>\n",
       "      <td>15.757</td>\n",
       "      <td>0.946983</td>\n",
       "      <td>0</td>\n",
       "      <td>1</td>\n",
       "      <td>0.022923</td>\n",
       "      <td>0</td>\n",
       "      <td>0</td>\n",
       "    </tr>\n",
       "    <tr>\n",
       "      <th>Beta(0.5, 0.5) prior</th>\n",
       "      <td>15.9602</td>\n",
       "      <td>1.04865</td>\n",
       "      <td>0.203293</td>\n",
       "      <td>0</td>\n",
       "      <td>0.00178609</td>\n",
       "      <td>0.0211369</td>\n",
       "      <td>0</td>\n",
       "    </tr>\n",
       "  </tbody>\n",
       "</table>\n",
       "</div>"
      ],
      "text/plain": [
       "                         waic     pwaic     dwaic weight          se  \\\n",
       "Beta(1,1) prior        15.757  0.946983         0      1    0.022923   \n",
       "Beta(0.5, 0.5) prior  15.9602   1.04865  0.203293      0  0.00178609   \n",
       "\n",
       "                            dse warning  \n",
       "Beta(1,1) prior               0       0  \n",
       "Beta(0.5, 0.5) prior  0.0211369       0  "
      ]
     },
     "execution_count": 56,
     "metadata": {},
     "output_type": "execute_result"
    }
   ],
   "source": [
    "cmp_df = az.compare({\n",
    "    \"Beta(1,1) prior\": trace_BF_q9a,\n",
    "    \"Beta(0.5, 0.5) prior\": trace_BF_q9b\n",
    "}, ic=\"waic\")\n",
    "cmp_df"
   ]
  },
  {
   "cell_type": "code",
   "execution_count": 57,
   "metadata": {},
   "outputs": [
    {
     "data": {
      "image/png": "[encoded data removed]",
      "text/plain": [
       "<Figure size 432x144 with 1 Axes>"
      ]
     },
     "metadata": {
      "needs_background": "light"
     },
     "output_type": "display_data"
    }
   ],
   "source": [
    "_ = az.plot_compare(cmp_df)"
   ]
  },
  {
   "cell_type": "markdown",
   "metadata": {},
   "source": [
    "## Question 10\n",
    "\n",
    "For the entropy example, change the q distribution. Try this with distributions like stats.binom(10, 0.5) and stats.binom(10, 0.25)."
   ]
  },
  {
   "cell_type": "code",
   "execution_count": 58,
   "metadata": {},
   "outputs": [
    {
     "data": {
      "text/plain": [
       "array([0, 1, 1, 1, 0, 0, 0, 0, 0, 1])"
      ]
     },
     "execution_count": 58,
     "metadata": {},
     "output_type": "execute_result"
    }
   ],
   "source": [
    "y = stats.binom(1, p=0.5).rvs(10)\n",
    "y"
   ]
  },
  {
   "cell_type": "code",
   "execution_count": 59,
   "metadata": {},
   "outputs": [
    {
     "name": "stderr",
     "output_type": "stream",
     "text": [
      "Auto-assigning NUTS sampler...\n",
      "Initializing NUTS using jitter+adapt_diag...\n",
      "Multiprocess sampling (4 chains in 4 jobs)\n",
      "NUTS: [θ]\n",
      "Sampling 4 chains: 100%|██████████| 22000/22000 [00:06<00:00, 3226.60draws/s]\n"
     ]
    }
   ],
   "source": [
    "with pm.Model() as model_BF_q10a:\n",
    "    θ = pm.Beta('θ', 1, 1)\n",
    "    y_pred = pm.Bernoulli('y_pred', θ, observed=y)\n",
    "    trace_BF_q9a = pm.sample(5000)"
   ]
  },
  {
   "cell_type": "code",
   "execution_count": 60,
   "metadata": {},
   "outputs": [
    {
     "name": "stderr",
     "output_type": "stream",
     "text": [
      "Auto-assigning NUTS sampler...\n",
      "Initializing NUTS using jitter+adapt_diag...\n",
      "Multiprocess sampling (4 chains in 4 jobs)\n",
      "NUTS: [θ]\n",
      "Sampling 4 chains: 100%|██████████| 22000/22000 [00:05<00:00, 3706.52draws/s]\n"
     ]
    }
   ],
   "source": [
    "with pm.Model() as model_BF_q10b:\n",
    "    θ = pm.Beta('θ', 0.5, 0.5)\n",
    "    y_pred = pm.Bernoulli('y_pred', θ, observed=y)\n",
    "    trace_BF_q9b = pm.sample(5000)"
   ]
  },
  {
   "cell_type": "code",
   "execution_count": 61,
   "metadata": {},
   "outputs": [
    {
     "data": {
      "text/plain": [
       "array([1, 0, 0, 0, 0, 0, 0, 0, 1, 1])"
      ]
     },
     "execution_count": 61,
     "metadata": {},
     "output_type": "execute_result"
    }
   ],
   "source": [
    "y = stats.binom(1, p=0.25).rvs(10)\n",
    "y"
   ]
  },
  {
   "cell_type": "code",
   "execution_count": 62,
   "metadata": {},
   "outputs": [
    {
     "name": "stderr",
     "output_type": "stream",
     "text": [
      "Auto-assigning NUTS sampler...\n",
      "Initializing NUTS using jitter+adapt_diag...\n",
      "Multiprocess sampling (4 chains in 4 jobs)\n",
      "NUTS: [θ]\n",
      "Sampling 4 chains: 100%|██████████| 22000/22000 [00:06<00:00, 3219.06draws/s]\n"
     ]
    }
   ],
   "source": [
    "with pm.Model() as model_BF_q10c:\n",
    "    θ = pm.Beta('θ', 1, 1)\n",
    "    y_pred = pm.Bernoulli('y_pred', θ, observed=y)\n",
    "    trace_BF_q9c = pm.sample(5000)"
   ]
  },
  {
   "cell_type": "code",
   "execution_count": 63,
   "metadata": {},
   "outputs": [
    {
     "name": "stderr",
     "output_type": "stream",
     "text": [
      "Auto-assigning NUTS sampler...\n",
      "Initializing NUTS using jitter+adapt_diag...\n",
      "Multiprocess sampling (4 chains in 4 jobs)\n",
      "NUTS: [θ]\n",
      "Sampling 4 chains: 100%|██████████| 22000/22000 [00:05<00:00, 3720.90draws/s]\n"
     ]
    }
   ],
   "source": [
    "with pm.Model() as model_BF_q10d:\n",
    "    θ = pm.Beta('θ', 0.5, 0.5)\n",
    "    y_pred = pm.Bernoulli('y_pred', θ, observed=y)\n",
    "    trace_BF_q9d = pm.sample(5000)"
   ]
  },
  {
   "cell_type": "code",
   "execution_count": 64,
   "metadata": {},
   "outputs": [
    {
     "data": {
      "text/html": [
       "<div>\n",
       "<style scoped>\n",
       "    .dataframe tbody tr th:only-of-type {\n",
       "        vertical-align: middle;\n",
       "    }\n",
       "\n",
       "    .dataframe tbody tr th {\n",
       "        vertical-align: top;\n",
       "    }\n",
       "\n",
       "    .dataframe thead th {\n",
       "        text-align: right;\n",
       "    }\n",
       "</style>\n",
       "<table border=\"1\" class=\"dataframe\">\n",
       "  <thead>\n",
       "    <tr style=\"text-align: right;\">\n",
       "      <th></th>\n",
       "      <th>waic</th>\n",
       "      <th>pwaic</th>\n",
       "      <th>dwaic</th>\n",
       "      <th>weight</th>\n",
       "      <th>se</th>\n",
       "      <th>dse</th>\n",
       "      <th>warning</th>\n",
       "    </tr>\n",
       "  </thead>\n",
       "  <tbody>\n",
       "    <tr>\n",
       "      <th>model_3</th>\n",
       "      <td>14.0809</td>\n",
       "      <td>0.906075</td>\n",
       "      <td>0</td>\n",
       "      <td>0.818914</td>\n",
       "      <td>2.43806</td>\n",
       "      <td>0</td>\n",
       "      <td>0</td>\n",
       "    </tr>\n",
       "    <tr>\n",
       "      <th>model_4</th>\n",
       "      <td>14.2958</td>\n",
       "      <td>1.03097</td>\n",
       "      <td>0.214824</td>\n",
       "      <td>7.45472e-17</td>\n",
       "      <td>2.73624</td>\n",
       "      <td>0.298178</td>\n",
       "      <td>0</td>\n",
       "    </tr>\n",
       "    <tr>\n",
       "      <th>model_1</th>\n",
       "      <td>15.3769</td>\n",
       "      <td>0.953842</td>\n",
       "      <td>1.29598</td>\n",
       "      <td>0.181086</td>\n",
       "      <td>1.28104</td>\n",
       "      <td>2.85336</td>\n",
       "      <td>0</td>\n",
       "    </tr>\n",
       "    <tr>\n",
       "      <th>model_2</th>\n",
       "      <td>15.5822</td>\n",
       "      <td>1.0598</td>\n",
       "      <td>1.50121</td>\n",
       "      <td>0</td>\n",
       "      <td>1.43187</td>\n",
       "      <td>2.93537</td>\n",
       "      <td>0</td>\n",
       "    </tr>\n",
       "  </tbody>\n",
       "</table>\n",
       "</div>"
      ],
      "text/plain": [
       "            waic     pwaic     dwaic       weight       se       dse warning\n",
       "model_3  14.0809  0.906075         0     0.818914  2.43806         0       0\n",
       "model_4  14.2958   1.03097  0.214824  7.45472e-17  2.73624  0.298178       0\n",
       "model_1  15.3769  0.953842   1.29598     0.181086  1.28104   2.85336       0\n",
       "model_2  15.5822    1.0598   1.50121            0  1.43187   2.93537       0"
      ]
     },
     "execution_count": 64,
     "metadata": {},
     "output_type": "execute_result"
    }
   ],
   "source": [
    "cmp_df = az.compare({\n",
    "    \"model_1\": trace_BF_q9a,\n",
    "    \"model_2\": trace_BF_q9b,\n",
    "    \"model_3\": trace_BF_q9c,\n",
    "    \"model_4\": trace_BF_q9d\n",
    "}, ic=\"waic\")\n",
    "cmp_df"
   ]
  },
  {
   "cell_type": "code",
   "execution_count": 65,
   "metadata": {},
   "outputs": [
    {
     "data": {
      "image/png": "[encoded data removed]",
      "text/plain": [
       "<Figure size 432x288 with 1 Axes>"
      ]
     },
     "metadata": {
      "needs_background": "light"
     },
     "output_type": "display_data"
    }
   ],
   "source": [
    "_ = az.plot_compare(cmp_df)"
   ]
  },
  {
   "cell_type": "code",
   "execution_count": null,
   "metadata": {},
   "outputs": [],
   "source": []
  }
 ],
 "metadata": {
  "kernelspec": {
   "display_name": "Python (BAP)",
   "language": "python",
   "name": "bap"
  },
  "language_info": {
   "codemirror_mode": {
    "name": "ipython",
    "version": 3
   },
   "file_extension": ".py",
   "mimetype": "text/x-python",
   "name": "python",
   "nbconvert_exporter": "python",
   "pygments_lexer": "ipython3",
   "version": "3.6.10"
  }
 },
 "nbformat": 4,
 "nbformat_minor": 4
}
