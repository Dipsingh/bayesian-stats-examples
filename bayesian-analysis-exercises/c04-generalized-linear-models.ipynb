{
 "cells": [
  {
   "cell_type": "code",
   "execution_count": 1,
   "metadata": {},
   "outputs": [],
   "source": [
    "import matplotlib.pyplot as plt\n",
    "import scipy.stats as stats\n",
    "import numpy as np\n",
    "import pandas as pd\n",
    "import seaborn as sns\n",
    "import pymc3 as pm\n",
    "import arviz as az\n",
    "import warnings\n",
    "\n",
    "from scipy.special import expit\n",
    "\n",
    "%matplotlib inline"
   ]
  },
  {
   "cell_type": "code",
   "execution_count": 2,
   "metadata": {},
   "outputs": [],
   "source": [
    "warnings.filterwarnings(\"ignore\")"
   ]
  },
  {
   "cell_type": "markdown",
   "metadata": {},
   "source": [
    "## Question 1\n",
    "\n",
    "Rerun the first model using the petal length and then petal width variables. What are the main differences in the results? How wide or narrow is the 95% HPD interval in each case?\n",
    "\n",
    "<p><font color=\"blue\">\n",
    "    <p>Model that uses `petal_length` produces a wider 94% HPD interval than the one that uses `petal_width` for predicting `species`, 95% HPD intervals are 1.01 and 0.344 respectively.</p>\n",
    "</font></p>"
   ]
  },
  {
   "cell_type": "code",
   "execution_count": 3,
   "metadata": {},
   "outputs": [
    {
     "data": {
      "text/html": [
       "<div>\n",
       "<style scoped>\n",
       "    .dataframe tbody tr th:only-of-type {\n",
       "        vertical-align: middle;\n",
       "    }\n",
       "\n",
       "    .dataframe tbody tr th {\n",
       "        vertical-align: top;\n",
       "    }\n",
       "\n",
       "    .dataframe thead th {\n",
       "        text-align: right;\n",
       "    }\n",
       "</style>\n",
       "<table border=\"1\" class=\"dataframe\">\n",
       "  <thead>\n",
       "    <tr style=\"text-align: right;\">\n",
       "      <th></th>\n",
       "      <th>sepal_length</th>\n",
       "      <th>sepal_width</th>\n",
       "      <th>petal_length</th>\n",
       "      <th>petal_width</th>\n",
       "      <th>species</th>\n",
       "    </tr>\n",
       "  </thead>\n",
       "  <tbody>\n",
       "    <tr>\n",
       "      <th>0</th>\n",
       "      <td>5.1</td>\n",
       "      <td>3.5</td>\n",
       "      <td>1.4</td>\n",
       "      <td>0.2</td>\n",
       "      <td>setosa</td>\n",
       "    </tr>\n",
       "    <tr>\n",
       "      <th>1</th>\n",
       "      <td>4.9</td>\n",
       "      <td>3.0</td>\n",
       "      <td>1.4</td>\n",
       "      <td>0.2</td>\n",
       "      <td>setosa</td>\n",
       "    </tr>\n",
       "    <tr>\n",
       "      <th>2</th>\n",
       "      <td>4.7</td>\n",
       "      <td>3.2</td>\n",
       "      <td>1.3</td>\n",
       "      <td>0.2</td>\n",
       "      <td>setosa</td>\n",
       "    </tr>\n",
       "    <tr>\n",
       "      <th>3</th>\n",
       "      <td>4.6</td>\n",
       "      <td>3.1</td>\n",
       "      <td>1.5</td>\n",
       "      <td>0.2</td>\n",
       "      <td>setosa</td>\n",
       "    </tr>\n",
       "    <tr>\n",
       "      <th>4</th>\n",
       "      <td>5.0</td>\n",
       "      <td>3.6</td>\n",
       "      <td>1.4</td>\n",
       "      <td>0.2</td>\n",
       "      <td>setosa</td>\n",
       "    </tr>\n",
       "  </tbody>\n",
       "</table>\n",
       "</div>"
      ],
      "text/plain": [
       "   sepal_length  sepal_width  petal_length  petal_width species\n",
       "0           5.1          3.5           1.4          0.2  setosa\n",
       "1           4.9          3.0           1.4          0.2  setosa\n",
       "2           4.7          3.2           1.3          0.2  setosa\n",
       "3           4.6          3.1           1.5          0.2  setosa\n",
       "4           5.0          3.6           1.4          0.2  setosa"
      ]
     },
     "execution_count": 3,
     "metadata": {},
     "output_type": "execute_result"
    }
   ],
   "source": [
    "iris = pd.read_csv(\"../BAP/code/data/iris.csv\")\n",
    "iris.head()"
   ]
  },
  {
   "cell_type": "code",
   "execution_count": 4,
   "metadata": {},
   "outputs": [
    {
     "data": {
      "text/plain": [
       "((100, 2), (100,))"
      ]
     },
     "execution_count": 4,
     "metadata": {},
     "output_type": "execute_result"
    }
   ],
   "source": [
    "iris_df = iris.query(\"species == ('setosa', 'versicolor')\")\n",
    "\n",
    "y = pd.Categorical(iris_df['species']).codes\n",
    "X = iris_df[[\"petal_length\", \"petal_width\"]].values\n",
    "Xc = X - np.mean(X, axis=0)\n",
    "Xc.shape, y.shape"
   ]
  },
  {
   "cell_type": "code",
   "execution_count": 5,
   "metadata": {},
   "outputs": [
    {
     "name": "stderr",
     "output_type": "stream",
     "text": [
      "Auto-assigning NUTS sampler...\n",
      "Initializing NUTS using jitter+adapt_diag...\n",
      "Multiprocess sampling (4 chains in 4 jobs)\n",
      "NUTS: [β, α]\n",
      "Sampling 4 chains: 100%|██████████| 6000/6000 [00:02<00:00, 2999.68draws/s]\n",
      "There were 22 divergences after tuning. Increase `target_accept` or reparameterize.\n",
      "There were 14 divergences after tuning. Increase `target_accept` or reparameterize.\n",
      "There were 40 divergences after tuning. Increase `target_accept` or reparameterize.\n",
      "There were 23 divergences after tuning. Increase `target_accept` or reparameterize.\n",
      "The number of effective samples is smaller than 25% for some parameters.\n"
     ]
    }
   ],
   "source": [
    "with pm.Model() as model_q1a:\n",
    "    α = pm.Normal('α', mu=0, sd=10)\n",
    "    β = pm.Normal('β', mu=0, sd=10)\n",
    "    μ = α + pm.math.dot(Xc[:, 0], β)\n",
    "    θ = pm.Deterministic('θ', pm.math.sigmoid(μ))\n",
    "    bd = pm.Deterministic('bd', -α/β)\n",
    "    y_pred = pm.Bernoulli('y_pred', p=θ, observed=y)\n",
    "    trace_q1a = pm.sample(1000)"
   ]
  },
  {
   "cell_type": "code",
   "execution_count": 6,
   "metadata": {},
   "outputs": [
    {
     "data": {
      "text/plain": [
       "(array([-0.84927948,  0.18407235]), 1.0333518317540684)"
      ]
     },
     "execution_count": 6,
     "metadata": {},
     "output_type": "execute_result"
    }
   ],
   "source": [
    "hpd = az.stats.hpd(trace_q1a[\"bd\"], credible_interval=0.95)\n",
    "hpd_intvl = hpd[1] - hpd[0]\n",
    "hpd, hpd_intvl"
   ]
  },
  {
   "cell_type": "code",
   "execution_count": 7,
   "metadata": {},
   "outputs": [
    {
     "name": "stderr",
     "output_type": "stream",
     "text": [
      "Auto-assigning NUTS sampler...\n",
      "Initializing NUTS using jitter+adapt_diag...\n",
      "Multiprocess sampling (4 chains in 4 jobs)\n",
      "NUTS: [β, α]\n",
      "Sampling 4 chains: 100%|██████████| 6000/6000 [00:01<00:00, 3488.38draws/s]\n",
      "The acceptance probability does not match the target. It is 0.8861845106371918, but should be close to 0.8. Try to increase the number of tuning steps.\n",
      "There were 3 divergences after tuning. Increase `target_accept` or reparameterize.\n",
      "There were 2 divergences after tuning. Increase `target_accept` or reparameterize.\n",
      "There were 3 divergences after tuning. Increase `target_accept` or reparameterize.\n",
      "The number of effective samples is smaller than 25% for some parameters.\n"
     ]
    }
   ],
   "source": [
    "with pm.Model() as model_q1b:\n",
    "    α = pm.Normal('α', mu=0, sd=10)\n",
    "    β = pm.Normal('β', mu=0, sd=10)\n",
    "    μ = α + pm.math.dot(Xc[:, 1], β)\n",
    "    θ = pm.Deterministic('θ', pm.math.sigmoid(μ))\n",
    "    bd = pm.Deterministic('bd', -α/β)\n",
    "    y_pred = pm.Bernoulli('y_pred', p=θ, observed=y)\n",
    "    trace_q1b = pm.sample(1000)"
   ]
  },
  {
   "cell_type": "code",
   "execution_count": 8,
   "metadata": {},
   "outputs": [
    {
     "data": {
      "text/plain": [
       "(array([-0.19751128,  0.13890003]), 0.33641130952184317)"
      ]
     },
     "execution_count": 8,
     "metadata": {},
     "output_type": "execute_result"
    }
   ],
   "source": [
    "hpd = az.stats.hpd(trace_q1b[\"bd\"], credible_interval=0.95)\n",
    "hpd_intvl = hpd[1] - hpd[0]\n",
    "hpd, hpd_intvl"
   ]
  },
  {
   "cell_type": "markdown",
   "metadata": {},
   "source": [
    "## Question 2\n",
    "\n",
    "Repeat exercise 1, this time using a Student's t-distribution as a weakly informative prior. Try different values of $\\nu$.\n",
    "\n",
    "<p><font color=\"blue\">\n",
    "    <p>Results are not very different when switching out the Gaussian prior for $\\beta$ with a Student-T distribution -- the `petal_length` feature still results in a larger HPD compared to the `petal_width` feature. Different value of $\\nu$ does not result in lot of difference in HPD spreads either.</p>\n",
    "    <p><table cellspacing=0 cellpadding=0 border=1>\n",
    "        <tr>\n",
    "            <th>X</th>\n",
    "            <th>nu</th>\n",
    "            <th>HPD-lb</th>\n",
    "            <th>HPD-ub</th>\n",
    "            <th>HPD-intvl</th>\n",
    "        </tr>\n",
    "        <tr>\n",
    "            <td>petal_length</td>\n",
    "            <td>30</td>\n",
    "            <td>-0.81</td>\n",
    "            <td>0.20</td>\n",
    "            <td>1.02</td>\n",
    "        </tr>\n",
    "        <tr>\n",
    "            <td>petal_width</td>\n",
    "            <td></td>\n",
    "            <td>-0.21</td>\n",
    "            <td>0.13</td>\n",
    "            <td>0.34</td>\n",
    "        </tr>\n",
    "        <tr>\n",
    "            <td>petal_length</td>\n",
    "            <td>10</td>\n",
    "            <td>-0.82</td>\n",
    "            <td>0.19</td>\n",
    "            <td>1.01</td>\n",
    "        </tr>\n",
    "        <tr>\n",
    "            <td>petal_width</td>\n",
    "            <td></td>\n",
    "            <td>-0.21</td>\n",
    "            <td>0.13</td>\n",
    "            <td>0.34</td>\n",
    "        </tr>\n",
    "        <tr>\n",
    "            <td>petal_length</td>\n",
    "            <td>10</td>\n",
    "            <td>-0.84</td>\n",
    "            <td>0.17</td>\n",
    "            <td>1.02</td>\n",
    "        </tr>\n",
    "        <tr>\n",
    "            <td>petal_width</td>\n",
    "            <td></td>\n",
    "            <td>-0.21</td>\n",
    "            <td>0.14</td>\n",
    "            <td>0.35</td>\n",
    "        </tr>\n",
    "    </table></p>\n",
    "</font>\n",
    "</p>"
   ]
  },
  {
   "cell_type": "code",
   "execution_count": 9,
   "metadata": {},
   "outputs": [
    {
     "name": "stderr",
     "output_type": "stream",
     "text": [
      "Auto-assigning NUTS sampler...\n",
      "Initializing NUTS using jitter+adapt_diag...\n",
      "Multiprocess sampling (4 chains in 4 jobs)\n",
      "NUTS: [β, α]\n",
      "Sampling 4 chains: 100%|██████████| 6000/6000 [00:02<00:00, 2998.20draws/s]\n",
      "There were 20 divergences after tuning. Increase `target_accept` or reparameterize.\n",
      "There were 17 divergences after tuning. Increase `target_accept` or reparameterize.\n",
      "There were 33 divergences after tuning. Increase `target_accept` or reparameterize.\n",
      "There were 35 divergences after tuning. Increase `target_accept` or reparameterize.\n",
      "The number of effective samples is smaller than 25% for some parameters.\n"
     ]
    }
   ],
   "source": [
    "with pm.Model() as model_q2a:\n",
    "    α = pm.Normal('α', mu=0, sd=10)\n",
    "    β = pm.StudentT('β', mu=0, sd=10, nu=30)\n",
    "    μ = α + pm.math.dot(Xc[:, 0], β)\n",
    "    θ = pm.Deterministic('θ', pm.math.sigmoid(μ))\n",
    "    bd = pm.Deterministic('bd', -α/β)\n",
    "    y_pred = pm.Bernoulli('y_pred', p=θ, observed=y)\n",
    "    trace_q2a = pm.sample(1000)"
   ]
  },
  {
   "cell_type": "code",
   "execution_count": 10,
   "metadata": {},
   "outputs": [
    {
     "data": {
      "text/plain": [
       "(array([-0.82996841,  0.201246  ]), 1.031214409854596)"
      ]
     },
     "execution_count": 10,
     "metadata": {},
     "output_type": "execute_result"
    }
   ],
   "source": [
    "hpd = az.stats.hpd(trace_q2a[\"bd\"], credible_interval=0.95)\n",
    "hpd_intvl = hpd[1] - hpd[0]\n",
    "hpd, hpd_intvl"
   ]
  },
  {
   "cell_type": "code",
   "execution_count": 11,
   "metadata": {},
   "outputs": [
    {
     "name": "stderr",
     "output_type": "stream",
     "text": [
      "Auto-assigning NUTS sampler...\n",
      "Initializing NUTS using jitter+adapt_diag...\n",
      "Multiprocess sampling (4 chains in 4 jobs)\n",
      "NUTS: [β, α]\n",
      "Sampling 4 chains: 100%|██████████| 6000/6000 [00:01<00:00, 3510.10draws/s]\n",
      "There was 1 divergence after tuning. Increase `target_accept` or reparameterize.\n",
      "The acceptance probability does not match the target. It is 0.8793340525497708, but should be close to 0.8. Try to increase the number of tuning steps.\n",
      "The number of effective samples is smaller than 25% for some parameters.\n"
     ]
    }
   ],
   "source": [
    "with pm.Model() as model_q2b:\n",
    "    α = pm.Normal('α', mu=0, sd=10)\n",
    "    β = pm.StudentT('β', mu=0, sd=10, nu=30)\n",
    "    μ = α + pm.math.dot(Xc[:, 1], β)\n",
    "    θ = pm.Deterministic('θ', pm.math.sigmoid(μ))\n",
    "    bd = pm.Deterministic('bd', -α/β)\n",
    "    y_pred = pm.Bernoulli('y_pred', p=θ, observed=y)\n",
    "    trace_q2b = pm.sample(1000)"
   ]
  },
  {
   "cell_type": "code",
   "execution_count": 12,
   "metadata": {},
   "outputs": [
    {
     "data": {
      "text/plain": [
       "(array([-0.21755996,  0.12959487]), 0.3471548249681454)"
      ]
     },
     "execution_count": 12,
     "metadata": {},
     "output_type": "execute_result"
    }
   ],
   "source": [
    "hpd = az.stats.hpd(trace_q2b[\"bd\"], credible_interval=0.95)\n",
    "hpd_intvl = hpd[1] - hpd[0]\n",
    "hpd, hpd_intvl"
   ]
  },
  {
   "cell_type": "code",
   "execution_count": 13,
   "metadata": {},
   "outputs": [
    {
     "name": "stderr",
     "output_type": "stream",
     "text": [
      "Auto-assigning NUTS sampler...\n",
      "Initializing NUTS using jitter+adapt_diag...\n",
      "Multiprocess sampling (4 chains in 4 jobs)\n",
      "NUTS: [β, α]\n",
      "Sampling 4 chains: 100%|██████████| 6000/6000 [00:02<00:00, 2731.75draws/s]\n",
      "There were 17 divergences after tuning. Increase `target_accept` or reparameterize.\n",
      "There were 12 divergences after tuning. Increase `target_accept` or reparameterize.\n",
      "There were 17 divergences after tuning. Increase `target_accept` or reparameterize.\n",
      "There were 31 divergences after tuning. Increase `target_accept` or reparameterize.\n",
      "The number of effective samples is smaller than 25% for some parameters.\n"
     ]
    }
   ],
   "source": [
    "with pm.Model() as model_q2a:\n",
    "    α = pm.Normal('α', mu=0, sd=10)\n",
    "    β = pm.StudentT('β', mu=0, sd=10, nu=10)\n",
    "    μ = α + pm.math.dot(Xc[:, 0], β)\n",
    "    θ = pm.Deterministic('θ', pm.math.sigmoid(μ))\n",
    "    bd = pm.Deterministic('bd', -α/β)\n",
    "    y_pred = pm.Bernoulli('y_pred', p=θ, observed=y)\n",
    "    trace_q2a = pm.sample(1000)"
   ]
  },
  {
   "cell_type": "code",
   "execution_count": 14,
   "metadata": {},
   "outputs": [
    {
     "data": {
      "text/plain": [
       "(array([-0.79544804,  0.20841241]), 1.0038604462889793)"
      ]
     },
     "execution_count": 14,
     "metadata": {},
     "output_type": "execute_result"
    }
   ],
   "source": [
    "hpd = az.stats.hpd(trace_q2a[\"bd\"], credible_interval=0.95)\n",
    "hpd_intvl = hpd[1] - hpd[0]\n",
    "hpd, hpd_intvl"
   ]
  },
  {
   "cell_type": "code",
   "execution_count": 15,
   "metadata": {},
   "outputs": [
    {
     "name": "stderr",
     "output_type": "stream",
     "text": [
      "Auto-assigning NUTS sampler...\n",
      "Initializing NUTS using jitter+adapt_diag...\n",
      "Multiprocess sampling (4 chains in 4 jobs)\n",
      "NUTS: [β, α]\n",
      "Sampling 4 chains: 100%|██████████| 6000/6000 [00:01<00:00, 3337.94draws/s]\n",
      "There were 16 divergences after tuning. Increase `target_accept` or reparameterize.\n",
      "The acceptance probability does not match the target. It is 0.7156194484998349, but should be close to 0.8. Try to increase the number of tuning steps.\n",
      "There were 2 divergences after tuning. Increase `target_accept` or reparameterize.\n",
      "The acceptance probability does not match the target. It is 0.9011118528476516, but should be close to 0.8. Try to increase the number of tuning steps.\n",
      "There were 5 divergences after tuning. Increase `target_accept` or reparameterize.\n",
      "The number of effective samples is smaller than 25% for some parameters.\n"
     ]
    }
   ],
   "source": [
    "with pm.Model() as model_q2b:\n",
    "    α = pm.Normal('α', mu=0, sd=10)\n",
    "    β = pm.StudentT('β', mu=0, sd=10, nu=10)\n",
    "    μ = α + pm.math.dot(Xc[:, 1], β)\n",
    "    θ = pm.Deterministic('θ', pm.math.sigmoid(μ))\n",
    "    bd = pm.Deterministic('bd', -α/β)\n",
    "    y_pred = pm.Bernoulli('y_pred', p=θ, observed=y)\n",
    "    trace_q2b = pm.sample(1000)"
   ]
  },
  {
   "cell_type": "code",
   "execution_count": 16,
   "metadata": {},
   "outputs": [
    {
     "data": {
      "text/plain": [
       "(array([-0.21056258,  0.13998409]), 0.350546673599186)"
      ]
     },
     "execution_count": 16,
     "metadata": {},
     "output_type": "execute_result"
    }
   ],
   "source": [
    "hpd = az.stats.hpd(trace_q2b[\"bd\"], credible_interval=0.95)\n",
    "hpd_intvl = hpd[1] - hpd[0]\n",
    "hpd, hpd_intvl"
   ]
  },
  {
   "cell_type": "code",
   "execution_count": 17,
   "metadata": {},
   "outputs": [
    {
     "name": "stderr",
     "output_type": "stream",
     "text": [
      "Auto-assigning NUTS sampler...\n",
      "Initializing NUTS using jitter+adapt_diag...\n",
      "Multiprocess sampling (4 chains in 4 jobs)\n",
      "NUTS: [β, α]\n",
      "Sampling 4 chains: 100%|██████████| 6000/6000 [00:02<00:00, 2985.22draws/s]\n",
      "There were 29 divergences after tuning. Increase `target_accept` or reparameterize.\n",
      "There were 22 divergences after tuning. Increase `target_accept` or reparameterize.\n",
      "There were 34 divergences after tuning. Increase `target_accept` or reparameterize.\n",
      "There were 14 divergences after tuning. Increase `target_accept` or reparameterize.\n",
      "The number of effective samples is smaller than 25% for some parameters.\n"
     ]
    }
   ],
   "source": [
    "with pm.Model() as model_q2a:\n",
    "    α = pm.Normal('α', mu=0, sd=10)\n",
    "    β = pm.StudentT('β', mu=0, sd=10, nu=100)\n",
    "    μ = α + pm.math.dot(Xc[:, 0], β)\n",
    "    θ = pm.Deterministic('θ', pm.math.sigmoid(μ))\n",
    "    bd = pm.Deterministic('bd', -α/β)\n",
    "    y_pred = pm.Bernoulli('y_pred', p=θ, observed=y)\n",
    "    trace_q2a = pm.sample(1000)"
   ]
  },
  {
   "cell_type": "code",
   "execution_count": 18,
   "metadata": {},
   "outputs": [
    {
     "data": {
      "text/plain": [
       "(array([-0.81069776,  0.19179279]), 1.0024905498145742)"
      ]
     },
     "execution_count": 18,
     "metadata": {},
     "output_type": "execute_result"
    }
   ],
   "source": [
    "hpd = az.stats.hpd(trace_q2a[\"bd\"], credible_interval=0.95)\n",
    "hpd_intvl = hpd[1] - hpd[0]\n",
    "hpd, hpd_intvl"
   ]
  },
  {
   "cell_type": "code",
   "execution_count": 19,
   "metadata": {},
   "outputs": [
    {
     "name": "stderr",
     "output_type": "stream",
     "text": [
      "Auto-assigning NUTS sampler...\n",
      "Initializing NUTS using jitter+adapt_diag...\n",
      "Multiprocess sampling (4 chains in 4 jobs)\n",
      "NUTS: [β, α]\n",
      "Sampling 4 chains: 100%|██████████| 6000/6000 [00:01<00:00, 3372.33draws/s]\n",
      "There were 2 divergences after tuning. Increase `target_accept` or reparameterize.\n",
      "There were 2 divergences after tuning. Increase `target_accept` or reparameterize.\n"
     ]
    }
   ],
   "source": [
    "with pm.Model() as model_q2b:\n",
    "    α = pm.Normal('α', mu=0, sd=10)\n",
    "    β = pm.StudentT('β', mu=0, sd=10, nu=100)\n",
    "    μ = α + pm.math.dot(Xc[:, 1], β)\n",
    "    θ = pm.Deterministic('θ', pm.math.sigmoid(μ))\n",
    "    bd = pm.Deterministic('bd', -α/β)\n",
    "    y_pred = pm.Bernoulli('y_pred', p=θ, observed=y)\n",
    "    trace_q2b = pm.sample(1000)"
   ]
  },
  {
   "cell_type": "code",
   "execution_count": 20,
   "metadata": {},
   "outputs": [
    {
     "data": {
      "text/plain": [
       "(array([-0.2007389 ,  0.13520682]), 0.33594572241382276)"
      ]
     },
     "execution_count": 20,
     "metadata": {},
     "output_type": "execute_result"
    }
   ],
   "source": [
    "hpd = az.stats.hpd(trace_q2b[\"bd\"], credible_interval=0.95)\n",
    "hpd_intvl = hpd[1] - hpd[0]\n",
    "hpd, hpd_intvl"
   ]
  },
  {
   "cell_type": "markdown",
   "metadata": {},
   "source": [
    "## Question 3\n",
    "\n",
    "Go back to the first example, the logistic regression for classifying setosa or versicolor given sepal length. Try to solve the same problem using a simple linear regression model, as we saw in Chapter 3, Modeling with Linear Regression. How useful is linear regression compared to logistic regression? Can the result be interpreted as a probability? Tip, check whether the values of y are restricted to the \\[0, 1\\] interval.\n",
    "\n",
    "<p><font color=\"blue\">The predicted values of y_pred fall outside the range [0, 1] so they cannot be interpreted as probability.</font></p>"
   ]
  },
  {
   "cell_type": "code",
   "execution_count": 21,
   "metadata": {},
   "outputs": [
    {
     "data": {
      "text/plain": [
       "((100,), (100,))"
      ]
     },
     "execution_count": 21,
     "metadata": {},
     "output_type": "execute_result"
    }
   ],
   "source": [
    "y = pd.Categorical(iris_df['species']).codes\n",
    "x = iris_df[[\"sepal_length\"]].values\n",
    "xc = x - np.mean(x, axis=0)\n",
    "xc[:,0].shape, y.shape"
   ]
  },
  {
   "cell_type": "code",
   "execution_count": 22,
   "metadata": {},
   "outputs": [
    {
     "name": "stderr",
     "output_type": "stream",
     "text": [
      "Auto-assigning NUTS sampler...\n",
      "Initializing NUTS using jitter+adapt_diag...\n",
      "Multiprocess sampling (4 chains in 4 jobs)\n",
      "NUTS: [ϵ, β, α]\n",
      "Sampling 4 chains: 100%|██████████| 6000/6000 [00:01<00:00, 3675.79draws/s]\n"
     ]
    }
   ],
   "source": [
    "with pm.Model() as model_q3:\n",
    "    α = pm.Normal('α', mu=0, sd=10)\n",
    "    β = pm.Normal('β', mu=0, sd=10)\n",
    "    ϵ = pm.HalfCauchy('ϵ', 5)\n",
    "    μ = pm.Deterministic(\"μ\", α + β * xc[:, 0])\n",
    "    y_pred = pm.Normal('y_pred', mu=μ, sd=ϵ, observed=y)\n",
    "#     θ = pm.Deterministic(\"θ\", α + β * Xc[:, 0])\n",
    "#     y_pred = pm.Bernoulli(\"y_pred\", p=pm.math.invlogit(θ), observed=y)\n",
    "    trace_q3 = pm.sample(1000)"
   ]
  },
  {
   "cell_type": "code",
   "execution_count": 23,
   "metadata": {},
   "outputs": [
    {
     "name": "stderr",
     "output_type": "stream",
     "text": [
      "100%|██████████| 100/100 [00:00<00:00, 1149.23it/s]\n"
     ]
    },
    {
     "data": {
      "text/plain": [
       "(-1.422427296550224, 2.415126618529802)"
      ]
     },
     "execution_count": 23,
     "metadata": {},
     "output_type": "execute_result"
    }
   ],
   "source": [
    "spp_q3 = pm.sample_posterior_predictive(trace_q3, 100, model_q3)\n",
    "y_pred = spp_q3[\"y_pred\"].reshape(-1, 1)\n",
    "np.min(y_pred), np.max(y_pred)"
   ]
  },
  {
   "cell_type": "markdown",
   "metadata": {},
   "source": [
    "## Question 4\n",
    "\n",
    "In the example from the Interpreting the coefficients of a logistic regression section, we changed sepal_length by 1 unit. Using Figure 4.6, corroborate that the value of log_odds_versicolor_i corresponds to the value of\n",
    "probability_versicolor_i. Do the same for log_odds_versicolor_f and probability_versicolor_f. Just by noting log_odds_versicolor_i is negative, what can you say about the probability? Use Figure 4.6 to help you. Is\n",
    "this result clear to you from the definition of log-odds?"
   ]
  },
  {
   "cell_type": "code",
   "execution_count": 24,
   "metadata": {},
   "outputs": [
    {
     "data": {
      "text/plain": [
       "((100, 2), (100,))"
      ]
     },
     "execution_count": 24,
     "metadata": {},
     "output_type": "execute_result"
    }
   ],
   "source": [
    "y = pd.Categorical(iris_df['species']).codes\n",
    "X = iris_df[[\"sepal_length\", \"sepal_width\"]].values\n",
    "Xc = X - np.mean(X, axis=0)\n",
    "Xc.shape, y.shape"
   ]
  },
  {
   "cell_type": "code",
   "execution_count": 25,
   "metadata": {},
   "outputs": [
    {
     "name": "stderr",
     "output_type": "stream",
     "text": [
      "Auto-assigning NUTS sampler...\n",
      "Initializing NUTS using jitter+adapt_diag...\n",
      "Multiprocess sampling (4 chains in 4 jobs)\n",
      "NUTS: [β, α]\n",
      "Sampling 4 chains: 100%|██████████| 10000/10000 [00:02<00:00, 3350.03draws/s]\n"
     ]
    }
   ],
   "source": [
    "with pm.Model() as model_q4:\n",
    "    α = pm.Normal('α', mu=0, sd=10)\n",
    "    β = pm.Normal('β', mu=0, sd=2, shape=2)\n",
    "    μ = α + pm.math.dot(Xc, β)\n",
    "    θ = pm.Deterministic('θ', 1 / (1 + pm.math.exp(-μ)))\n",
    "    y_pred = pm.Bernoulli('y_pred', p=θ, observed=y)\n",
    "    trace_q4 = pm.sample(2000)"
   ]
  },
  {
   "cell_type": "code",
   "execution_count": 26,
   "metadata": {},
   "outputs": [
    {
     "data": {
      "text/html": [
       "<div>\n",
       "<style scoped>\n",
       "    .dataframe tbody tr th:only-of-type {\n",
       "        vertical-align: middle;\n",
       "    }\n",
       "\n",
       "    .dataframe tbody tr th {\n",
       "        vertical-align: top;\n",
       "    }\n",
       "\n",
       "    .dataframe thead th {\n",
       "        text-align: right;\n",
       "    }\n",
       "</style>\n",
       "<table border=\"1\" class=\"dataframe\">\n",
       "  <thead>\n",
       "    <tr style=\"text-align: right;\">\n",
       "      <th></th>\n",
       "      <th>mean</th>\n",
       "      <th>sd</th>\n",
       "      <th>mc error</th>\n",
       "      <th>hpd 3%</th>\n",
       "      <th>hpd 97%</th>\n",
       "      <th>eff_n</th>\n",
       "      <th>r_hat</th>\n",
       "    </tr>\n",
       "  </thead>\n",
       "  <tbody>\n",
       "    <tr>\n",
       "      <th>α</th>\n",
       "      <td>0.39</td>\n",
       "      <td>0.50</td>\n",
       "      <td>0.01</td>\n",
       "      <td>-0.53</td>\n",
       "      <td>1.34</td>\n",
       "      <td>6366.0</td>\n",
       "      <td>1.0</td>\n",
       "    </tr>\n",
       "    <tr>\n",
       "      <th>β[0]</th>\n",
       "      <td>5.08</td>\n",
       "      <td>1.01</td>\n",
       "      <td>0.01</td>\n",
       "      <td>3.26</td>\n",
       "      <td>7.04</td>\n",
       "      <td>5837.0</td>\n",
       "      <td>1.0</td>\n",
       "    </tr>\n",
       "    <tr>\n",
       "      <th>β[1]</th>\n",
       "      <td>-5.06</td>\n",
       "      <td>0.99</td>\n",
       "      <td>0.02</td>\n",
       "      <td>-6.87</td>\n",
       "      <td>-3.19</td>\n",
       "      <td>6804.0</td>\n",
       "      <td>1.0</td>\n",
       "    </tr>\n",
       "  </tbody>\n",
       "</table>\n",
       "</div>"
      ],
      "text/plain": [
       "      mean    sd  mc error  hpd 3%  hpd 97%   eff_n  r_hat\n",
       "α     0.39  0.50      0.01   -0.53     1.34  6366.0    1.0\n",
       "β[0]  5.08  1.01      0.01    3.26     7.04  5837.0    1.0\n",
       "β[1] -5.06  0.99      0.02   -6.87    -3.19  6804.0    1.0"
      ]
     },
     "execution_count": 26,
     "metadata": {},
     "output_type": "execute_result"
    }
   ],
   "source": [
    "az.summary(trace_q4, var_names=[\"α\", \"β\"])"
   ]
  },
  {
   "cell_type": "code",
   "execution_count": 27,
   "metadata": {},
   "outputs": [
    {
     "name": "stdout",
     "output_type": "stream",
     "text": [
      "log_odds   : initial: 8.070, final: 13.150\n",
      "proba      : initial: 1.000, final: 1.000\n",
      "difference : log_odds(5.080) => proba(0.000311)\n"
     ]
    }
   ],
   "source": [
    "coeffs = az.summary(trace_q4, var_names=[\"α\", \"β\"])[\"mean\"].values\n",
    "\n",
    "# initial values for (const, sepal_length, sepal_width), \n",
    "# increasing sepal_length by 1\n",
    "feats_i = [1, 4.5, 3]\n",
    "feats_f = [1, 5.5, 3]\n",
    "\n",
    "logit_i = (coeffs * feats_i).sum()\n",
    "logit_f = (coeffs * feats_f).sum()\n",
    "\n",
    "proba_i = expit(logit_i)\n",
    "proba_f = expit(logit_f)\n",
    "\n",
    "print(\"log_odds   : initial: {:.3f}, final: {:.3f}\".format(logit_i, logit_f))\n",
    "print(\"proba      : initial: {:.3f}, final: {:.3f}\".format(proba_i, proba_f))\n",
    "print(\"difference : log_odds({:.3f}) => proba({:3f})\".format(logit_f - logit_i,\n",
    "                                                             proba_f - proba_i))"
   ]
  },
  {
   "cell_type": "markdown",
   "metadata": {},
   "source": [
    "## Question 5\n",
    "\n",
    "Use the same example from the previous exercise. For model_1, check how much the log-odds change when increasing sepal_length from 5.5 to 6.5 (spoiler: it should be $\\beta$\\[0\\]). How much does the probability change? How does this increase compare to when we increase from 4.5 to 5.5?"
   ]
  },
  {
   "cell_type": "code",
   "execution_count": 28,
   "metadata": {},
   "outputs": [
    {
     "name": "stdout",
     "output_type": "stream",
     "text": [
      "difference : log_odds(5.080) => proba(0.003810)\n"
     ]
    }
   ],
   "source": [
    "feats_i = [1, 5.5, 4.5]\n",
    "feats_f = [1, 6.5, 4.5]\n",
    "\n",
    "logit_i = (coeffs * feats_i).sum()\n",
    "logit_f = (coeffs * feats_f).sum()\n",
    "\n",
    "proba_i = expit(logit_i)\n",
    "proba_f = expit(logit_f)\n",
    "\n",
    "print(\"difference : log_odds({:.3f}) => proba({:3f})\".format(logit_f - logit_i,\n",
    "                                                             proba_f - proba_i))"
   ]
  },
  {
   "cell_type": "markdown",
   "metadata": {},
   "source": [
    "## Question 6\n",
    "\n",
    "In the example for dealing with unbalanced data, change df = df[45:] to df = df[22:78]. This will keep roughly the same number of data points, but now the classes will be balanced. Compare the new result with the previous ones. Which one is more similar to the example using the complete dataset?\n",
    "\n",
    "<p><font color=\"blue\">\n",
    "    <p>Result is more similar to the plot for the complete dataset (figure 4.5) than the df[45:] example (figure 4.8).</p>\n",
    "</font></p>"
   ]
  },
  {
   "cell_type": "code",
   "execution_count": 29,
   "metadata": {},
   "outputs": [
    {
     "data": {
      "text/plain": [
       "((56, 2), (56,))"
      ]
     },
     "execution_count": 29,
     "metadata": {},
     "output_type": "execute_result"
    }
   ],
   "source": [
    "iris_df = iris.query(\"species == ('setosa', 'versicolor')\")\n",
    "iris_df = iris_df[22:78]\n",
    "y = pd.Categorical(iris_df['species']).codes\n",
    "colnames = ['sepal_length', 'sepal_width']\n",
    "X = iris_df[colnames].values\n",
    "\n",
    "X.shape, y.shape"
   ]
  },
  {
   "cell_type": "code",
   "execution_count": 30,
   "metadata": {},
   "outputs": [
    {
     "name": "stderr",
     "output_type": "stream",
     "text": [
      "Auto-assigning NUTS sampler...\n",
      "Initializing NUTS using jitter+adapt_diag...\n",
      "Multiprocess sampling (4 chains in 4 jobs)\n",
      "NUTS: [β, α]\n",
      "Sampling 4 chains: 100%|██████████| 6000/6000 [00:07<00:00, 773.57draws/s]\n",
      "The acceptance probability does not match the target. It is 0.8791503932749339, but should be close to 0.8. Try to increase the number of tuning steps.\n"
     ]
    }
   ],
   "source": [
    "with pm.Model() as model_q6:\n",
    "    α = pm.Normal('α', mu=0, sd=10)\n",
    "    β = pm.Normal('β', mu=0, sd=2, shape=len(colnames))\n",
    "    μ = α + pm.math.dot(X, β)\n",
    "    θ = 1 / (1 + pm.math.exp(-μ))\n",
    "    bd = pm.Deterministic('bd', -α/β[1] - β[0]/β[1] * X[:,0])\n",
    "    y_pred = pm.Bernoulli('y_pred', p=θ, observed=y)\n",
    "    trace_q6 = pm.sample(1000)"
   ]
  },
  {
   "cell_type": "code",
   "execution_count": 31,
   "metadata": {},
   "outputs": [
    {
     "data": {
      "image/png": "[encoded data removed]",
      "text/plain": [
       "<Figure size 432x288 with 1 Axes>"
      ]
     },
     "metadata": {
      "needs_background": "light"
     },
     "output_type": "display_data"
    }
   ],
   "source": [
    "idx = np.argsort(X[:,0])\n",
    "\n",
    "bd = trace_q6['bd'].mean(0)[idx]\n",
    "\n",
    "plt.scatter(X[:, 0], X[:, 1], c= [f'C{l}' for l in y])\n",
    "plt.plot(X[:, 0][idx], bd, color='k')\n",
    "az.plot_hpd(X[:, 0], trace_q6['bd'], color='gray')\n",
    "plt.xlabel(colnames[0])\n",
    "plt.ylabel(colnames[1])\n",
    "_ = plt.show()"
   ]
  },
  {
   "cell_type": "markdown",
   "metadata": {},
   "source": [
    "## Question 7\n",
    "\n",
    "Suppose instead of a softmax regression, we use a simple linear model by coding (setosa = 0, versicolor = 1, and virginica = 2). Under the simple linear regression model, what will happen if we switch the coding? Will we get the same or different results?\n",
    "\n",
    "<p><font color=\"blue\"><p>We should get different coefficients for the two linear models, since with the simple coding described, the three species have a numeric relationship to each other, i.e., with the current coding setosa &lt; versicolor &lt; virginica, whereas with the reversed coding it would imply setosa &gt; versicolor &gt; virginica. Hence coefficients will change.</p></font></p>"
   ]
  },
  {
   "cell_type": "markdown",
   "metadata": {},
   "source": [
    "## Question 8\n",
    "\n",
    "Compare the likelihood of the logistic model versus the likelihood of the LDA model. Use the `sample_posterior_predictive` function to generate predicted data, and compare the types of data you get for both cases. Be sure you understand the difference between the types of data the model predicts."
   ]
  },
  {
   "cell_type": "code",
   "execution_count": 32,
   "metadata": {},
   "outputs": [
    {
     "data": {
      "text/plain": [
       "((100, 2), (100,))"
      ]
     },
     "execution_count": 32,
     "metadata": {},
     "output_type": "execute_result"
    }
   ],
   "source": [
    "iris_df = iris.query(\"species == ('setosa', 'versicolor')\")\n",
    "\n",
    "y = pd.Categorical(iris_df['species']).codes\n",
    "X = iris_df[[\"petal_length\", \"petal_width\"]].values\n",
    "Xc = X - np.mean(X, axis=0)\n",
    "Xc.shape, y.shape"
   ]
  },
  {
   "cell_type": "code",
   "execution_count": 33,
   "metadata": {},
   "outputs": [
    {
     "name": "stderr",
     "output_type": "stream",
     "text": [
      "Auto-assigning NUTS sampler...\n",
      "Initializing NUTS using jitter+adapt_diag...\n",
      "Multiprocess sampling (4 chains in 4 jobs)\n",
      "NUTS: [β, α]\n",
      "Sampling 4 chains: 100%|██████████| 10000/10000 [00:03<00:00, 2692.97draws/s]\n"
     ]
    }
   ],
   "source": [
    "with pm.Model() as model_q8_logistic:\n",
    "    α = pm.Normal('α', mu=0, sd=10)\n",
    "    β = pm.Normal('β', mu=0, sd=2, shape=2)\n",
    "    μ = α + pm.math.dot(Xc, β)\n",
    "    θ = pm.Deterministic('θ', 1 / (1 + pm.math.exp(-μ)))\n",
    "    bd = pm.Deterministic('bd', -α/β[1] - β[0]/β[1] * Xc[:, 0])\n",
    "    y_pred = pm.Bernoulli('y_pred', p=θ, observed=y)\n",
    "    trace_q8_logistic = pm.sample(2000)"
   ]
  },
  {
   "cell_type": "code",
   "execution_count": 34,
   "metadata": {},
   "outputs": [
    {
     "name": "stderr",
     "output_type": "stream",
     "text": [
      "Auto-assigning NUTS sampler...\n",
      "Initializing NUTS using jitter+adapt_diag...\n",
      "Multiprocess sampling (4 chains in 4 jobs)\n",
      "NUTS: [σ, μ]\n",
      "Sampling 4 chains: 100%|██████████| 6000/6000 [00:01<00:00, 3287.99draws/s]\n"
     ]
    }
   ],
   "source": [
    "with pm.Model() as model_q8_lda:\n",
    "    μ = pm.Normal('μ', mu=0, sd=10, shape=2)\n",
    "    σ = pm.HalfNormal('σ', 10)\n",
    "    setosa = pm.Normal('setosa', mu=μ[0], sd=σ, observed=Xc[:50])  # setosa\n",
    "    versicolor = pm.Normal('versicolor', mu=μ[1], sd=σ, observed=Xc[50:])  # versicolor\n",
    "    bd = pm.Deterministic('bd', (μ[0] + μ[1]) / 2)\n",
    "    trace_q8_lda = pm.sample(1000)"
   ]
  },
  {
   "cell_type": "code",
   "execution_count": 35,
   "metadata": {},
   "outputs": [
    {
     "data": {
      "text/html": [
       "<div>\n",
       "<style scoped>\n",
       "    .dataframe tbody tr th:only-of-type {\n",
       "        vertical-align: middle;\n",
       "    }\n",
       "\n",
       "    .dataframe tbody tr th {\n",
       "        vertical-align: top;\n",
       "    }\n",
       "\n",
       "    .dataframe thead th {\n",
       "        text-align: right;\n",
       "    }\n",
       "</style>\n",
       "<table border=\"1\" class=\"dataframe\">\n",
       "  <thead>\n",
       "    <tr style=\"text-align: right;\">\n",
       "      <th></th>\n",
       "      <th>mean</th>\n",
       "      <th>sd</th>\n",
       "      <th>mc error</th>\n",
       "      <th>hpd 3%</th>\n",
       "      <th>hpd 97%</th>\n",
       "      <th>eff_n</th>\n",
       "      <th>r_hat</th>\n",
       "    </tr>\n",
       "  </thead>\n",
       "  <tbody>\n",
       "    <tr>\n",
       "      <th>α</th>\n",
       "      <td>1.00</td>\n",
       "      <td>1.31</td>\n",
       "      <td>0.02</td>\n",
       "      <td>-1.27</td>\n",
       "      <td>3.60</td>\n",
       "      <td>3005.0</td>\n",
       "      <td>1.0</td>\n",
       "    </tr>\n",
       "    <tr>\n",
       "      <th>β[0]</th>\n",
       "      <td>4.14</td>\n",
       "      <td>1.23</td>\n",
       "      <td>0.02</td>\n",
       "      <td>2.04</td>\n",
       "      <td>6.61</td>\n",
       "      <td>3926.0</td>\n",
       "      <td>1.0</td>\n",
       "    </tr>\n",
       "    <tr>\n",
       "      <th>β[1]</th>\n",
       "      <td>1.75</td>\n",
       "      <td>1.80</td>\n",
       "      <td>0.03</td>\n",
       "      <td>-1.59</td>\n",
       "      <td>5.10</td>\n",
       "      <td>4486.0</td>\n",
       "      <td>1.0</td>\n",
       "    </tr>\n",
       "    <tr>\n",
       "      <th>θ[0]</th>\n",
       "      <td>0.01</td>\n",
       "      <td>0.01</td>\n",
       "      <td>0.00</td>\n",
       "      <td>0.00</td>\n",
       "      <td>0.02</td>\n",
       "      <td>7078.0</td>\n",
       "      <td>1.0</td>\n",
       "    </tr>\n",
       "    <tr>\n",
       "      <th>θ[1]</th>\n",
       "      <td>0.01</td>\n",
       "      <td>0.01</td>\n",
       "      <td>0.00</td>\n",
       "      <td>0.00</td>\n",
       "      <td>0.02</td>\n",
       "      <td>7078.0</td>\n",
       "      <td>1.0</td>\n",
       "    </tr>\n",
       "    <tr>\n",
       "      <th>...</th>\n",
       "      <td>...</td>\n",
       "      <td>...</td>\n",
       "      <td>...</td>\n",
       "      <td>...</td>\n",
       "      <td>...</td>\n",
       "      <td>...</td>\n",
       "      <td>...</td>\n",
       "    </tr>\n",
       "    <tr>\n",
       "      <th>bd[95]</th>\n",
       "      <td>-3.24</td>\n",
       "      <td>142.93</td>\n",
       "      <td>1.55</td>\n",
       "      <td>-33.28</td>\n",
       "      <td>27.27</td>\n",
       "      <td>7851.0</td>\n",
       "      <td>1.0</td>\n",
       "    </tr>\n",
       "    <tr>\n",
       "      <th>bd[96]</th>\n",
       "      <td>-3.24</td>\n",
       "      <td>142.93</td>\n",
       "      <td>1.55</td>\n",
       "      <td>-33.28</td>\n",
       "      <td>27.27</td>\n",
       "      <td>7851.0</td>\n",
       "      <td>1.0</td>\n",
       "    </tr>\n",
       "    <tr>\n",
       "      <th>bd[97]</th>\n",
       "      <td>-3.42</td>\n",
       "      <td>151.05</td>\n",
       "      <td>1.64</td>\n",
       "      <td>-34.72</td>\n",
       "      <td>29.50</td>\n",
       "      <td>7849.0</td>\n",
       "      <td>1.0</td>\n",
       "    </tr>\n",
       "    <tr>\n",
       "      <th>bd[98]</th>\n",
       "      <td>-1.09</td>\n",
       "      <td>48.96</td>\n",
       "      <td>0.52</td>\n",
       "      <td>-7.68</td>\n",
       "      <td>7.19</td>\n",
       "      <td>7956.0</td>\n",
       "      <td>1.0</td>\n",
       "    </tr>\n",
       "    <tr>\n",
       "      <th>bd[99]</th>\n",
       "      <td>-3.06</td>\n",
       "      <td>134.82</td>\n",
       "      <td>1.46</td>\n",
       "      <td>-31.40</td>\n",
       "      <td>25.35</td>\n",
       "      <td>7853.0</td>\n",
       "      <td>1.0</td>\n",
       "    </tr>\n",
       "  </tbody>\n",
       "</table>\n",
       "<p>203 rows × 7 columns</p>\n",
       "</div>"
      ],
      "text/plain": [
       "        mean      sd  mc error  hpd 3%  hpd 97%   eff_n  r_hat\n",
       "α       1.00    1.31      0.02   -1.27     3.60  3005.0    1.0\n",
       "β[0]    4.14    1.23      0.02    2.04     6.61  3926.0    1.0\n",
       "β[1]    1.75    1.80      0.03   -1.59     5.10  4486.0    1.0\n",
       "θ[0]    0.01    0.01      0.00    0.00     0.02  7078.0    1.0\n",
       "θ[1]    0.01    0.01      0.00    0.00     0.02  7078.0    1.0\n",
       "...      ...     ...       ...     ...      ...     ...    ...\n",
       "bd[95] -3.24  142.93      1.55  -33.28    27.27  7851.0    1.0\n",
       "bd[96] -3.24  142.93      1.55  -33.28    27.27  7851.0    1.0\n",
       "bd[97] -3.42  151.05      1.64  -34.72    29.50  7849.0    1.0\n",
       "bd[98] -1.09   48.96      0.52   -7.68     7.19  7956.0    1.0\n",
       "bd[99] -3.06  134.82      1.46  -31.40    25.35  7853.0    1.0\n",
       "\n",
       "[203 rows x 7 columns]"
      ]
     },
     "execution_count": 35,
     "metadata": {},
     "output_type": "execute_result"
    }
   ],
   "source": [
    "az.summary(trace_q8_logistic)"
   ]
  },
  {
   "cell_type": "code",
   "execution_count": 36,
   "metadata": {},
   "outputs": [
    {
     "name": "stderr",
     "output_type": "stream",
     "text": [
      "100%|██████████| 100/100 [00:00<00:00, 2100.13it/s]\n"
     ]
    },
    {
     "data": {
      "text/plain": [
       "({'y_pred': array([[0, 0, 0, ..., 1, 1, 1],\n",
       "         [0, 0, 0, ..., 1, 1, 1],\n",
       "         [0, 0, 0, ..., 1, 1, 1],\n",
       "         ...,\n",
       "         [0, 0, 0, ..., 1, 1, 1],\n",
       "         [0, 0, 0, ..., 1, 1, 1],\n",
       "         [0, 0, 0, ..., 1, 1, 1]])},\n",
       " dict_keys(['y_pred']))"
      ]
     },
     "execution_count": 36,
     "metadata": {},
     "output_type": "execute_result"
    }
   ],
   "source": [
    "pp_q8_logistic = pm.sample_posterior_predictive(trace_q8_logistic, 100, model_q8_logistic)\n",
    "pp_q8_logistic, pp_q8_logistic.keys()"
   ]
  },
  {
   "cell_type": "code",
   "execution_count": 37,
   "metadata": {},
   "outputs": [
    {
     "data": {
      "text/html": [
       "<div>\n",
       "<style scoped>\n",
       "    .dataframe tbody tr th:only-of-type {\n",
       "        vertical-align: middle;\n",
       "    }\n",
       "\n",
       "    .dataframe tbody tr th {\n",
       "        vertical-align: top;\n",
       "    }\n",
       "\n",
       "    .dataframe thead th {\n",
       "        text-align: right;\n",
       "    }\n",
       "</style>\n",
       "<table border=\"1\" class=\"dataframe\">\n",
       "  <thead>\n",
       "    <tr style=\"text-align: right;\">\n",
       "      <th></th>\n",
       "      <th>mean</th>\n",
       "      <th>sd</th>\n",
       "      <th>mc error</th>\n",
       "      <th>hpd 3%</th>\n",
       "      <th>hpd 97%</th>\n",
       "      <th>eff_n</th>\n",
       "      <th>r_hat</th>\n",
       "    </tr>\n",
       "  </thead>\n",
       "  <tbody>\n",
       "    <tr>\n",
       "      <th>μ[0]</th>\n",
       "      <td>-0.97</td>\n",
       "      <td>0.05</td>\n",
       "      <td>0.0</td>\n",
       "      <td>-1.07</td>\n",
       "      <td>-0.87</td>\n",
       "      <td>5589.0</td>\n",
       "      <td>1.0</td>\n",
       "    </tr>\n",
       "    <tr>\n",
       "      <th>μ[1]</th>\n",
       "      <td>0.97</td>\n",
       "      <td>0.05</td>\n",
       "      <td>0.0</td>\n",
       "      <td>0.87</td>\n",
       "      <td>1.06</td>\n",
       "      <td>5160.0</td>\n",
       "      <td>1.0</td>\n",
       "    </tr>\n",
       "    <tr>\n",
       "      <th>σ</th>\n",
       "      <td>0.51</td>\n",
       "      <td>0.03</td>\n",
       "      <td>0.0</td>\n",
       "      <td>0.47</td>\n",
       "      <td>0.56</td>\n",
       "      <td>5105.0</td>\n",
       "      <td>1.0</td>\n",
       "    </tr>\n",
       "    <tr>\n",
       "      <th>bd</th>\n",
       "      <td>0.00</td>\n",
       "      <td>0.04</td>\n",
       "      <td>0.0</td>\n",
       "      <td>-0.07</td>\n",
       "      <td>0.07</td>\n",
       "      <td>5921.0</td>\n",
       "      <td>1.0</td>\n",
       "    </tr>\n",
       "  </tbody>\n",
       "</table>\n",
       "</div>"
      ],
      "text/plain": [
       "      mean    sd  mc error  hpd 3%  hpd 97%   eff_n  r_hat\n",
       "μ[0] -0.97  0.05       0.0   -1.07    -0.87  5589.0    1.0\n",
       "μ[1]  0.97  0.05       0.0    0.87     1.06  5160.0    1.0\n",
       "σ     0.51  0.03       0.0    0.47     0.56  5105.0    1.0\n",
       "bd    0.00  0.04       0.0   -0.07     0.07  5921.0    1.0"
      ]
     },
     "execution_count": 37,
     "metadata": {},
     "output_type": "execute_result"
    }
   ],
   "source": [
    "az.summary(trace_q8_lda)"
   ]
  },
  {
   "cell_type": "code",
   "execution_count": 38,
   "metadata": {},
   "outputs": [
    {
     "name": "stderr",
     "output_type": "stream",
     "text": [
      "100%|██████████| 100/100 [00:00<00:00, 592.55it/s]\n"
     ]
    },
    {
     "data": {
      "text/plain": [
       "({'setosa': array([[[-0.88494451, -1.84021663],\n",
       "          [-1.54460001, -1.09286214],\n",
       "          [-0.94949233, -0.71392794],\n",
       "          ...,\n",
       "          [-1.47828353, -1.64582156],\n",
       "          [-0.84464474, -1.03143867],\n",
       "          [-1.15824386, -1.34464449]],\n",
       "  \n",
       "         [[-0.86379571, -0.59803326],\n",
       "          [-0.49868077, -0.62056058],\n",
       "          [-0.50994884, -0.62315517],\n",
       "          ...,\n",
       "          [-0.85780206, -1.48784646],\n",
       "          [-0.67784308, -2.0949224 ],\n",
       "          [-0.43018248, -0.76077922]],\n",
       "  \n",
       "         [[-0.66118265, -1.03302923],\n",
       "          [-0.4749032 , -0.83307967],\n",
       "          [-0.96888823, -0.72352132],\n",
       "          ...,\n",
       "          [-1.58428085, -0.64987982],\n",
       "          [-0.29217912, -1.06283388],\n",
       "          [-0.12784836, -0.69075326]],\n",
       "  \n",
       "         ...,\n",
       "  \n",
       "         [[-1.6269759 , -1.42103246],\n",
       "          [-1.21644735, -1.18217096],\n",
       "          [-1.46436776, -0.97655063],\n",
       "          ...,\n",
       "          [-0.7227777 , -1.494851  ],\n",
       "          [-0.14090609, -1.22522669],\n",
       "          [-0.56823372, -1.56144625]],\n",
       "  \n",
       "         [[-1.29265558, -0.95950311],\n",
       "          [-0.88204489, -0.10184096],\n",
       "          [-0.56023643, -0.83660087],\n",
       "          ...,\n",
       "          [-0.96275708, -0.6529971 ],\n",
       "          [-0.98073122, -0.87566219],\n",
       "          [-1.01555437, -1.32465884]],\n",
       "  \n",
       "         [[-1.06208104, -1.91697711],\n",
       "          [-1.2169769 , -0.82781907],\n",
       "          [-1.92885352, -0.48958473],\n",
       "          ...,\n",
       "          [-1.56152735, -0.83411877],\n",
       "          [-1.1601872 , -1.61229782],\n",
       "          [-0.65471658, -1.05276983]]]),\n",
       "  'versicolor': array([[[ 0.58880151,  0.9816373 ],\n",
       "          [ 1.35056406,  1.29101481],\n",
       "          [ 0.44187139,  0.62307232],\n",
       "          ...,\n",
       "          [ 1.40241077,  1.39188175],\n",
       "          [ 1.23801505,  1.33114609],\n",
       "          [ 0.91794266,  1.36417113]],\n",
       "  \n",
       "         [[ 0.06083798,  1.06896886],\n",
       "          [ 1.36572527,  0.4973159 ],\n",
       "          [ 1.21966754,  1.21665758],\n",
       "          ...,\n",
       "          [-0.09554549,  0.90787252],\n",
       "          [ 0.9399075 ,  2.07447764],\n",
       "          [ 1.06080489,  0.91511293]],\n",
       "  \n",
       "         [[ 1.27550967,  0.84481366],\n",
       "          [ 1.49397184,  0.67234055],\n",
       "          [ 0.44233055,  1.2463951 ],\n",
       "          ...,\n",
       "          [ 0.7278883 ,  1.02502783],\n",
       "          [ 1.40898325,  0.47196637],\n",
       "          [ 1.43222754,  0.74633679]],\n",
       "  \n",
       "         ...,\n",
       "  \n",
       "         [[ 1.13700021,  0.97168422],\n",
       "          [ 1.46815363,  1.6057456 ],\n",
       "          [ 0.00642606,  0.02742175],\n",
       "          ...,\n",
       "          [ 0.97643561,  0.01467291],\n",
       "          [ 0.36892837,  1.00960228],\n",
       "          [ 1.24802645,  0.95720207]],\n",
       "  \n",
       "         [[ 0.66791121,  0.78301133],\n",
       "          [ 0.80911743,  0.84890534],\n",
       "          [ 1.00144901,  0.6612745 ],\n",
       "          ...,\n",
       "          [ 1.43754978,  1.83249646],\n",
       "          [ 0.80582427,  1.10960891],\n",
       "          [ 1.23346418,  1.54775729]],\n",
       "  \n",
       "         [[ 0.86797305,  0.43960496],\n",
       "          [ 0.95039632,  0.77450929],\n",
       "          [ 0.35137459,  0.77868552],\n",
       "          ...,\n",
       "          [ 1.05101007,  0.90845417],\n",
       "          [ 1.33824772,  0.23124627],\n",
       "          [ 0.28544061,  1.05371326]]])},\n",
       " dict_keys(['setosa', 'versicolor']))"
      ]
     },
     "execution_count": 38,
     "metadata": {},
     "output_type": "execute_result"
    }
   ],
   "source": [
    "pp_q8_lda = pm.sample_posterior_predictive(trace_q8_lda, 100, model_q8_lda)\n",
    "pp_q8_lda, pp_q8_lda.keys()"
   ]
  },
  {
   "cell_type": "markdown",
   "metadata": {},
   "source": [
    "## Question 9\n",
    "\n",
    "Using the fish data, extend the ZIP_reg model to include the persons variable as part of a linear model. Include this variable to model the number of extra zeros. You should get a model that includes two linear models: one connecting the number of children and the presence/absence of a camper to the Poisson rate (as in the example we saw), and another connecting the number of persons to the variable. For the second case, you will need a logistic inverse link!"
   ]
  },
  {
   "cell_type": "code",
   "execution_count": 39,
   "metadata": {},
   "outputs": [
    {
     "data": {
      "text/html": [
       "<div>\n",
       "<style scoped>\n",
       "    .dataframe tbody tr th:only-of-type {\n",
       "        vertical-align: middle;\n",
       "    }\n",
       "\n",
       "    .dataframe tbody tr th {\n",
       "        vertical-align: top;\n",
       "    }\n",
       "\n",
       "    .dataframe thead th {\n",
       "        text-align: right;\n",
       "    }\n",
       "</style>\n",
       "<table border=\"1\" class=\"dataframe\">\n",
       "  <thead>\n",
       "    <tr style=\"text-align: right;\">\n",
       "      <th></th>\n",
       "      <th>nofish</th>\n",
       "      <th>livebait</th>\n",
       "      <th>camper</th>\n",
       "      <th>persons</th>\n",
       "      <th>child</th>\n",
       "      <th>xb</th>\n",
       "      <th>zg</th>\n",
       "      <th>count</th>\n",
       "    </tr>\n",
       "  </thead>\n",
       "  <tbody>\n",
       "    <tr>\n",
       "      <th>0</th>\n",
       "      <td>1</td>\n",
       "      <td>0</td>\n",
       "      <td>0</td>\n",
       "      <td>1</td>\n",
       "      <td>0</td>\n",
       "      <td>-0.896315</td>\n",
       "      <td>3.050405</td>\n",
       "      <td>0</td>\n",
       "    </tr>\n",
       "    <tr>\n",
       "      <th>1</th>\n",
       "      <td>0</td>\n",
       "      <td>1</td>\n",
       "      <td>1</td>\n",
       "      <td>1</td>\n",
       "      <td>0</td>\n",
       "      <td>-0.558345</td>\n",
       "      <td>1.746149</td>\n",
       "      <td>0</td>\n",
       "    </tr>\n",
       "    <tr>\n",
       "      <th>2</th>\n",
       "      <td>0</td>\n",
       "      <td>1</td>\n",
       "      <td>0</td>\n",
       "      <td>1</td>\n",
       "      <td>0</td>\n",
       "      <td>-0.401731</td>\n",
       "      <td>0.279939</td>\n",
       "      <td>0</td>\n",
       "    </tr>\n",
       "    <tr>\n",
       "      <th>3</th>\n",
       "      <td>0</td>\n",
       "      <td>1</td>\n",
       "      <td>1</td>\n",
       "      <td>2</td>\n",
       "      <td>1</td>\n",
       "      <td>-0.956298</td>\n",
       "      <td>-0.601526</td>\n",
       "      <td>0</td>\n",
       "    </tr>\n",
       "    <tr>\n",
       "      <th>4</th>\n",
       "      <td>0</td>\n",
       "      <td>1</td>\n",
       "      <td>0</td>\n",
       "      <td>1</td>\n",
       "      <td>0</td>\n",
       "      <td>0.436891</td>\n",
       "      <td>0.527709</td>\n",
       "      <td>1</td>\n",
       "    </tr>\n",
       "  </tbody>\n",
       "</table>\n",
       "</div>"
      ],
      "text/plain": [
       "   nofish  livebait  camper  persons  child        xb        zg  count\n",
       "0       1         0       0        1      0 -0.896315  3.050405      0\n",
       "1       0         1       1        1      0 -0.558345  1.746149      0\n",
       "2       0         1       0        1      0 -0.401731  0.279939      0\n",
       "3       0         1       1        2      1 -0.956298 -0.601526      0\n",
       "4       0         1       0        1      0  0.436891  0.527709      1"
      ]
     },
     "execution_count": 39,
     "metadata": {},
     "output_type": "execute_result"
    }
   ],
   "source": [
    "fish_df = pd.read_csv(\"../BAP/code/data/fish.csv\")\n",
    "fish_df.head()"
   ]
  },
  {
   "cell_type": "code",
   "execution_count": 40,
   "metadata": {},
   "outputs": [
    {
     "name": "stderr",
     "output_type": "stream",
     "text": [
      "Auto-assigning NUTS sampler...\n",
      "Initializing NUTS using jitter+adapt_diag...\n",
      "Multiprocess sampling (4 chains in 4 jobs)\n",
      "NUTS: [w, β1, α1, β0, α0, ψ]\n",
      "Sampling 4 chains: 100%|██████████| 6000/6000 [00:22<00:00, 263.00draws/s]\n",
      "The acceptance probability does not match the target. It is 0.7171482551541492, but should be close to 0.8. Try to increase the number of tuning steps.\n",
      "The acceptance probability does not match the target. It is 0.6722363873114168, but should be close to 0.8. Try to increase the number of tuning steps.\n"
     ]
    }
   ],
   "source": [
    "with pm.Model() as model_q9:\n",
    "\n",
    "    # from example\n",
    "    ψ0 = pm.Beta('ψ', 1, 1)\n",
    "    α0 = pm.Normal('α0', 0, 10)\n",
    "    β0 = pm.Normal('β0', 0, 10, shape=2)\n",
    "    θ0 = pm.Deterministic(\"θ0\", pm.math.exp(α0 + β0[0] * fish_df['child'] + β0[1] * fish_df['camper']))\n",
    "    comp_0 = pm.ZeroInflatedPoisson.dist(ψ0, θ0)\n",
    "\n",
    "    # person linear model\n",
    "    α1 = pm.Normal('α1', mu=0, sd=10)\n",
    "    β1 = pm.Normal('β1', mu=0, sd=10)\n",
    "    θ1 = pm.Deterministic(\"θ1\", α1 + β1 * fish_df[\"persons\"])\n",
    "    comp_1 = pm.Bernoulli.dist(p=pm.math.invlogit(θ1))\n",
    "    \n",
    "    # mixture\n",
    "    w = pm.Dirichlet(\"w\", a=np.array([1, 1]))\n",
    "    y_pred = pm.Mixture(\"y_pred\", w=w, comp_dists=[comp_0, comp_1], observed=fish_df['count'])\n",
    "    \n",
    "    trace_q9 = pm.sample(1000)"
   ]
  },
  {
   "cell_type": "code",
   "execution_count": 41,
   "metadata": {},
   "outputs": [
    {
     "data": {
      "text/html": [
       "<div>\n",
       "<style scoped>\n",
       "    .dataframe tbody tr th:only-of-type {\n",
       "        vertical-align: middle;\n",
       "    }\n",
       "\n",
       "    .dataframe tbody tr th {\n",
       "        vertical-align: top;\n",
       "    }\n",
       "\n",
       "    .dataframe thead th {\n",
       "        text-align: right;\n",
       "    }\n",
       "</style>\n",
       "<table border=\"1\" class=\"dataframe\">\n",
       "  <thead>\n",
       "    <tr style=\"text-align: right;\">\n",
       "      <th></th>\n",
       "      <th>mean</th>\n",
       "      <th>sd</th>\n",
       "      <th>mc error</th>\n",
       "      <th>hpd 3%</th>\n",
       "      <th>hpd 97%</th>\n",
       "      <th>eff_n</th>\n",
       "      <th>r_hat</th>\n",
       "    </tr>\n",
       "  </thead>\n",
       "  <tbody>\n",
       "    <tr>\n",
       "      <th>w[0]</th>\n",
       "      <td>0.88</td>\n",
       "      <td>0.02</td>\n",
       "      <td>0.0</td>\n",
       "      <td>0.85</td>\n",
       "      <td>0.92</td>\n",
       "      <td>1681.0</td>\n",
       "      <td>1.0</td>\n",
       "    </tr>\n",
       "    <tr>\n",
       "      <th>w[1]</th>\n",
       "      <td>0.12</td>\n",
       "      <td>0.02</td>\n",
       "      <td>0.0</td>\n",
       "      <td>0.08</td>\n",
       "      <td>0.15</td>\n",
       "      <td>1681.0</td>\n",
       "      <td>1.0</td>\n",
       "    </tr>\n",
       "  </tbody>\n",
       "</table>\n",
       "</div>"
      ],
      "text/plain": [
       "      mean    sd  mc error  hpd 3%  hpd 97%   eff_n  r_hat\n",
       "w[0]  0.88  0.02       0.0    0.85     0.92  1681.0    1.0\n",
       "w[1]  0.12  0.02       0.0    0.08     0.15  1681.0    1.0"
      ]
     },
     "execution_count": 41,
     "metadata": {},
     "output_type": "execute_result"
    }
   ],
   "source": [
    "az.summary(trace_q9, var_names=[\"w\"])"
   ]
  },
  {
   "cell_type": "code",
   "execution_count": 42,
   "metadata": {},
   "outputs": [
    {
     "data": {
      "image/png": "[encoded data removed]",
      "text/plain": [
       "<Figure size 864x288 with 4 Axes>"
      ]
     },
     "metadata": {
      "needs_background": "light"
     },
     "output_type": "display_data"
    }
   ],
   "source": [
    "_ = az.plot_trace(trace_q9, var_names=[\"w\"])"
   ]
  },
  {
   "cell_type": "markdown",
   "metadata": {},
   "source": [
    "## Question 10\n",
    "\n",
    "Use the data for the robust logistic example to feed a non-robust logistic regression model and to check that the outliers actually affected the results. You may want to add or remove outliers to better understand the effect of the\n",
    "estimation on a logistic regression and the robustness on the model introduced in this chapter.\n",
    "\n",
    "<p><font color=\"blue\">\n",
    "    <p>Non-robust model is unable to account for outliers. Double checked this by using non-robust model on data including and excluding outlers, latter model is better able to account for the data.</p>\n",
    "</font></p>"
   ]
  },
  {
   "cell_type": "code",
   "execution_count": 43,
   "metadata": {},
   "outputs": [
    {
     "data": {
      "text/plain": [
       "((106,), (106,))"
      ]
     },
     "execution_count": 43,
     "metadata": {},
     "output_type": "execute_result"
    }
   ],
   "source": [
    "iris_df = iris.query(\"species == ('setosa', 'versicolor')\")\n",
    "\n",
    "x0 = iris_df[\"sepal_length\"].values\n",
    "y0 = pd.Categorical(iris_df['species']).codes\n",
    "\n",
    "# add in some outliers\n",
    "x = np.concatenate((x0, [4.2, 4.5, 4.0, 4.3, 4.2, 4.4]))\n",
    "y = np.concatenate((y0, np.ones(6, dtype=int)))\n",
    "\n",
    "xc = x - x.mean()\n",
    "xc.shape, y.shape"
   ]
  },
  {
   "cell_type": "code",
   "execution_count": 44,
   "metadata": {},
   "outputs": [
    {
     "name": "stderr",
     "output_type": "stream",
     "text": [
      "Auto-assigning NUTS sampler...\n",
      "Initializing NUTS using jitter+adapt_diag...\n",
      "Multiprocess sampling (4 chains in 4 jobs)\n",
      "NUTS: [β, α]\n",
      "Sampling 4 chains: 100%|██████████| 6000/6000 [00:01<00:00, 3633.41draws/s]\n"
     ]
    }
   ],
   "source": [
    "with pm.Model() as model_q10a:\n",
    "    α = pm.Normal('α', mu=0, sd=10)\n",
    "    β = pm.Normal('β', mu=0, sd=10)\n",
    "    μ = α + xc * β\n",
    "    θ = pm.Deterministic('θ', pm.math.sigmoid(μ))\n",
    "    bd = pm.Deterministic('bd', -α/β)\n",
    "#     π = pm.Beta('π', 1., 1.)\n",
    "#     p = π * 0.5 + (1 - π) * θ\n",
    "#     yl = pm.Bernoulli('yl', p=p, observed=y_0)\n",
    "    y_pred = pm.Bernoulli('y_pred', p=θ, observed=y)\n",
    "    \n",
    "    trace_q10a = pm.sample(1000)"
   ]
  },
  {
   "cell_type": "code",
   "execution_count": 45,
   "metadata": {},
   "outputs": [
    {
     "data": {
      "text/html": [
       "<div>\n",
       "<style scoped>\n",
       "    .dataframe tbody tr th:only-of-type {\n",
       "        vertical-align: middle;\n",
       "    }\n",
       "\n",
       "    .dataframe tbody tr th {\n",
       "        vertical-align: top;\n",
       "    }\n",
       "\n",
       "    .dataframe thead th {\n",
       "        text-align: right;\n",
       "    }\n",
       "</style>\n",
       "<table border=\"1\" class=\"dataframe\">\n",
       "  <thead>\n",
       "    <tr style=\"text-align: right;\">\n",
       "      <th></th>\n",
       "      <th>mean</th>\n",
       "      <th>sd</th>\n",
       "      <th>mc error</th>\n",
       "      <th>hpd 3%</th>\n",
       "      <th>hpd 97%</th>\n",
       "      <th>eff_n</th>\n",
       "      <th>r_hat</th>\n",
       "    </tr>\n",
       "  </thead>\n",
       "  <tbody>\n",
       "    <tr>\n",
       "      <th>α</th>\n",
       "      <td>0.23</td>\n",
       "      <td>0.24</td>\n",
       "      <td>0.00</td>\n",
       "      <td>-0.23</td>\n",
       "      <td>0.69</td>\n",
       "      <td>3993.0</td>\n",
       "      <td>1.0</td>\n",
       "    </tr>\n",
       "    <tr>\n",
       "      <th>β</th>\n",
       "      <td>2.37</td>\n",
       "      <td>0.48</td>\n",
       "      <td>0.01</td>\n",
       "      <td>1.51</td>\n",
       "      <td>3.32</td>\n",
       "      <td>3672.0</td>\n",
       "      <td>1.0</td>\n",
       "    </tr>\n",
       "  </tbody>\n",
       "</table>\n",
       "</div>"
      ],
      "text/plain": [
       "   mean    sd  mc error  hpd 3%  hpd 97%   eff_n  r_hat\n",
       "α  0.23  0.24      0.00   -0.23     0.69  3993.0    1.0\n",
       "β  2.37  0.48      0.01    1.51     3.32  3672.0    1.0"
      ]
     },
     "execution_count": 45,
     "metadata": {},
     "output_type": "execute_result"
    }
   ],
   "source": [
    "az.summary(trace_q10a, var_names=[\"α\", \"β\"])"
   ]
  },
  {
   "cell_type": "code",
   "execution_count": 46,
   "metadata": {},
   "outputs": [
    {
     "data": {
      "image/png": "[encoded data removed]",
      "text/plain": [
       "<Figure size 432x288 with 1 Axes>"
      ]
     },
     "metadata": {
      "needs_background": "light"
     },
     "output_type": "display_data"
    }
   ],
   "source": [
    "theta = trace_q10a['θ'].mean(axis=0)\n",
    "idx = np.argsort(xc)\n",
    "\n",
    "plt.plot(xc[idx], theta[idx], color='C2', lw=3)\n",
    "plt.vlines(trace_q10a['bd'].mean(), 0, 1, color='k')\n",
    "bd_hpd = az.hpd(trace_q10a['bd'])\n",
    "plt.fill_betweenx([0, 1], bd_hpd[0], bd_hpd[1], color='k', alpha=0.5)\n",
    "plt.scatter(xc, np.random.normal(y, 0.02), marker='.', color=[f'C{l}' for l in y])\n",
    "az.plot_hpd(xc, trace_q10a['θ'], color='C2')\n",
    "plt.xlabel(\"sepal_length\")\n",
    "plt.ylabel(\"theta\")\n",
    "locs, _ = plt.xticks()\n",
    "plt.xticks(locs, np.round(locs + xc.mean(), 1))\n",
    "\n",
    "_ = plt.show()"
   ]
  },
  {
   "cell_type": "code",
   "execution_count": 47,
   "metadata": {},
   "outputs": [
    {
     "data": {
      "text/plain": [
       "((100,), (100,))"
      ]
     },
     "execution_count": 47,
     "metadata": {},
     "output_type": "execute_result"
    }
   ],
   "source": [
    "# remove outliers\n",
    "xc = xc[0:100]\n",
    "y = y[0:100]\n",
    "\n",
    "xc.shape, y.shape"
   ]
  },
  {
   "cell_type": "code",
   "execution_count": 48,
   "metadata": {},
   "outputs": [
    {
     "name": "stderr",
     "output_type": "stream",
     "text": [
      "Auto-assigning NUTS sampler...\n",
      "Initializing NUTS using jitter+adapt_diag...\n",
      "Multiprocess sampling (4 chains in 4 jobs)\n",
      "NUTS: [β, α]\n",
      "Sampling 4 chains: 100%|██████████| 6000/6000 [00:01<00:00, 3724.46draws/s]\n"
     ]
    }
   ],
   "source": [
    "with pm.Model() as model_q10b:\n",
    "    α = pm.Normal('α', mu=0, sd=10)\n",
    "    β = pm.Normal('β', mu=0, sd=10)\n",
    "    μ = α + xc * β\n",
    "    θ = pm.Deterministic('θ', pm.math.sigmoid(μ))\n",
    "    bd = pm.Deterministic('bd', -α/β)\n",
    "    y_pred = pm.Bernoulli('y_pred', p=θ, observed=y)\n",
    "    \n",
    "    trace_q10b = pm.sample(1000)"
   ]
  },
  {
   "cell_type": "code",
   "execution_count": 49,
   "metadata": {},
   "outputs": [
    {
     "data": {
      "image/png": "[encoded data removed]",
      "text/plain": [
       "<Figure size 432x288 with 1 Axes>"
      ]
     },
     "metadata": {
      "needs_background": "light"
     },
     "output_type": "display_data"
    }
   ],
   "source": [
    "theta = trace_q10b['θ'].mean(axis=0)\n",
    "idx = np.argsort(xc)\n",
    "\n",
    "plt.plot(xc[idx], theta[idx], color='C2', lw=3)\n",
    "plt.vlines(trace_q10b['bd'].mean(), 0, 1, color='k')\n",
    "bd_hpd = az.hpd(trace_q10b['bd'])\n",
    "plt.fill_betweenx([0, 1], bd_hpd[0], bd_hpd[1], color='k', alpha=0.5)\n",
    "plt.scatter(xc, np.random.normal(y, 0.02), marker='.', color=[f'C{l}' for l in y])\n",
    "az.plot_hpd(xc, trace_q10b['θ'], color='C2')\n",
    "plt.xlabel(\"sepal_length\")\n",
    "plt.ylabel(\"theta\")\n",
    "locs, _ = plt.xticks()\n",
    "plt.xticks(locs, np.round(locs + xc.mean(), 1))\n",
    "\n",
    "_ = plt.show()"
   ]
  },
  {
   "cell_type": "markdown",
   "metadata": {},
   "source": [
    "## Question 11\n",
    "\n",
    "Read and run the following notebooks from PyMC3's documentation:\n",
    "* [GLM: Linear Regression](https://docs.pymc.io/notebooks/GLM-linear.html)\n",
    "* [GLM: Robust Linear Regression](https://docs.pymc.io/notebooks/GLM-robust.html)\n",
    "* [GLM: Hierarchical Linear Regression](https://docs.pymc.io/notebooks/GLM-hierarchical.html)\n"
   ]
  },
  {
   "cell_type": "code",
   "execution_count": null,
   "metadata": {},
   "outputs": [],
   "source": []
  }
 ],
 "metadata": {
  "kernelspec": {
   "display_name": "Python (BAP)",
   "language": "python",
   "name": "bap"
  },
  "language_info": {
   "codemirror_mode": {
    "name": "ipython",
    "version": 3
   },
   "file_extension": ".py",
   "mimetype": "text/x-python",
   "name": "python",
   "nbconvert_exporter": "python",
   "pygments_lexer": "ipython3",
   "version": "3.6.10"
  }
 },
 "nbformat": 4,
 "nbformat_minor": 4
}
